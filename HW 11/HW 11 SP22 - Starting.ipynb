{
 "cells": [
  {
   "cell_type": "markdown",
   "id": "24cc5e92",
   "metadata": {},
   "source": [
    "# Convolutional Neural Networks"
   ]
  },
  {
   "cell_type": "markdown",
   "id": "1c53a84a",
   "metadata": {},
   "source": [
    "## 1. What are Convolutional Neural Networks"
   ]
  },
  {
   "cell_type": "markdown",
   "id": "f8832011",
   "metadata": {},
   "source": [
    "## 2. Why CNNs were introduced when Fully connected ANNs were already there"
   ]
  },
  {
   "cell_type": "markdown",
   "id": "32169e18",
   "metadata": {},
   "source": [
    "## 3. What is meant by the following terms: convolutional layer, pooling layer, padding, stride"
   ]
  },
  {
   "cell_type": "markdown",
   "id": "fc9efde8",
   "metadata": {},
   "source": [
    "## 4. What would be the size of the output if input is n^2, filter is f^2 and stride is of s "
   ]
  },
  {
   "cell_type": "markdown",
   "id": "c2777f3b",
   "metadata": {},
   "source": [
    "## 5. What are pre-trained models and what do you mean by transfer learning"
   ]
  },
  {
   "cell_type": "markdown",
   "id": "95b20a28",
   "metadata": {},
   "source": [
    "## 6. Discuss CPU vs GPU vs TPU"
   ]
  },
  {
   "cell_type": "markdown",
   "id": "078190a4",
   "metadata": {},
   "source": [
    "## 7. Perform CNN classification on citrus leaves dataset from tensorflow \n",
    "##     (try to achieve minimum 90% accuracy and above on the test set)\n",
    "##     Can be found using the link: https://www.tensorflow.org/datasets/catalog/citrus_leaves"
   ]
  },
  {
   "cell_type": "markdown",
   "id": "40eac93e",
   "metadata": {},
   "source": [
    "## 8. Plot the model architecture and explain how did you decide number of layers, filter size and other hyper parameters"
   ]
  },
  {
   "cell_type": "markdown",
   "id": "ff5fb8b5",
   "metadata": {},
   "source": [
    "## 9. Increase the accuracy of the model in the demo file."
   ]
  }
 ],
 "metadata": {
  "kernelspec": {
   "display_name": "Python 3 (ipykernel)",
   "language": "python",
   "name": "python3"
  },
  "language_info": {
   "codemirror_mode": {
    "name": "ipython",
    "version": 3
   },
   "file_extension": ".py",
   "mimetype": "text/x-python",
   "name": "python",
   "nbconvert_exporter": "python",
   "pygments_lexer": "ipython3",
   "version": "3.7.13"
  }
 },
 "nbformat": 4,
 "nbformat_minor": 5
}
