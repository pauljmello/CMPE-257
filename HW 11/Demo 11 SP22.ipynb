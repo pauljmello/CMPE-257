{
 "cells": [
  {
   "cell_type": "markdown",
   "metadata": {
    "id": "sDvsdPv6fRQf"
   },
   "source": [
    "# Convolutional Neural Networks"
   ]
  },
  {
   "cell_type": "code",
   "execution_count": 1,
   "metadata": {
    "executionInfo": {
     "elapsed": 422,
     "status": "ok",
     "timestamp": 1643136449704,
     "user": {
      "displayName": "Ishan Hitesh Malkan",
      "photoUrl": "https://lh3.googleusercontent.com/a/default-user=s64",
      "userId": "17234277619718362545"
     },
     "user_tz": -330
    },
    "id": "K7ud55i5eq6Q"
   },
   "outputs": [],
   "source": [
    "# importing required libraries\n",
    "import numpy as np\n",
    "import pandas as pd\n",
    "import matplotlib.pyplot as plt\n",
    "import tensorflow as tf\n",
    "import tensorflow.keras\n",
    "\n",
    "from tensorflow.keras import layers\n",
    "from tensorflow.keras.datasets import fashion_mnist\n",
    "from tensorflow.keras.utils import to_categorical\n",
    "from tensorflow.keras.models import Sequential, Model\n",
    "from tensorflow.keras.layers import Dense, Dropout, Flatten, Conv2D, MaxPooling2D, BatchNormalization, LeakyReLU\n",
    "from sklearn.model_selection import train_test_split"
   ]
  },
  {
   "cell_type": "code",
   "execution_count": 2,
   "metadata": {},
   "outputs": [
    {
     "name": "stdout",
     "output_type": "stream",
     "text": [
      "2.3.0\n"
     ]
    }
   ],
   "source": [
    "print(tensorflow.__version__)"
   ]
  },
  {
   "cell_type": "code",
   "execution_count": 3,
   "metadata": {
    "colab": {
     "base_uri": "https://localhost:8080/"
    },
    "executionInfo": {
     "elapsed": 1472,
     "status": "ok",
     "timestamp": 1643135361601,
     "user": {
      "displayName": "Ishan Hitesh Malkan",
      "photoUrl": "https://lh3.googleusercontent.com/a/default-user=s64",
      "userId": "17234277619718362545"
     },
     "user_tz": -330
    },
    "id": "e2Y2daGCfCXC",
    "outputId": "247f3682-ff19-4f30-ae3d-e547c849f78a"
   },
   "outputs": [
    {
     "name": "stdout",
     "output_type": "stream",
     "text": [
      "Training data shape :  (60000, 28, 28) (60000,)\n",
      "Testing data shape :  (10000, 28, 28) (10000,)\n"
     ]
    }
   ],
   "source": [
    "# loading the fashion mnist dataset\n",
    "\n",
    "#The Fashion-MNIST dataset is a dataset of Zalando's article images, with 28x28 grayscale images of 70,000 fashion products from 10 categories, and 7,000 images per category. The training set has 60,000 images, and the test set has 10,000 images.\n",
    "\n",
    "(train_X,train_Y), (test_X,test_Y) = fashion_mnist.load_data()\n",
    "print('Training data shape : ', train_X.shape, train_Y.shape)\n",
    "print('Testing data shape : ', test_X.shape, test_Y.shape)"
   ]
  },
  {
   "cell_type": "code",
   "execution_count": 4,
   "metadata": {
    "colab": {
     "base_uri": "https://localhost:8080/"
    },
    "executionInfo": {
     "elapsed": 392,
     "status": "ok",
     "timestamp": 1643135556701,
     "user": {
      "displayName": "Ishan Hitesh Malkan",
      "photoUrl": "https://lh3.googleusercontent.com/a/default-user=s64",
      "userId": "17234277619718362545"
     },
     "user_tz": -330
    },
    "id": "kglDxbi4f8-j",
    "outputId": "77052f02-8f72-42db-df67-ce64d35e79b4"
   },
   "outputs": [
    {
     "data": {
      "text/plain": [
       "9    6000\n",
       "0    6000\n",
       "3    6000\n",
       "2    6000\n",
       "7    6000\n",
       "5    6000\n",
       "1    6000\n",
       "6    6000\n",
       "4    6000\n",
       "8    6000\n",
       "dtype: int64"
      ]
     },
     "execution_count": 4,
     "metadata": {},
     "output_type": "execute_result"
    }
   ],
   "source": [
    "# distribution of target variable\n",
    "pd.Series(train_Y).value_counts()"
   ]
  },
  {
   "cell_type": "code",
   "execution_count": 5,
   "metadata": {
    "colab": {
     "base_uri": "https://localhost:8080/",
     "height": 208
    },
    "executionInfo": {
     "elapsed": 895,
     "status": "ok",
     "timestamp": 1643135628174,
     "user": {
      "displayName": "Ishan Hitesh Malkan",
      "photoUrl": "https://lh3.googleusercontent.com/a/default-user=s64",
      "userId": "17234277619718362545"
     },
     "user_tz": -330
    },
    "id": "IKA1na_bgTzB",
    "outputId": "fee637a0-5478-424f-851d-47d3be9ece63"
   },
   "outputs": [
    {
     "data": {
      "text/plain": [
       "Text(0.5, 1.0, 'Ground Truth : 2')"
      ]
     },
     "execution_count": 5,
     "metadata": {},
     "output_type": "execute_result"
    },
    {
     "data": {
      "image/png": "[encoded data removed]",
      "text/plain": [
       "<Figure size 360x360 with 2 Axes>"
      ]
     },
     "metadata": {
      "needs_background": "light"
     },
     "output_type": "display_data"
    }
   ],
   "source": [
    "# Display the first image in training data\n",
    "plt.figure(figsize=[5,5])\n",
    "plt.subplot(121)\n",
    "plt.imshow(train_X[0,:,:], cmap = 'gray')\n",
    "plt.title(\"Ground Truth : {}\".format(train_Y[0]))\n",
    "\n",
    "# Display the first image in testing data\n",
    "plt.subplot(122)\n",
    "plt.imshow(train_X[1,:,:], cmap = 'gray')\n",
    "plt.title(\"Ground Truth : {}\".format(test_Y[1]))"
   ]
  },
  {
   "cell_type": "code",
   "execution_count": 6,
   "metadata": {
    "colab": {
     "base_uri": "https://localhost:8080/"
    },
    "executionInfo": {
     "elapsed": 2,
     "status": "ok",
     "timestamp": 1643135688358,
     "user": {
      "displayName": "Ishan Hitesh Malkan",
      "photoUrl": "https://lh3.googleusercontent.com/a/default-user=s64",
      "userId": "17234277619718362545"
     },
     "user_tz": -330
    },
    "id": "9wwVVEgYg-wO",
    "outputId": "0c50d76c-2446-4921-f286-fb1fff045b66"
   },
   "outputs": [
    {
     "data": {
      "text/plain": [
       "((60000, 28, 28, 1), (10000, 28, 28, 1))"
      ]
     },
     "execution_count": 6,
     "metadata": {},
     "output_type": "execute_result"
    }
   ],
   "source": [
    "# reshaping the data\n",
    "train_X = train_X.reshape(-1, 28,28, 1)\n",
    "test_X = test_X.reshape(-1, 28,28, 1)\n",
    "train_X.shape, test_X.shape"
   ]
  },
  {
   "cell_type": "code",
   "execution_count": 7,
   "metadata": {
    "executionInfo": {
     "elapsed": 409,
     "status": "ok",
     "timestamp": 1643135721980,
     "user": {
      "displayName": "Ishan Hitesh Malkan",
      "photoUrl": "https://lh3.googleusercontent.com/a/default-user=s64",
      "userId": "17234277619718362545"
     },
     "user_tz": -330
    },
    "id": "0GpGS92zhNkf"
   },
   "outputs": [],
   "source": [
    "# getting the pixel values between 0 and 1\n",
    "train_X = train_X.astype('float32')\n",
    "test_X = test_X.astype('float32')\n",
    "train_X = train_X / 255.0\n",
    "test_X = test_X / 255.0"
   ]
  },
  {
   "cell_type": "code",
   "execution_count": 8,
   "metadata": {
    "colab": {
     "base_uri": "https://localhost:8080/"
    },
    "executionInfo": {
     "elapsed": 414,
     "status": "ok",
     "timestamp": 1643135758195,
     "user": {
      "displayName": "Ishan Hitesh Malkan",
      "photoUrl": "https://lh3.googleusercontent.com/a/default-user=s64",
      "userId": "17234277619718362545"
     },
     "user_tz": -330
    },
    "id": "d-s-rDkqhVxD",
    "outputId": "c999137a-653d-4ee5-82c4-3168d9eeef79"
   },
   "outputs": [
    {
     "name": "stdout",
     "output_type": "stream",
     "text": [
      "Original label: 9\n",
      "After conversion to one-hot: [0. 0. 0. 0. 0. 0. 0. 0. 0. 1.]\n"
     ]
    }
   ],
   "source": [
    "# Change the labels from categorical to one-hot encoding\n",
    "train_Y_one_hot = to_categorical(train_Y)\n",
    "test_Y_one_hot = to_categorical(test_Y)\n",
    "\n",
    "# Display the change for category label using one-hot encoding\n",
    "print('Original label:', train_Y[0])\n",
    "print('After conversion to one-hot:', train_Y_one_hot[0])"
   ]
  },
  {
   "cell_type": "code",
   "execution_count": 9,
   "metadata": {
    "executionInfo": {
     "elapsed": 434,
     "status": "ok",
     "timestamp": 1643136471607,
     "user": {
      "displayName": "Ishan Hitesh Malkan",
      "photoUrl": "https://lh3.googleusercontent.com/a/default-user=s64",
      "userId": "17234277619718362545"
     },
     "user_tz": -330
    },
    "id": "s7PGfcHLj9vz"
   },
   "outputs": [],
   "source": [
    "# creating validation set\n",
    "train_X,valid_X,train_label,valid_label = train_test_split(train_X, train_Y_one_hot, test_size = 0.2, random_state = 100)"
   ]
  },
  {
   "cell_type": "code",
   "execution_count": 10,
   "metadata": {
    "executionInfo": {
     "elapsed": 5,
     "status": "ok",
     "timestamp": 1643135976482,
     "user": {
      "displayName": "Ishan Hitesh Malkan",
      "photoUrl": "https://lh3.googleusercontent.com/a/default-user=s64",
      "userId": "17234277619718362545"
     },
     "user_tz": -330
    },
    "id": "6CqBRPhLhenI"
   },
   "outputs": [],
   "source": [
    "# setting the batch size, epochs and number of classes\n",
    "batch_size = 64\n",
    "epochs = 20\n",
    "num_classes = 10"
   ]
  },
  {
   "cell_type": "code",
   "execution_count": 11,
   "metadata": {
    "executionInfo": {
     "elapsed": 374,
     "status": "ok",
     "timestamp": 1643136166249,
     "user": {
      "displayName": "Ishan Hitesh Malkan",
      "photoUrl": "https://lh3.googleusercontent.com/a/default-user=s64",
      "userId": "17234277619718362545"
     },
     "user_tz": -330
    },
    "id": "xl5iEojoiUFd"
   },
   "outputs": [],
   "source": [
    "# creating the network\n",
    "fashion_model = Sequential()\n",
    "fashion_model.add(Conv2D(32, kernel_size=(3, 3), activation = 'linear', input_shape=(28, 28, 1), padding = 'same'))\n",
    "fashion_model.add(LeakyReLU(alpha = 0.1))\n",
    "fashion_model.add(MaxPooling2D((2, 2), padding = 'same'))\n",
    "fashion_model.add(Conv2D(64, (3, 3), activation='linear', padding = 'same'))\n",
    "fashion_model.add(LeakyReLU(alpha = 0.1))\n",
    "fashion_model.add(MaxPooling2D(pool_size = (2, 2), padding = 'same'))\n",
    "fashion_model.add(Conv2D(128, (3, 3), activation = 'linear', padding = 'same'))\n",
    "fashion_model.add(LeakyReLU(alpha = 0.1))                  \n",
    "fashion_model.add(MaxPooling2D(pool_size = (2, 2), padding = 'same'))\n",
    "fashion_model.add(Flatten())\n",
    "fashion_model.add(Dense(128, activation = 'linear'))\n",
    "fashion_model.add(LeakyReLU(alpha = 0.1))                  \n",
    "fashion_model.add(Dense(num_classes, activation = 'softmax'))"
   ]
  },
  {
   "cell_type": "code",
   "execution_count": 12,
   "metadata": {
    "executionInfo": {
     "elapsed": 401,
     "status": "ok",
     "timestamp": 1643136268719,
     "user": {
      "displayName": "Ishan Hitesh Malkan",
      "photoUrl": "https://lh3.googleusercontent.com/a/default-user=s64",
      "userId": "17234277619718362545"
     },
     "user_tz": -330
    },
    "id": "V8h7jJDEjCP_"
   },
   "outputs": [],
   "source": [
    "# compiling the model\n",
    "fashion_model.compile(loss = tensorflow.keras.losses.categorical_crossentropy, optimizer = tensorflow.keras.optimizers.Adam(), metrics = ['accuracy'])"
   ]
  },
  {
   "cell_type": "code",
   "execution_count": 13,
   "metadata": {
    "colab": {
     "base_uri": "https://localhost:8080/"
    },
    "executionInfo": {
     "elapsed": 389,
     "status": "ok",
     "timestamp": 1643136277537,
     "user": {
      "displayName": "Ishan Hitesh Malkan",
      "photoUrl": "https://lh3.googleusercontent.com/a/default-user=s64",
      "userId": "17234277619718362545"
     },
     "user_tz": -330
    },
    "id": "ToJ_DFdOjTcb",
    "outputId": "f1012d55-b9ba-4acf-c458-f3d70f564a37"
   },
   "outputs": [
    {
     "name": "stdout",
     "output_type": "stream",
     "text": [
      "Model: \"sequential\"\n",
      "_________________________________________________________________\n",
      "Layer (type)                 Output Shape              Param #   \n",
      "=================================================================\n",
      "conv2d (Conv2D)              (None, 28, 28, 32)        320       \n",
      "_________________________________________________________________\n",
      "leaky_re_lu (LeakyReLU)      (None, 28, 28, 32)        0         \n",
      "_________________________________________________________________\n",
      "max_pooling2d (MaxPooling2D) (None, 14, 14, 32)        0         \n",
      "_________________________________________________________________\n",
      "conv2d_1 (Conv2D)            (None, 14, 14, 64)        18496     \n",
      "_________________________________________________________________\n",
      "leaky_re_lu_1 (LeakyReLU)    (None, 14, 14, 64)        0         \n",
      "_________________________________________________________________\n",
      "max_pooling2d_1 (MaxPooling2 (None, 7, 7, 64)          0         \n",
      "_________________________________________________________________\n",
      "conv2d_2 (Conv2D)            (None, 7, 7, 128)         73856     \n",
      "_________________________________________________________________\n",
      "leaky_re_lu_2 (LeakyReLU)    (None, 7, 7, 128)         0         \n",
      "_________________________________________________________________\n",
      "max_pooling2d_2 (MaxPooling2 (None, 4, 4, 128)         0         \n",
      "_________________________________________________________________\n",
      "flatten (Flatten)            (None, 2048)              0         \n",
      "_________________________________________________________________\n",
      "dense (Dense)                (None, 128)               262272    \n",
      "_________________________________________________________________\n",
      "leaky_re_lu_3 (LeakyReLU)    (None, 128)               0         \n",
      "_________________________________________________________________\n",
      "dense_1 (Dense)              (None, 10)                1290      \n",
      "=================================================================\n",
      "Total params: 356,234\n",
      "Trainable params: 356,234\n",
      "Non-trainable params: 0\n",
      "_________________________________________________________________\n"
     ]
    }
   ],
   "source": [
    "fashion_model.summary()"
   ]
  },
  {
   "cell_type": "code",
   "execution_count": 14,
   "metadata": {
    "colab": {
     "base_uri": "https://localhost:8080/"
    },
    "executionInfo": {
     "elapsed": 1585552,
     "status": "ok",
     "timestamp": 1643138071800,
     "user": {
      "displayName": "Ishan Hitesh Malkan",
      "photoUrl": "https://lh3.googleusercontent.com/a/default-user=s64",
      "userId": "17234277619718362545"
     },
     "user_tz": -330
    },
    "id": "G3DYs4owjdfn",
    "outputId": "cef21212-b00f-4fe2-fe20-c18dd449a86c"
   },
   "outputs": [
    {
     "name": "stdout",
     "output_type": "stream",
     "text": [
      "Epoch 1/20\n",
      "750/750 [==============================] - 22s 29ms/step - loss: 0.4654 - accuracy: 0.8314 - val_loss: 0.2931 - val_accuracy: 0.8925\n",
      "Epoch 2/20\n",
      "750/750 [==============================] - 22s 29ms/step - loss: 0.2865 - accuracy: 0.8956 - val_loss: 0.2883 - val_accuracy: 0.8952\n",
      "Epoch 3/20\n",
      "750/750 [==============================] - 22s 29ms/step - loss: 0.2403 - accuracy: 0.9127 - val_loss: 0.2337 - val_accuracy: 0.9143\n",
      "Epoch 4/20\n",
      "750/750 [==============================] - 22s 29ms/step - loss: 0.2093 - accuracy: 0.9230 - val_loss: 0.2258 - val_accuracy: 0.9173\n",
      "Epoch 5/20\n",
      "750/750 [==============================] - 22s 29ms/step - loss: 0.1811 - accuracy: 0.9332 - val_loss: 0.2108 - val_accuracy: 0.9208\n",
      "Epoch 6/20\n",
      "750/750 [==============================] - 22s 29ms/step - loss: 0.1577 - accuracy: 0.9420 - val_loss: 0.2221 - val_accuracy: 0.9202\n",
      "Epoch 7/20\n",
      "750/750 [==============================] - 22s 29ms/step - loss: 0.1375 - accuracy: 0.9496 - val_loss: 0.2217 - val_accuracy: 0.9208\n",
      "Epoch 8/20\n",
      "750/750 [==============================] - 22s 29ms/step - loss: 0.1183 - accuracy: 0.9564 - val_loss: 0.2285 - val_accuracy: 0.9222\n",
      "Epoch 9/20\n",
      "750/750 [==============================] - 22s 29ms/step - loss: 0.1005 - accuracy: 0.9629 - val_loss: 0.2322 - val_accuracy: 0.9241\n",
      "Epoch 10/20\n",
      "750/750 [==============================] - 22s 29ms/step - loss: 0.0835 - accuracy: 0.9693 - val_loss: 0.2682 - val_accuracy: 0.9174\n",
      "Epoch 11/20\n",
      "750/750 [==============================] - 22s 29ms/step - loss: 0.0740 - accuracy: 0.9717 - val_loss: 0.2595 - val_accuracy: 0.9267\n",
      "Epoch 12/20\n",
      "750/750 [==============================] - 22s 29ms/step - loss: 0.0640 - accuracy: 0.9756 - val_loss: 0.3168 - val_accuracy: 0.9228\n",
      "Epoch 13/20\n",
      "750/750 [==============================] - 22s 29ms/step - loss: 0.0552 - accuracy: 0.9791 - val_loss: 0.3145 - val_accuracy: 0.9227\n",
      "Epoch 14/20\n",
      "750/750 [==============================] - 22s 29ms/step - loss: 0.0469 - accuracy: 0.9820 - val_loss: 0.3400 - val_accuracy: 0.9222\n",
      "Epoch 15/20\n",
      "750/750 [==============================] - 21s 27ms/step - loss: 0.0434 - accuracy: 0.9841 - val_loss: 0.3342 - val_accuracy: 0.9236\n",
      "Epoch 16/20\n",
      "750/750 [==============================] - 20s 27ms/step - loss: 0.0401 - accuracy: 0.9858 - val_loss: 0.3663 - val_accuracy: 0.9199\n",
      "Epoch 17/20\n",
      "750/750 [==============================] - 20s 27ms/step - loss: 0.0357 - accuracy: 0.9867 - val_loss: 0.3791 - val_accuracy: 0.9261\n",
      "Epoch 18/20\n",
      "750/750 [==============================] - 20s 27ms/step - loss: 0.0286 - accuracy: 0.9892 - val_loss: 0.3878 - val_accuracy: 0.9202\n",
      "Epoch 19/20\n",
      "750/750 [==============================] - 20s 27ms/step - loss: 0.0335 - accuracy: 0.9876 - val_loss: 0.3787 - val_accuracy: 0.9233\n",
      "Epoch 20/20\n",
      "750/750 [==============================] - 20s 27ms/step - loss: 0.0293 - accuracy: 0.9893 - val_loss: 0.4152 - val_accuracy: 0.9240\n"
     ]
    }
   ],
   "source": [
    "# training the model\n",
    "fashion_train = fashion_model.fit(train_X, train_label, batch_size = batch_size, epochs = epochs, verbose = 1, validation_data = (valid_X, valid_label))"
   ]
  },
  {
   "cell_type": "code",
   "execution_count": 15,
   "metadata": {
    "colab": {
     "base_uri": "https://localhost:8080/"
    },
    "executionInfo": {
     "elapsed": 6029,
     "status": "ok",
     "timestamp": 1643138473248,
     "user": {
      "displayName": "Ishan Hitesh Malkan",
      "photoUrl": "https://lh3.googleusercontent.com/a/default-user=s64",
      "userId": "17234277619718362545"
     },
     "user_tz": -330
    },
    "id": "MVhY1-7okQd9",
    "outputId": "d8a5e0a5-b043-46f2-ffe2-1a6e12c16a10"
   },
   "outputs": [
    {
     "name": "stdout",
     "output_type": "stream",
     "text": [
      "313/313 [==============================] - 1s 4ms/step - loss: 0.4810 - accuracy: 0.9167\n",
      "Test accuracy: 0.916700005531311\n"
     ]
    }
   ],
   "source": [
    "# model evaluation\n",
    "test_eval = fashion_model.evaluate(test_X, test_Y_one_hot, verbose = 1)\n",
    "print('Test accuracy:', test_eval[1])"
   ]
  },
  {
   "cell_type": "code",
   "execution_count": 16,
   "metadata": {
    "id": "gQ71rfcTr0Fu"
   },
   "outputs": [],
   "source": [
    "# Try to improve the accuracy of the above model by hyper parameter tuning and adding / removing / updating layers. \n",
    "# (try wider and deeper models)"
   ]
  },
  {
   "cell_type": "code",
   "execution_count": 17,
   "metadata": {},
   "outputs": [],
   "source": [
    "# Before Attempting my Changes the Model sits at .916"
   ]
  },
  {
   "cell_type": "code",
   "execution_count": 31,
   "metadata": {},
   "outputs": [],
   "source": [
    "model = Sequential()\n",
    "model.add(Conv2D(64, kernel_size = (3, 3), activation = \"linear\", input_shape=(28, 28, 1), padding = 'same'))\n",
    "model.add(MaxPooling2D(pool_size = (2, 2), padding = 'same'))\n",
    "model.add(Conv2D(32, (3, 3), activation = \"relu\", padding = 'same'))\n",
    "model.add(Conv2D(32, (3, 3), activation = \"relu\", padding = 'same'))\n",
    "model.add(Conv2D(32, (3, 3), activation = \"relu\", padding = 'same'))\n",
    "model.add(Conv2D(32, (3, 3), activation = \"relu\", padding = 'same'))\n",
    "model.add(Conv2D(32, (3, 3), activation = \"relu\", padding = 'same'))\n",
    "model.add(Conv2D(32, (3, 3), activation = \"relu\", padding = 'same'))\n",
    "model.add(MaxPooling2D(pool_size = (2, 2), padding = 'same'))\n",
    "model.add(Conv2D(32, (3, 3), activation = \"relu\", padding = 'same'))\n",
    "model.add(Conv2D(32, (3, 3), activation = \"relu\", padding = 'same'))\n",
    "model.add(Flatten())\n",
    "model.add(Dense(32))\n",
    "model.add(Dense(num_classes, activation = \"softmax\"))"
   ]
  },
  {
   "cell_type": "code",
   "execution_count": 32,
   "metadata": {},
   "outputs": [
    {
     "name": "stdout",
     "output_type": "stream",
     "text": [
      "Model: \"sequential_3\"\n",
      "_________________________________________________________________\n",
      "Layer (type)                 Output Shape              Param #   \n",
      "=================================================================\n",
      "conv2d_21 (Conv2D)           (None, 28, 28, 64)        640       \n",
      "_________________________________________________________________\n",
      "max_pooling2d_7 (MaxPooling2 (None, 14, 14, 64)        0         \n",
      "_________________________________________________________________\n",
      "conv2d_22 (Conv2D)           (None, 14, 14, 32)        18464     \n",
      "_________________________________________________________________\n",
      "conv2d_23 (Conv2D)           (None, 14, 14, 32)        9248      \n",
      "_________________________________________________________________\n",
      "conv2d_24 (Conv2D)           (None, 14, 14, 32)        9248      \n",
      "_________________________________________________________________\n",
      "conv2d_25 (Conv2D)           (None, 14, 14, 32)        9248      \n",
      "_________________________________________________________________\n",
      "conv2d_26 (Conv2D)           (None, 14, 14, 32)        9248      \n",
      "_________________________________________________________________\n",
      "conv2d_27 (Conv2D)           (None, 14, 14, 32)        9248      \n",
      "_________________________________________________________________\n",
      "max_pooling2d_8 (MaxPooling2 (None, 7, 7, 32)          0         \n",
      "_________________________________________________________________\n",
      "conv2d_28 (Conv2D)           (None, 7, 7, 32)          9248      \n",
      "_________________________________________________________________\n",
      "conv2d_29 (Conv2D)           (None, 7, 7, 32)          9248      \n",
      "_________________________________________________________________\n",
      "flatten_3 (Flatten)          (None, 1568)              0         \n",
      "_________________________________________________________________\n",
      "dense_6 (Dense)              (None, 32)                50208     \n",
      "_________________________________________________________________\n",
      "dense_7 (Dense)              (None, 10)                330       \n",
      "=================================================================\n",
      "Total params: 134,378\n",
      "Trainable params: 134,378\n",
      "Non-trainable params: 0\n",
      "_________________________________________________________________\n"
     ]
    }
   ],
   "source": [
    "model.summary()"
   ]
  },
  {
   "cell_type": "code",
   "execution_count": 33,
   "metadata": {},
   "outputs": [],
   "source": [
    "model.compile(loss = tensorflow.keras.losses.categorical_crossentropy, optimizer = tensorflow.keras.optimizers.Adam(), metrics = ['categorical_accuracy'])"
   ]
  },
  {
   "cell_type": "code",
   "execution_count": 34,
   "metadata": {},
   "outputs": [],
   "source": [
    "batch_size = 48\n",
    "epochs = 10\n",
    "num_classes = 10"
   ]
  },
  {
   "cell_type": "code",
   "execution_count": 35,
   "metadata": {},
   "outputs": [
    {
     "name": "stdout",
     "output_type": "stream",
     "text": [
      "Epoch 1/10\n",
      "1000/1000 [==============================] - 78s 78ms/step - loss: 0.5162 - categorical_accuracy: 0.8149 - val_loss: 0.3528 - val_categorical_accuracy: 0.8700\n",
      "Epoch 2/10\n",
      "1000/1000 [==============================] - 85s 85ms/step - loss: 0.3274 - categorical_accuracy: 0.8806 - val_loss: 0.2884 - val_categorical_accuracy: 0.8952\n",
      "Epoch 3/10\n",
      "1000/1000 [==============================] - 77s 77ms/step - loss: 0.2811 - categorical_accuracy: 0.8974 - val_loss: 0.2860 - val_categorical_accuracy: 0.8910\n",
      "Epoch 4/10\n",
      "1000/1000 [==============================] - 56s 56ms/step - loss: 0.2511 - categorical_accuracy: 0.9082 - val_loss: 0.2656 - val_categorical_accuracy: 0.9001\n",
      "Epoch 5/10\n",
      "1000/1000 [==============================] - 54s 54ms/step - loss: 0.2324 - categorical_accuracy: 0.9126 - val_loss: 0.3528 - val_categorical_accuracy: 0.8612\n",
      "Epoch 6/10\n",
      "1000/1000 [==============================] - 53s 53ms/step - loss: 0.2160 - categorical_accuracy: 0.9200 - val_loss: 0.2452 - val_categorical_accuracy: 0.9057\n",
      "Epoch 7/10\n",
      "1000/1000 [==============================] - 53s 53ms/step - loss: 0.2021 - categorical_accuracy: 0.9242 - val_loss: 0.2458 - val_categorical_accuracy: 0.9124\n",
      "Epoch 8/10\n",
      "1000/1000 [==============================] - 53s 53ms/step - loss: 0.1911 - categorical_accuracy: 0.9284 - val_loss: 0.2530 - val_categorical_accuracy: 0.9071\n",
      "Epoch 9/10\n",
      "1000/1000 [==============================] - 53s 53ms/step - loss: 0.1805 - categorical_accuracy: 0.9337 - val_loss: 0.2442 - val_categorical_accuracy: 0.9113\n",
      "Epoch 10/10\n",
      "1000/1000 [==============================] - 53s 53ms/step - loss: 0.1700 - categorical_accuracy: 0.9367 - val_loss: 0.2492 - val_categorical_accuracy: 0.9110\n"
     ]
    }
   ],
   "source": [
    "fashion_train = model.fit(train_X, train_label, batch_size = batch_size, epochs = epochs, verbose = 1, validation_data = (valid_X, valid_label))"
   ]
  },
  {
   "cell_type": "code",
   "execution_count": null,
   "metadata": {},
   "outputs": [],
   "source": [
    "# model evaluation\n",
    "test_eval = model.evaluate(test_X, test_Y_one_hot, verbose = 1)\n",
    "print('Test accuracy:', test_eval[1])"
   ]
  },
  {
   "cell_type": "code",
   "execution_count": null,
   "metadata": {},
   "outputs": [],
   "source": [
    "# I tried many different architectures to provide better performance but found that I could not do better than .923 without\n",
    "# incuring unreasonable training times. On this run I got .911 which is shy of the original model with .916. "
   ]
  },
  {
   "cell_type": "code",
   "execution_count": null,
   "metadata": {},
   "outputs": [],
   "source": []
  }
 ],
 "metadata": {
  "colab": {
   "authorship_tag": "ABX9TyMl6VBAsO2bLKi+RfxNnGYH",
   "collapsed_sections": [],
   "name": "Demo 10 Ishan.ipynb",
   "provenance": []
  },
  "kernelspec": {
   "display_name": "Python 3 (ipykernel)",
   "language": "python",
   "name": "python3"
  },
  "language_info": {
   "codemirror_mode": {
    "name": "ipython",
    "version": 3
   },
   "file_extension": ".py",
   "mimetype": "text/x-python",
   "name": "python",
   "nbconvert_exporter": "python",
   "pygments_lexer": "ipython3",
   "version": "3.8.12"
  }
 },
 "nbformat": 4,
 "nbformat_minor": 1
}
