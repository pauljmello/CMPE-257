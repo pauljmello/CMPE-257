{
 "cells": [
  {
   "cell_type": "markdown",
   "id": "37351dd1",
   "metadata": {},
   "source": [
    "# K Nearest Neighbour classification and K means clustering"
   ]
  },
  {
   "cell_type": "markdown",
   "id": "c61f36c3",
   "metadata": {},
   "source": [
    "## 1. What is the difference between classification and clustering?"
   ]
  },
  {
   "cell_type": "markdown",
   "id": "e7682bd2",
   "metadata": {},
   "source": [
    "## 2. Explain in brief the working of KNN"
   ]
  },
  {
   "cell_type": "markdown",
   "id": "a683dcea",
   "metadata": {},
   "source": [
    "## 3. Explain in brief the working of K means"
   ]
  },
  {
   "cell_type": "markdown",
   "id": "adc080ad",
   "metadata": {},
   "source": [
    "## 4. What is the meaning of K in KNN and K means"
   ]
  },
  {
   "cell_type": "markdown",
   "id": "8d39284a",
   "metadata": {},
   "source": [
    "## 5. Explain any 5 distance metrics in short."
   ]
  },
  {
   "cell_type": "markdown",
   "id": "145c0360",
   "metadata": {},
   "source": [
    "## 6. load and plot the dataset S1.txt file (comment how many natural classes you see)"
   ]
  },
  {
   "cell_type": "markdown",
   "id": "678b0520",
   "metadata": {},
   "source": [
    "## 7. load the labels for the dataset and perform classification using KNN algorithm without using any library"
   ]
  },
  {
   "cell_type": "markdown",
   "id": "1b58e27b",
   "metadata": {},
   "source": [
    "## 8. perform classification on the above dataset using KNN from sklearn (try different distance metrics and compare their results)"
   ]
  },
  {
   "cell_type": "markdown",
   "id": "9cfe6dea",
   "metadata": {},
   "source": [
    "## 10. load and plot S2.txt"
   ]
  },
  {
   "cell_type": "markdown",
   "id": "c7282768",
   "metadata": {},
   "source": [
    "## 11. perform k means clustering on S2.txt without using any library and plot the results"
   ]
  },
  {
   "cell_type": "markdown",
   "id": "919c1a72",
   "metadata": {},
   "source": [
    "## 12. perform k means clustering on S2.txt using sklearn library and plot the results"
   ]
  }
 ],
 "metadata": {
  "kernelspec": {
   "display_name": "Python 3",
   "language": "python",
   "name": "python3"
  },
  "language_info": {
   "codemirror_mode": {
    "name": "ipython",
    "version": 3
   },
   "file_extension": ".py",
   "mimetype": "text/x-python",
   "name": "python",
   "nbconvert_exporter": "python",
   "pygments_lexer": "ipython3",
   "version": "3.8.8"
  }
 },
 "nbformat": 4,
 "nbformat_minor": 5
}
