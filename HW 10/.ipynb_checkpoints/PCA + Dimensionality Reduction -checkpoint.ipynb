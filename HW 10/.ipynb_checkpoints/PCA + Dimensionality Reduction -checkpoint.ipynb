{
 "cells": [
  {
   "cell_type": "code",
   "execution_count": 1,
   "id": "232a7abe",
   "metadata": {},
   "outputs": [],
   "source": [
    "# Paul-Jason Mello\n",
    "# Professor Shim\n",
    "# CMPE 257\n",
    "# April 21st, 2022"
   ]
  },
  {
   "cell_type": "markdown",
   "id": "622f4085",
   "metadata": {},
   "source": [
    "# Dimensionality reduction and PCA"
   ]
  },
  {
   "cell_type": "code",
   "execution_count": 2,
   "id": "a346e70c",
   "metadata": {},
   "outputs": [],
   "source": [
    "import pandas as pd\n",
    "import seaborn as sns\n",
    "\n",
    "from sklearn.model_selection import train_test_split, RandomizedSearchCV\n",
    "from sklearn.decomposition import PCA\n",
    "from sklearn.ensemble import RandomForestClassifier\n",
    "from sklearn.metrics import accuracy_score, confusion_matrix"
   ]
  },
  {
   "cell_type": "markdown",
   "id": "0c4d0a12",
   "metadata": {},
   "source": [
    "## 1. Discuss curse of dimensionality"
   ]
  },
  {
   "cell_type": "code",
   "execution_count": 3,
   "id": "3c103736",
   "metadata": {},
   "outputs": [],
   "source": [
    "# The curse of dimensionality dictates that as we increase dimensions, data is bound to become spraser. This means\n",
    "# that even when we can increase the number of features, it will not always improve accuracy. Moreover, the number of\n",
    "# training samples needed for higher dimensions increases exponentialy though the eq K^D."
   ]
  },
  {
   "cell_type": "markdown",
   "id": "48d7121c",
   "metadata": {},
   "source": [
    "## 2. Discuss any 3 dimensionality reduction techniques"
   ]
  },
  {
   "cell_type": "code",
   "execution_count": 4,
   "id": "c6fc3b4d",
   "metadata": {},
   "outputs": [],
   "source": [
    "# Forward Selection\n",
    "# \n",
    "# Through forward selection we are able to select only the most relevant data to use. This can help significantly reduce\n",
    "# the dimensions by only using highly correlated columns to a target variable. In forward selection we add to the model\n",
    "# one at a time. We test accuracy one by one until the model becomes weaker. Then the best combination of columns is \n",
    "# selected as the models parameters.\n",
    "\n",
    "# Backward Selection\n",
    "# \n",
    "# We apply the same process as we see in forward selection; However, in this version we remove from the model one at a time. \n",
    "\n",
    "# ANOVA\n",
    "# \n",
    "# ANOVA is a method of statistical analysis which looks to display if there is any statistically significant variations\n",
    "# in the data between multiple variables. Here the reduction comes from removing insiginificant columns."
   ]
  },
  {
   "cell_type": "markdown",
   "id": "13589dcd",
   "metadata": {},
   "source": [
    "## 3. Explain PCA in your own words"
   ]
  },
  {
   "cell_type": "code",
   "execution_count": 5,
   "id": "5804aa33",
   "metadata": {},
   "outputs": [],
   "source": [
    "# PCA\n",
    "# \n",
    "# Principle Component Analysis is a statistical method which looks to reduce dimensionality. It takes data and attempts to\n",
    "# orthogonally change it in a way that allows for the understanding of correlated variables. This also allows for better\n",
    "# generalization in machine learning models. "
   ]
  },
  {
   "cell_type": "markdown",
   "id": "ac07dad8",
   "metadata": {},
   "source": [
    "## 4. Perform classification on wine dataset using any model of your choice using all the features"
   ]
  },
  {
   "cell_type": "code",
   "execution_count": 6,
   "id": "71a25b00",
   "metadata": {},
   "outputs": [
    {
     "data": {
      "text/html": [
       "<div>\n",
       "<style scoped>\n",
       "    .dataframe tbody tr th:only-of-type {\n",
       "        vertical-align: middle;\n",
       "    }\n",
       "\n",
       "    .dataframe tbody tr th {\n",
       "        vertical-align: top;\n",
       "    }\n",
       "\n",
       "    .dataframe thead th {\n",
       "        text-align: right;\n",
       "    }\n",
       "</style>\n",
       "<table border=\"1\" class=\"dataframe\">\n",
       "  <thead>\n",
       "    <tr style=\"text-align: right;\">\n",
       "      <th></th>\n",
       "      <th>fixed acidity</th>\n",
       "      <th>volatile acidity</th>\n",
       "      <th>citric acid</th>\n",
       "      <th>residual sugar</th>\n",
       "      <th>chlorides</th>\n",
       "      <th>free sulfur dioxide</th>\n",
       "      <th>total sulfur dioxide</th>\n",
       "      <th>density</th>\n",
       "      <th>pH</th>\n",
       "      <th>sulphates</th>\n",
       "      <th>alcohol</th>\n",
       "      <th>quality</th>\n",
       "    </tr>\n",
       "  </thead>\n",
       "  <tbody>\n",
       "    <tr>\n",
       "      <th>0</th>\n",
       "      <td>7.4</td>\n",
       "      <td>0.70</td>\n",
       "      <td>0.00</td>\n",
       "      <td>1.9</td>\n",
       "      <td>0.076</td>\n",
       "      <td>11.0</td>\n",
       "      <td>34.0</td>\n",
       "      <td>0.9978</td>\n",
       "      <td>3.51</td>\n",
       "      <td>0.56</td>\n",
       "      <td>9.4</td>\n",
       "      <td>5</td>\n",
       "    </tr>\n",
       "    <tr>\n",
       "      <th>1</th>\n",
       "      <td>7.8</td>\n",
       "      <td>0.88</td>\n",
       "      <td>0.00</td>\n",
       "      <td>2.6</td>\n",
       "      <td>0.098</td>\n",
       "      <td>25.0</td>\n",
       "      <td>67.0</td>\n",
       "      <td>0.9968</td>\n",
       "      <td>3.20</td>\n",
       "      <td>0.68</td>\n",
       "      <td>9.8</td>\n",
       "      <td>5</td>\n",
       "    </tr>\n",
       "    <tr>\n",
       "      <th>2</th>\n",
       "      <td>7.8</td>\n",
       "      <td>0.76</td>\n",
       "      <td>0.04</td>\n",
       "      <td>2.3</td>\n",
       "      <td>0.092</td>\n",
       "      <td>15.0</td>\n",
       "      <td>54.0</td>\n",
       "      <td>0.9970</td>\n",
       "      <td>3.26</td>\n",
       "      <td>0.65</td>\n",
       "      <td>9.8</td>\n",
       "      <td>5</td>\n",
       "    </tr>\n",
       "    <tr>\n",
       "      <th>3</th>\n",
       "      <td>11.2</td>\n",
       "      <td>0.28</td>\n",
       "      <td>0.56</td>\n",
       "      <td>1.9</td>\n",
       "      <td>0.075</td>\n",
       "      <td>17.0</td>\n",
       "      <td>60.0</td>\n",
       "      <td>0.9980</td>\n",
       "      <td>3.16</td>\n",
       "      <td>0.58</td>\n",
       "      <td>9.8</td>\n",
       "      <td>6</td>\n",
       "    </tr>\n",
       "    <tr>\n",
       "      <th>4</th>\n",
       "      <td>7.4</td>\n",
       "      <td>0.70</td>\n",
       "      <td>0.00</td>\n",
       "      <td>1.9</td>\n",
       "      <td>0.076</td>\n",
       "      <td>11.0</td>\n",
       "      <td>34.0</td>\n",
       "      <td>0.9978</td>\n",
       "      <td>3.51</td>\n",
       "      <td>0.56</td>\n",
       "      <td>9.4</td>\n",
       "      <td>5</td>\n",
       "    </tr>\n",
       "    <tr>\n",
       "      <th>5</th>\n",
       "      <td>7.4</td>\n",
       "      <td>0.66</td>\n",
       "      <td>0.00</td>\n",
       "      <td>1.8</td>\n",
       "      <td>0.075</td>\n",
       "      <td>13.0</td>\n",
       "      <td>40.0</td>\n",
       "      <td>0.9978</td>\n",
       "      <td>3.51</td>\n",
       "      <td>0.56</td>\n",
       "      <td>9.4</td>\n",
       "      <td>5</td>\n",
       "    </tr>\n",
       "    <tr>\n",
       "      <th>6</th>\n",
       "      <td>7.9</td>\n",
       "      <td>0.60</td>\n",
       "      <td>0.06</td>\n",
       "      <td>1.6</td>\n",
       "      <td>0.069</td>\n",
       "      <td>15.0</td>\n",
       "      <td>59.0</td>\n",
       "      <td>0.9964</td>\n",
       "      <td>3.30</td>\n",
       "      <td>0.46</td>\n",
       "      <td>9.4</td>\n",
       "      <td>5</td>\n",
       "    </tr>\n",
       "    <tr>\n",
       "      <th>7</th>\n",
       "      <td>7.3</td>\n",
       "      <td>0.65</td>\n",
       "      <td>0.00</td>\n",
       "      <td>1.2</td>\n",
       "      <td>0.065</td>\n",
       "      <td>15.0</td>\n",
       "      <td>21.0</td>\n",
       "      <td>0.9946</td>\n",
       "      <td>3.39</td>\n",
       "      <td>0.47</td>\n",
       "      <td>10.0</td>\n",
       "      <td>7</td>\n",
       "    </tr>\n",
       "    <tr>\n",
       "      <th>8</th>\n",
       "      <td>7.8</td>\n",
       "      <td>0.58</td>\n",
       "      <td>0.02</td>\n",
       "      <td>2.0</td>\n",
       "      <td>0.073</td>\n",
       "      <td>9.0</td>\n",
       "      <td>18.0</td>\n",
       "      <td>0.9968</td>\n",
       "      <td>3.36</td>\n",
       "      <td>0.57</td>\n",
       "      <td>9.5</td>\n",
       "      <td>7</td>\n",
       "    </tr>\n",
       "    <tr>\n",
       "      <th>9</th>\n",
       "      <td>7.5</td>\n",
       "      <td>0.50</td>\n",
       "      <td>0.36</td>\n",
       "      <td>6.1</td>\n",
       "      <td>0.071</td>\n",
       "      <td>17.0</td>\n",
       "      <td>102.0</td>\n",
       "      <td>0.9978</td>\n",
       "      <td>3.35</td>\n",
       "      <td>0.80</td>\n",
       "      <td>10.5</td>\n",
       "      <td>5</td>\n",
       "    </tr>\n",
       "  </tbody>\n",
       "</table>\n",
       "</div>"
      ],
      "text/plain": [
       "   fixed acidity  volatile acidity  citric acid  residual sugar  chlorides  \\\n",
       "0            7.4              0.70         0.00             1.9      0.076   \n",
       "1            7.8              0.88         0.00             2.6      0.098   \n",
       "2            7.8              0.76         0.04             2.3      0.092   \n",
       "3           11.2              0.28         0.56             1.9      0.075   \n",
       "4            7.4              0.70         0.00             1.9      0.076   \n",
       "5            7.4              0.66         0.00             1.8      0.075   \n",
       "6            7.9              0.60         0.06             1.6      0.069   \n",
       "7            7.3              0.65         0.00             1.2      0.065   \n",
       "8            7.8              0.58         0.02             2.0      0.073   \n",
       "9            7.5              0.50         0.36             6.1      0.071   \n",
       "\n",
       "   free sulfur dioxide  total sulfur dioxide  density    pH  sulphates  \\\n",
       "0                 11.0                  34.0   0.9978  3.51       0.56   \n",
       "1                 25.0                  67.0   0.9968  3.20       0.68   \n",
       "2                 15.0                  54.0   0.9970  3.26       0.65   \n",
       "3                 17.0                  60.0   0.9980  3.16       0.58   \n",
       "4                 11.0                  34.0   0.9978  3.51       0.56   \n",
       "5                 13.0                  40.0   0.9978  3.51       0.56   \n",
       "6                 15.0                  59.0   0.9964  3.30       0.46   \n",
       "7                 15.0                  21.0   0.9946  3.39       0.47   \n",
       "8                  9.0                  18.0   0.9968  3.36       0.57   \n",
       "9                 17.0                 102.0   0.9978  3.35       0.80   \n",
       "\n",
       "   alcohol  quality  \n",
       "0      9.4        5  \n",
       "1      9.8        5  \n",
       "2      9.8        5  \n",
       "3      9.8        6  \n",
       "4      9.4        5  \n",
       "5      9.4        5  \n",
       "6      9.4        5  \n",
       "7     10.0        7  \n",
       "8      9.5        7  \n",
       "9     10.5        5  "
      ]
     },
     "execution_count": 6,
     "metadata": {},
     "output_type": "execute_result"
    }
   ],
   "source": [
    "# Using the red wine data downloaded from the uci website found below\n",
    "# https://archive.ics.uci.edu/ml/machine-learning-databases/wine-quality/\n",
    "\n",
    "wine = pd.read_csv(\"winequality-red.csv\", sep =\";\")\n",
    "wine.head(10)"
   ]
  },
  {
   "cell_type": "code",
   "execution_count": 7,
   "id": "3fc6939d",
   "metadata": {},
   "outputs": [
    {
     "name": "stdout",
     "output_type": "stream",
     "text": [
      "fixed acidity            96\n",
      "volatile acidity        143\n",
      "citric acid              80\n",
      "residual sugar           91\n",
      "chlorides               153\n",
      "free sulfur dioxide      60\n",
      "total sulfur dioxide    144\n",
      "density                 436\n",
      "pH                       89\n",
      "sulphates                96\n",
      "alcohol                  65\n",
      "quality                   6\n",
      "dtype: int64\n"
     ]
    }
   ],
   "source": [
    "print(wine.nunique())"
   ]
  },
  {
   "cell_type": "code",
   "execution_count": 8,
   "id": "b154ac63",
   "metadata": {},
   "outputs": [
    {
     "name": "stdout",
     "output_type": "stream",
     "text": [
      "fixed acidity           0\n",
      "volatile acidity        0\n",
      "citric acid             0\n",
      "residual sugar          0\n",
      "chlorides               0\n",
      "free sulfur dioxide     0\n",
      "total sulfur dioxide    0\n",
      "density                 0\n",
      "pH                      0\n",
      "sulphates               0\n",
      "alcohol                 0\n",
      "quality                 0\n",
      "dtype: int64\n"
     ]
    }
   ],
   "source": [
    "# Perfectly clean data\n",
    "\n",
    "print(wine.isnull().sum())"
   ]
  },
  {
   "cell_type": "code",
   "execution_count": 9,
   "id": "8ab06f42",
   "metadata": {},
   "outputs": [],
   "source": [
    "wineTarget = pd.DataFrame()\n",
    "wineTarget[\"quality\"] = wine[\"quality\"]\n",
    "wine = wine.drop(\"quality\", axis = 1)"
   ]
  },
  {
   "cell_type": "code",
   "execution_count": 10,
   "id": "d14acf6a",
   "metadata": {},
   "outputs": [],
   "source": [
    "x_train, x_test, y_train, y_test = train_test_split(wine, wineTarget)"
   ]
  },
  {
   "cell_type": "code",
   "execution_count": 11,
   "id": "d45767d2",
   "metadata": {},
   "outputs": [
    {
     "name": "stderr",
     "output_type": "stream",
     "text": [
      "C:\\Users\\GIGA\\AppData\\Local\\Temp/ipykernel_12780/3190944102.py:2: DataConversionWarning: A column-vector y was passed when a 1d array was expected. Please change the shape of y to (n_samples,), for example using ravel().\n",
      "  model.fit(x_train, y_train)\n"
     ]
    },
    {
     "data": {
      "text/plain": [
       "RandomForestClassifier()"
      ]
     },
     "execution_count": 11,
     "metadata": {},
     "output_type": "execute_result"
    }
   ],
   "source": [
    "model = RandomForestClassifier()\n",
    "model.fit(x_train, y_train)"
   ]
  },
  {
   "cell_type": "code",
   "execution_count": 12,
   "id": "12864837",
   "metadata": {},
   "outputs": [
    {
     "name": "stdout",
     "output_type": "stream",
     "text": [
      "Test Accuracy: 71.0%\n"
     ]
    }
   ],
   "source": [
    "accuracy = model.score(x_test, y_test)\n",
    "print(\"Test Accuracy: \" + str(accuracy*100) + \"%\")"
   ]
  },
  {
   "cell_type": "code",
   "execution_count": 13,
   "id": "731a62ed",
   "metadata": {},
   "outputs": [
    {
     "name": "stdout",
     "output_type": "stream",
     "text": [
      "[[  0   0   3   0   0   0]\n",
      " [  0   0   6   2   0   0]\n",
      " [  0   0 149  29   0   0]\n",
      " [  0   0  37 111   4   0]\n",
      " [  0   0   3  26  24   1]\n",
      " [  0   0   0   3   2   0]]\n"
     ]
    }
   ],
   "source": [
    "y_pred = model.predict(x_test)\n",
    "cm = confusion_matrix(y_test, y_pred)\n",
    "print(cm)"
   ]
  },
  {
   "cell_type": "code",
   "execution_count": 14,
   "id": "794a2b16",
   "metadata": {},
   "outputs": [],
   "source": [
    "# Quality rated from 1-9. However, data only contains 6 unique types, this is why the confusion matrix only contains six."
   ]
  },
  {
   "cell_type": "markdown",
   "id": "439b4e47",
   "metadata": {},
   "source": [
    "## 5. Perform classification on wine dataset using PCA and taking all top components such that 90% variance is explained by them"
   ]
  },
  {
   "cell_type": "code",
   "execution_count": 15,
   "id": "84fa5a29",
   "metadata": {},
   "outputs": [],
   "source": [
    "pca = PCA(n_components = 1)\n",
    "pcaWine = pca.fit_transform(wine)"
   ]
  },
  {
   "cell_type": "code",
   "execution_count": 16,
   "id": "8ab6a13c",
   "metadata": {},
   "outputs": [],
   "source": [
    "pcadf = pd.DataFrame(data = pcaWine, columns = [\"PCA1\"])"
   ]
  },
  {
   "cell_type": "code",
   "execution_count": 17,
   "id": "fcd985ab",
   "metadata": {},
   "outputs": [],
   "source": [
    "data = pd.concat([pcadf, wineTarget[\"quality\"]], axis = 1)"
   ]
  },
  {
   "cell_type": "code",
   "execution_count": 18,
   "id": "28cf275f",
   "metadata": {},
   "outputs": [
    {
     "name": "stdout",
     "output_type": "stream",
     "text": [
      "[0.94657698]\n"
     ]
    }
   ],
   "source": [
    "# Only one variable is needed to explain ~95% of the variance\n",
    "\n",
    "print(str(pca.explained_variance_ratio_))"
   ]
  },
  {
   "cell_type": "code",
   "execution_count": 19,
   "id": "7940a008",
   "metadata": {},
   "outputs": [],
   "source": [
    "x_train, x_test, y_train, y_test = train_test_split(pcaWine,  wineTarget[\"quality\"])"
   ]
  },
  {
   "cell_type": "code",
   "execution_count": 20,
   "id": "bc375c26",
   "metadata": {},
   "outputs": [
    {
     "data": {
      "text/plain": [
       "RandomForestClassifier()"
      ]
     },
     "execution_count": 20,
     "metadata": {},
     "output_type": "execute_result"
    }
   ],
   "source": [
    "model = RandomForestClassifier()\n",
    "model.fit(x_train, y_train)"
   ]
  },
  {
   "cell_type": "code",
   "execution_count": 21,
   "id": "82d43bf9",
   "metadata": {},
   "outputs": [
    {
     "name": "stdout",
     "output_type": "stream",
     "text": [
      "Test Accuracy: 51.74999999999999%\n"
     ]
    }
   ],
   "source": [
    "# With only one variable, using PCA, we were able to accurately predict the quality of a wine 52% of the time.\n",
    "\n",
    "accuracy = model.score(x_test, y_test)\n",
    "print(\"Test Accuracy: \" + str(accuracy*100) + \"%\")"
   ]
  },
  {
   "cell_type": "code",
   "execution_count": 22,
   "id": "89f88330",
   "metadata": {},
   "outputs": [
    {
     "name": "stdout",
     "output_type": "stream",
     "text": [
      "[[  0   0   0   0   0   0]\n",
      " [  2   2   7   3   1   1]\n",
      " [  0   1 102  44  13   0]\n",
      " [  0   7  60  86  21   0]\n",
      " [  0   1  14  14  17   0]\n",
      " [  0   1   2   1   0   0]]\n"
     ]
    }
   ],
   "source": [
    "y_pred = model.predict(x_test)\n",
    "cm = confusion_matrix(y_test, y_pred)\n",
    "print(cm)"
   ]
  },
  {
   "cell_type": "markdown",
   "id": "59cc3aa1",
   "metadata": {},
   "source": [
    "## 6. Discuss the difference in results vs difference in number of features used for classification."
   ]
  },
  {
   "cell_type": "code",
   "execution_count": 23,
   "id": "951e9e46",
   "metadata": {},
   "outputs": [],
   "source": [
    "# In the first implementation we found that with 12 unique variables, not including the target variable, we were able to \n",
    "# acheive 71% accuracy in our data. In the PCA driven model we were able to accurately predict 52% using only a single \n",
    "# principal component. This demonstrates that most of the models accuracy can be rerepresented in a smaller dimension. \n",
    "# PCA is useful because it is far quicker at calculating these metrics thanks to the reduced dimensions and when the \n",
    "# data frame is large, it may be necessary to reduce it using PCA to retain information."
   ]
  }
 ],
 "metadata": {
  "kernelspec": {
   "display_name": "Python 3 (ipykernel)",
   "language": "python",
   "name": "python3"
  },
  "language_info": {
   "codemirror_mode": {
    "name": "ipython",
    "version": 3
   },
   "file_extension": ".py",
   "mimetype": "text/x-python",
   "name": "python",
   "nbconvert_exporter": "python",
   "pygments_lexer": "ipython3",
   "version": "3.9.12"
  }
 },
 "nbformat": 4,
 "nbformat_minor": 5
}
