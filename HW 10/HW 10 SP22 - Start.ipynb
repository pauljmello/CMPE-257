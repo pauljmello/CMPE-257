{
 "cells": [
  {
   "cell_type": "markdown",
   "id": "622f4085",
   "metadata": {},
   "source": [
    "# Dimensionality reduction and PCA"
   ]
  },
  {
   "cell_type": "markdown",
   "id": "0c4d0a12",
   "metadata": {},
   "source": [
    "## 1. Discuss curse of dimensionality"
   ]
  },
  {
   "cell_type": "markdown",
   "id": "48d7121c",
   "metadata": {},
   "source": [
    "## 2. Discuss any 3 dimensionality reduction techniques"
   ]
  },
  {
   "cell_type": "markdown",
   "id": "13589dcd",
   "metadata": {},
   "source": [
    "## 3. Explain PCA in your own words"
   ]
  },
  {
   "cell_type": "markdown",
   "id": "ac07dad8",
   "metadata": {},
   "source": [
    "## 4. Perform classification on wine dataset using any model of your choice using all the features"
   ]
  },
  {
   "cell_type": "markdown",
   "id": "439b4e47",
   "metadata": {},
   "source": [
    "## 5. Perform classification on wine dataset using PCA and taking all top components such that 90% variance is explained by them"
   ]
  },
  {
   "cell_type": "markdown",
   "id": "59cc3aa1",
   "metadata": {},
   "source": [
    "## 6. Discuss the difference in results vs difference in number of features used for classification."
   ]
  }
 ],
 "metadata": {
  "kernelspec": {
   "display_name": "Python 3",
   "language": "python",
   "name": "python3"
  },
  "language_info": {
   "codemirror_mode": {
    "name": "ipython",
    "version": 3
   },
   "file_extension": ".py",
   "mimetype": "text/x-python",
   "name": "python",
   "nbconvert_exporter": "python",
   "pygments_lexer": "ipython3",
   "version": "3.8.8"
  }
 },
 "nbformat": 4,
 "nbformat_minor": 5
}
