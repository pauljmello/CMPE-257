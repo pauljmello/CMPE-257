{
 "cells": [
  {
   "cell_type": "code",
   "execution_count": 1,
   "id": "2a906826",
   "metadata": {},
   "outputs": [],
   "source": [
    "# Paul-Jason Mello\n",
    "# Professor Shim\n",
    "# CMPE 257\n",
    "# March 10th, 2022"
   ]
  },
  {
   "cell_type": "markdown",
   "id": "a32301db",
   "metadata": {},
   "source": [
    "# Neural Networks"
   ]
  },
  {
   "cell_type": "code",
   "execution_count": 2,
   "id": "9a59a33f",
   "metadata": {},
   "outputs": [],
   "source": [
    "import keras \n",
    "import numpy as np\n",
    "\n",
    "from keras.datasets import mnist\n",
    "from keras.models import Sequential \n",
    "from keras.layers import Dense, Dropout, Flatten\n",
    "from matplotlib import pyplot as plt\n",
    "from sklearn.metrics import confusion_matrix\n",
    "from sklearn import preprocessing\n",
    "from sklearn.preprocessing import LabelEncoder"
   ]
  },
  {
   "cell_type": "markdown",
   "id": "f3e3b67f",
   "metadata": {},
   "source": [
    "## 1. What are Neurons?"
   ]
  },
  {
   "cell_type": "code",
   "execution_count": 3,
   "id": "86181079",
   "metadata": {},
   "outputs": [],
   "source": [
    "# Neurons are a feature of our brains which allow us to learn and adapt. They are very small components \n",
    "# of a specialized connection we call synapses. A neuron is made up of many intricate parts which each play\n",
    "# an important role in the delivery of electrical signals through out the brain. The most important aspect of \n",
    "# the neuron consists of its is capability of working in a chain like function with other neurons. An \n",
    "# electrical pulse is recieved by the dendrites and based on the neurons threshold it may or may not send the \n",
    "# signal through the axon. Assuming it does send the signal, it may send the signal to other neurons or a \n",
    "# synaptic terminal. With large networks of neurons working we find that learning can be achieved through\n",
    "# this process. Additionally, neurons will degrade if they are not used and be reinforced if they are used\n",
    "# often."
   ]
  },
  {
   "cell_type": "markdown",
   "id": "bd8e8f04",
   "metadata": {},
   "source": [
    "## 2. Explain the architecture of a neural network"
   ]
  },
  {
   "cell_type": "code",
   "execution_count": 4,
   "id": "9cb62afc",
   "metadata": {},
   "outputs": [],
   "source": [
    "# The architecture of a neural network is in essence a copy of a neuron chain we find in our brain. We find\n",
    "# that using a neuron we can induce learning. By chaining these neurons we can create more complex learning \n",
    "# patterns. A neural network consists of some N number of layers which contain some K number of neurons in \n",
    "# each layer. These N layers can vary from architecture to architecture but the K number of neurons can vary\n",
    "# from layer to layer. For example we may have a 3 layer ANN with 4 neurons in the first layer followed by\n",
    "# 3, 4, and 2 neurons in each subsequent layer. Each of these neurons can have activation functions which\n",
    "# determine if their signal will continue to propogate to the next layer. Additionally, each neruon will have \n",
    "# a weight to determine its importance in determining the output. This system will adjust these weights \n",
    "# through backpropagation or other means as a way to better map the input to its appropriate output. "
   ]
  },
  {
   "cell_type": "markdown",
   "id": "599b6f46",
   "metadata": {},
   "source": [
    "## 3. How many parameters are there in a neural network with 4 hidden layers having 30,25,20,15 neurons each and the input and output layer having 50 and 1 neuron respectively"
   ]
  },
  {
   "cell_type": "code",
   "execution_count": 5,
   "id": "d4e01bf3",
   "metadata": {},
   "outputs": [],
   "source": [
    "# Our nneural network looks like the following network:\n",
    "\n",
    "# Layer 0   Layer 1    Layer 2    Layer 3    Layer 4    Layer 5\n",
    "#   50  --->  30  --->   25  --->   20   --->  15  --->   1\n",
    "\n",
    "# Number of Parameters:\n",
    "#   3,156 total"
   ]
  },
  {
   "cell_type": "code",
   "execution_count": 6,
   "id": "b765adcc",
   "metadata": {},
   "outputs": [],
   "source": [
    "def buildModelParams():\n",
    "    model = Sequential()\n",
    "    model.add(Dense(30, input_dim = 50, activation = 'relu'))\n",
    "    model.add(Dense(25, activation = 'relu'))\n",
    "    model.add(Dense(20, activation = 'relu'))\n",
    "    model.add(Dense(15, activation = 'relu'))\n",
    "    model.add(Dense(1, activation = 'sigmoid'))\n",
    "    model.compile(optimizer = 'adam', loss = 'binary_crossentropy', metrics = ['accuracy']) #Change for binary classification (entropy)\n",
    "    return model"
   ]
  },
  {
   "cell_type": "code",
   "execution_count": 7,
   "id": "d3ae5fcb",
   "metadata": {},
   "outputs": [
    {
     "name": "stdout",
     "output_type": "stream",
     "text": [
      "Model: \"sequential\"\n",
      "_________________________________________________________________\n",
      "Layer (type)                 Output Shape              Param #   \n",
      "=================================================================\n",
      "dense (Dense)                (None, 30)                1530      \n",
      "_________________________________________________________________\n",
      "dense_1 (Dense)              (None, 25)                775       \n",
      "_________________________________________________________________\n",
      "dense_2 (Dense)              (None, 20)                520       \n",
      "_________________________________________________________________\n",
      "dense_3 (Dense)              (None, 15)                315       \n",
      "_________________________________________________________________\n",
      "dense_4 (Dense)              (None, 1)                 16        \n",
      "=================================================================\n",
      "Total params: 3,156\n",
      "Trainable params: 3,156\n",
      "Non-trainable params: 0\n",
      "_________________________________________________________________\n",
      "None\n"
     ]
    }
   ],
   "source": [
    "modelParam = buildModelParams()\n",
    "print(modelParam.summary())"
   ]
  },
  {
   "cell_type": "markdown",
   "id": "36ea5362",
   "metadata": {},
   "source": [
    "## 4. Explain gradient descent"
   ]
  },
  {
   "cell_type": "code",
   "execution_count": 8,
   "id": "ee31ef95",
   "metadata": {},
   "outputs": [],
   "source": [
    "# Gradient descent is a method used for finding the global minimum in a function. In essence we are attempting\n",
    "# to fall into the global minimum by consistantly adjusting the direction and weight associated with each step.\n",
    "# The idea is that as we continue to approach the bottom, the steepness will gradually decrease until there is\n",
    "# a point where the steepness is zero or almost zero. We can calcualte this by using the derivative of the\n",
    "# function at any given point to determine the steepness. There is a looming problem that we may end up in \n",
    "# a local minimum and not the global minimum, meaning we get trapped in a \"well\" where the steepness on either\n",
    "# side is too great to overcome, but it is not the global minimum. Gradient descent is used in many algorithms\n",
    "# and it has been continually improved over many generations."
   ]
  },
  {
   "cell_type": "markdown",
   "id": "b0708c8e",
   "metadata": {},
   "source": [
    "## 5. What is categorical cross entropy"
   ]
  },
  {
   "cell_type": "code",
   "execution_count": 9,
   "id": "9ba9e705",
   "metadata": {},
   "outputs": [],
   "source": [
    "# Categorical cross entropy is a loss function which is capable of mapping inputs to a multi-class output.\n",
    "# Using a softmax function we can describe the probability distribution for each class. Once determined\n",
    "# we can map these probabilities to our target features output. This is best used when there are many labelled\n",
    "# classes."
   ]
  },
  {
   "cell_type": "markdown",
   "id": "903d176f",
   "metadata": {},
   "source": [
    "## 6. Explain in short the following terms: Relu, Sigmoid, softmax"
   ]
  },
  {
   "cell_type": "code",
   "execution_count": 10,
   "id": "ff239329",
   "metadata": {},
   "outputs": [],
   "source": [
    "# ReLU\n",
    "# ReLU is a linear activation function that is known to be fast computation wise and simple to implement.\n",
    "# It converges faster and is maps inputs between max(0,X)\n",
    "\n",
    "# Sigmoid\n",
    "# Sigmoid is a logistic function characterized by an elonged S curve. It was very common before neural\n",
    "# networks took off due to its ability to map inputs. Probelmatically, as we take the derivatives of the\n",
    "# function we find that the vanishing gradient problem is apparent. It maps inputs using this equation:\n",
    "# 1/(1 + (e^-x))\n",
    "\n",
    "# Softmax\n",
    "# Softmax is a function which is similar in principle to the sigmoid function, but rather than mapping inputs\n",
    "# between 0 and 1 it maps inputs to a probability distribution. These outputs sum to 1 as they represent\n",
    "# the likeliness of each output."
   ]
  },
  {
   "cell_type": "markdown",
   "id": "9b0d7108",
   "metadata": {},
   "source": [
    "## 7. Load the mnist dataset"
   ]
  },
  {
   "cell_type": "code",
   "execution_count": 11,
   "id": "ad3f213e",
   "metadata": {},
   "outputs": [],
   "source": [
    "mnistData = mnist.load_data()"
   ]
  },
  {
   "cell_type": "code",
   "execution_count": 12,
   "id": "fefcb6b6",
   "metadata": {},
   "outputs": [],
   "source": [
    "(X_train, Y_train), (X_test, Y_test) = mnistData"
   ]
  },
  {
   "cell_type": "code",
   "execution_count": 13,
   "id": "e73e5d83",
   "metadata": {},
   "outputs": [
    {
     "name": "stdout",
     "output_type": "stream",
     "text": [
      "X_train MNIST data:(60000, 28, 28)\n",
      "Y_train MNIST data:(60000,)\n",
      "X_test MNIST data:(10000, 28, 28)\n",
      "Y_test MNIST data:(10000,)\n"
     ]
    }
   ],
   "source": [
    "print(\"X_train MNIST data:\" + str(X_train.shape))\n",
    "print(\"Y_train MNIST data:\" + str(Y_train.shape))\n",
    "print(\"X_test MNIST data:\" + str(X_test.shape))\n",
    "print(\"Y_test MNIST data:\" + str(Y_test.shape))"
   ]
  },
  {
   "cell_type": "markdown",
   "id": "f6ad141d",
   "metadata": {},
   "source": [
    "## 8. plot some sample images"
   ]
  },
  {
   "cell_type": "code",
   "execution_count": 14,
   "id": "b7ee2a10",
   "metadata": {},
   "outputs": [
    {
     "data": {
      "image/png": "[encoded data removed]",
      "text/plain": [
       "<Figure size 432x288 with 1 Axes>"
      ]
     },
     "metadata": {
      "needs_background": "light"
     },
     "output_type": "display_data"
    },
    {
     "data": {
      "image/png": "[encoded data removed]",
      "text/plain": [
       "<Figure size 432x288 with 1 Axes>"
      ]
     },
     "metadata": {
      "needs_background": "light"
     },
     "output_type": "display_data"
    },
    {
     "data": {
      "image/png": "[encoded data removed]",
      "text/plain": [
       "<Figure size 432x288 with 1 Axes>"
      ]
     },
     "metadata": {
      "needs_background": "light"
     },
     "output_type": "display_data"
    },
    {
     "data": {
      "image/png": "[encoded data removed]",
      "text/plain": [
       "<Figure size 432x288 with 1 Axes>"
      ]
     },
     "metadata": {
      "needs_background": "light"
     },
     "output_type": "display_data"
    },
    {
     "data": {
      "image/png": "[encoded data removed]",
      "text/plain": [
       "<Figure size 432x288 with 1 Axes>"
      ]
     },
     "metadata": {
      "needs_background": "light"
     },
     "output_type": "display_data"
    }
   ],
   "source": [
    "for i in range(5):\n",
    "    plt.imshow(X_train[i].reshape(28,28))\n",
    "    plt.show()"
   ]
  },
  {
   "cell_type": "markdown",
   "id": "e4157808",
   "metadata": {},
   "source": [
    "## 9. pre process the target variable to make it binary"
   ]
  },
  {
   "cell_type": "code",
   "execution_count": 15,
   "id": "8c928a2d",
   "metadata": {},
   "outputs": [
    {
     "name": "stdout",
     "output_type": "stream",
     "text": [
      "5\n",
      "0\n",
      "4\n",
      "1\n",
      "9\n"
     ]
    }
   ],
   "source": [
    "for i in range(5):\n",
    "    print(Y_train[i])"
   ]
  },
  {
   "cell_type": "code",
   "execution_count": 16,
   "id": "742772c6",
   "metadata": {},
   "outputs": [],
   "source": [
    "X_train = X_train / 255.0\n",
    "X_test = X_test / 255.0"
   ]
  },
  {
   "cell_type": "markdown",
   "id": "a228c3dc",
   "metadata": {},
   "source": [
    "## 10. construct a neural network"
   ]
  },
  {
   "cell_type": "code",
   "execution_count": 17,
   "id": "a9e51954",
   "metadata": {},
   "outputs": [],
   "source": [
    "def buildModel():\n",
    "    model = Sequential()\n",
    "    model.add(Flatten(input_shape = (28, 28)))\n",
    "    model.add(Dense(64, activation = 'relu'))\n",
    "    model.add(Dropout(.1))\n",
    "    model.add(Dense(24, activation = 'relu'))\n",
    "    model.add(Dense(10, activation = 'softmax'))\n",
    "    model.compile(optimizer = 'adam', loss = 'sparse_categorical_crossentropy', metrics = ['accuracy']) #Change for binary classification (entropy)\n",
    "    return model"
   ]
  },
  {
   "cell_type": "code",
   "execution_count": 18,
   "id": "198bb656",
   "metadata": {},
   "outputs": [],
   "source": [
    "model = buildModel()"
   ]
  },
  {
   "cell_type": "markdown",
   "id": "cc51fea4",
   "metadata": {},
   "source": [
    "## 11. plot the network (visualise/summarise)"
   ]
  },
  {
   "cell_type": "code",
   "execution_count": 19,
   "id": "c8d8401f",
   "metadata": {},
   "outputs": [
    {
     "name": "stdout",
     "output_type": "stream",
     "text": [
      "Model: \"sequential_1\"\n",
      "_________________________________________________________________\n",
      "Layer (type)                 Output Shape              Param #   \n",
      "=================================================================\n",
      "flatten (Flatten)            (None, 784)               0         \n",
      "_________________________________________________________________\n",
      "dense_5 (Dense)              (None, 64)                50240     \n",
      "_________________________________________________________________\n",
      "dropout (Dropout)            (None, 64)                0         \n",
      "_________________________________________________________________\n",
      "dense_6 (Dense)              (None, 24)                1560      \n",
      "_________________________________________________________________\n",
      "dense_7 (Dense)              (None, 10)                250       \n",
      "=================================================================\n",
      "Total params: 52,050\n",
      "Trainable params: 52,050\n",
      "Non-trainable params: 0\n",
      "_________________________________________________________________\n",
      "None\n"
     ]
    }
   ],
   "source": [
    "print(model.summary())"
   ]
  },
  {
   "cell_type": "markdown",
   "id": "aae59b84",
   "metadata": {},
   "source": [
    "## 12. train the network"
   ]
  },
  {
   "cell_type": "code",
   "execution_count": 20,
   "id": "f6fcc510",
   "metadata": {},
   "outputs": [
    {
     "name": "stdout",
     "output_type": "stream",
     "text": [
      "Epoch 1/10\n",
      "1875/1875 [==============================] - 1s 738us/step - loss: 0.3359 - accuracy: 0.9013\n",
      "Epoch 2/10\n",
      "1875/1875 [==============================] - 1s 729us/step - loss: 0.1606 - accuracy: 0.9511\n",
      "Epoch 3/10\n",
      "1875/1875 [==============================] - 1s 725us/step - loss: 0.1248 - accuracy: 0.9615\n",
      "Epoch 4/10\n",
      "1875/1875 [==============================] - 1s 727us/step - loss: 0.1071 - accuracy: 0.9665\n",
      "Epoch 5/10\n",
      "1875/1875 [==============================] - 1s 743us/step - loss: 0.0949 - accuracy: 0.9704\n",
      "Epoch 6/10\n",
      "1875/1875 [==============================] - 1s 761us/step - loss: 0.0833 - accuracy: 0.9731\n",
      "Epoch 7/10\n",
      "1875/1875 [==============================] - 1s 781us/step - loss: 0.0757 - accuracy: 0.9756\n",
      "Epoch 8/10\n",
      "1875/1875 [==============================] - 1s 776us/step - loss: 0.0702 - accuracy: 0.9772\n",
      "Epoch 9/10\n",
      "1875/1875 [==============================] - 1s 767us/step - loss: 0.0658 - accuracy: 0.9785\n",
      "Epoch 10/10\n",
      "1875/1875 [==============================] - 1s 755us/step - loss: 0.0599 - accuracy: 0.9799\n"
     ]
    }
   ],
   "source": [
    "modelPlots = model.fit(X_train, Y_train, epochs = 10)"
   ]
  },
  {
   "cell_type": "markdown",
   "id": "a1e0f913",
   "metadata": {},
   "source": [
    "## 13. plot epoch vs accuracy curve"
   ]
  },
  {
   "cell_type": "code",
   "execution_count": 21,
   "id": "9ef5c912",
   "metadata": {},
   "outputs": [
    {
     "data": {
      "image/png": "[encoded data removed]",
      "text/plain": [
       "<Figure size 864x648 with 1 Axes>"
      ]
     },
     "metadata": {
      "needs_background": "light"
     },
     "output_type": "display_data"
    }
   ],
   "source": [
    "plt.figure(figsize = (12,9))\n",
    "plt.plot(modelPlots.history['accuracy'])\n",
    "plt.title('Model Epoch vs Accuracy')\n",
    "plt.ylabel('Accuracy')\n",
    "plt.xlabel('Epochs')\n",
    "plt.legend(['Model'])\n",
    "plt.show()"
   ]
  },
  {
   "cell_type": "markdown",
   "id": "b61ea7e8",
   "metadata": {},
   "source": [
    "## 14. print the results"
   ]
  },
  {
   "cell_type": "code",
   "execution_count": 22,
   "id": "c22a24d5",
   "metadata": {},
   "outputs": [
    {
     "name": "stdout",
     "output_type": "stream",
     "text": [
      "WARNING:tensorflow:From C:\\Users\\GIGA\\AppData\\Local\\Temp/ipykernel_9676/2883016263.py:1: Sequential.predict_classes (from tensorflow.python.keras.engine.sequential) is deprecated and will be removed after 2021-01-01.\n",
      "Instructions for updating:\n",
      "Please use instead:* `np.argmax(model.predict(x), axis=-1)`,   if your model does multi-class classification   (e.g. if it uses a `softmax` last-layer activation).* `(model.predict(x) > 0.5).astype(\"int32\")`,   if your model does binary classification   (e.g. if it uses a `sigmoid` last-layer activation).\n"
     ]
    }
   ],
   "source": [
    "Y_pred = model.predict_classes(X_test)\n",
    "matrix = confusion_matrix(Y_test, Y_pred)"
   ]
  },
  {
   "cell_type": "code",
   "execution_count": 23,
   "id": "eec3673d",
   "metadata": {},
   "outputs": [
    {
     "data": {
      "text/plain": [
       "array([[ 967,    0,    0,    1,    0,    4,    4,    1,    2,    1],\n",
       "       [   0, 1118,    3,    2,    0,    0,    2,    1,    9,    0],\n",
       "       [   6,    0,  995,    5,    2,    0,    3,   11,   10,    0],\n",
       "       [   1,    0,    2,  983,    0,    8,    0,    5,    6,    5],\n",
       "       [   0,    0,    5,    0,  963,    0,    5,    2,    0,    7],\n",
       "       [   1,    0,    0,    8,    0,  872,    2,    2,    6,    1],\n",
       "       [   3,    3,    3,    2,    1,    7,  935,    1,    3,    0],\n",
       "       [   1,    0,    6,    3,    1,    0,    0, 1009,    3,    5],\n",
       "       [   2,    0,    2,    4,    1,    4,    0,    3,  956,    2],\n",
       "       [   1,    2,    0,   10,    8,    3,    1,    5,    3,  976]],\n",
       "      dtype=int64)"
      ]
     },
     "execution_count": 23,
     "metadata": {},
     "output_type": "execute_result"
    }
   ],
   "source": [
    "matrix"
   ]
  },
  {
   "cell_type": "code",
   "execution_count": 24,
   "id": "0e3cc91e",
   "metadata": {},
   "outputs": [
    {
     "name": "stdout",
     "output_type": "stream",
     "text": [
      "Model Accuracy:\t0.9798666834831238\n",
      "Model Loss: \t0.059894248843193054\n"
     ]
    }
   ],
   "source": [
    "print(\"Model Accuracy:\\t\" + str(modelPlots.history['accuracy'][-1]))\n",
    "print(\"Model Loss: \\t\" + str(modelPlots.history['loss'][-1]))"
   ]
  },
  {
   "cell_type": "code",
   "execution_count": null,
   "id": "b09cfe06",
   "metadata": {},
   "outputs": [],
   "source": []
  }
 ],
 "metadata": {
  "kernelspec": {
   "display_name": "Python 3 (ipykernel)",
   "language": "python",
   "name": "python3"
  },
  "language_info": {
   "codemirror_mode": {
    "name": "ipython",
    "version": 3
   },
   "file_extension": ".py",
   "mimetype": "text/x-python",
   "name": "python",
   "nbconvert_exporter": "python",
   "pygments_lexer": "ipython3",
   "version": "3.9.12"
  }
 },
 "nbformat": 4,
 "nbformat_minor": 5
}
