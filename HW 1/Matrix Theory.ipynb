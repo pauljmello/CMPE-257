{
 "cells": [
  {
   "cell_type": "code",
   "execution_count": 1,
   "id": "83234f3d",
   "metadata": {},
   "outputs": [],
   "source": [
    "# Paul-Jason Mello\n",
    "# Prof Shim\n",
    "# Feb 10, 2022\n",
    "# HW 1"
   ]
  },
  {
   "cell_type": "markdown",
   "id": "47c0f908",
   "metadata": {},
   "source": [
    "# 1 Matrices and Numpy"
   ]
  },
  {
   "cell_type": "markdown",
   "id": "f9c687c3",
   "metadata": {},
   "source": [
    "## 1.1 Matrices Theory"
   ]
  },
  {
   "cell_type": "markdown",
   "id": "99dcc604",
   "metadata": {},
   "source": [
    "### 1.1.1 Write properties of matrices"
   ]
  },
  {
   "cell_type": "code",
   "execution_count": 2,
   "id": "deeef077",
   "metadata": {},
   "outputs": [],
   "source": [
    "# A matrix is an array of numbers stretching some n number of columns, and some m number of rows.\n",
    "# Matrix Arithmetic:\n",
    "# Multiplication is associative, multiplication is not commutative, and the transposition rule\n",
    "# In chains of multiplication the column dimensions of one matrix must match the row dimension of \n",
    "# the following matrix."
   ]
  },
  {
   "cell_type": "markdown",
   "id": "eb0eeb06",
   "metadata": {},
   "source": [
    "### 1.1.2 Write a python function to get a matrix from user"
   ]
  },
  {
   "cell_type": "code",
   "execution_count": 3,
   "id": "704083b6",
   "metadata": {},
   "outputs": [],
   "source": [
    "def getMatrix():\n",
    "    numRows = int(input(\"Enter number of rows: \"))\n",
    "    numColumns = int(input(\"Enter number of columns: \"))\n",
    "    matrix = [[int(input()) for x in range (numColumns)] for y in range(numRows)]\n",
    "    return matrix"
   ]
  },
  {
   "cell_type": "markdown",
   "id": "1e9509eb",
   "metadata": {},
   "source": [
    "### 1.1.3 Get two matrices from the user and give them names A and B"
   ]
  },
  {
   "cell_type": "code",
   "execution_count": 4,
   "id": "0d3f07d5",
   "metadata": {},
   "outputs": [],
   "source": [
    "import numpy as np\n",
    "import seaborn as sns\n",
    "import matplotlib as plt\n",
    "\n",
    "from numpy import linalg"
   ]
  },
  {
   "cell_type": "code",
   "execution_count": 5,
   "id": "812d646b",
   "metadata": {
    "scrolled": true
   },
   "outputs": [
    {
     "name": "stdout",
     "output_type": "stream",
     "text": [
      "Enter number of rows: 2\n",
      "Enter number of columns: 2\n",
      "1\n",
      "2\n",
      "3\n",
      "4\n"
     ]
    }
   ],
   "source": [
    "A = getMatrix()"
   ]
  },
  {
   "cell_type": "code",
   "execution_count": 6,
   "id": "014c36b7",
   "metadata": {},
   "outputs": [
    {
     "name": "stdout",
     "output_type": "stream",
     "text": [
      "Enter number of rows: 2\n",
      "Enter number of columns: 2\n",
      "1\n",
      "2\n",
      "3\n",
      "4\n"
     ]
    }
   ],
   "source": [
    "B = getMatrix()"
   ]
  },
  {
   "cell_type": "code",
   "execution_count": 7,
   "id": "d688c752",
   "metadata": {},
   "outputs": [
    {
     "name": "stdout",
     "output_type": "stream",
     "text": [
      "[[1 2]\n",
      " [3 4]]\n"
     ]
    }
   ],
   "source": [
    "print(np.array(A))"
   ]
  },
  {
   "cell_type": "code",
   "execution_count": 8,
   "id": "a6a3d432",
   "metadata": {},
   "outputs": [
    {
     "name": "stdout",
     "output_type": "stream",
     "text": [
      "[[1 2]\n",
      " [3 4]]\n"
     ]
    }
   ],
   "source": [
    "print(np.array(B))"
   ]
  },
  {
   "cell_type": "markdown",
   "id": "c22f308a",
   "metadata": {},
   "source": [
    "## 1.2 Matrix manipulation without using Numpy"
   ]
  },
  {
   "cell_type": "markdown",
   "id": "9508bb2e",
   "metadata": {},
   "source": [
    "### 1.2.1 Perform A^n (n is a user entered values)"
   ]
  },
  {
   "cell_type": "code",
   "execution_count": 9,
   "id": "f09e2645",
   "metadata": {},
   "outputs": [],
   "source": [
    "Arow = len(A) \n",
    "Brow = len(B) \n",
    "ACol = len(A[0]) \n",
    "BCol = len(B[0]) "
   ]
  },
  {
   "cell_type": "code",
   "execution_count": 10,
   "id": "076bfd53",
   "metadata": {},
   "outputs": [
    {
     "name": "stdout",
     "output_type": "stream",
     "text": [
      "Enter power of matrix: 2\n",
      "[[ 7 10]\n",
      " [15 22]]\n"
     ]
    }
   ],
   "source": [
    "matrixPower = int(input(\"Enter power of matrix: \"))\n",
    "TempA = [[int(0) for x in range (Arow)] for y in range(ACol)]\n",
    "\n",
    "while(matrixPower != 1):\n",
    "    for i in range(Arow):\n",
    "        for k in range(ACol):\n",
    "            for j in range(Arow):\n",
    "                TempA[i][k] += A[i][j] * A[j][k]\n",
    "    matrixPower = matrixPower - 1\n",
    "print(np.array(TempA)) # Using numpy to print matrix cleanly"
   ]
  },
  {
   "cell_type": "markdown",
   "id": "37557ddc",
   "metadata": {},
   "source": [
    "### 1.2.2 Perform A Transpose"
   ]
  },
  {
   "cell_type": "code",
   "execution_count": 11,
   "id": "c415bc67",
   "metadata": {},
   "outputs": [
    {
     "name": "stdout",
     "output_type": "stream",
     "text": [
      "[[1 3]\n",
      " [2 4]]\n"
     ]
    }
   ],
   "source": [
    "TempA = [[int(0) for x in range (Arow)] for y in range(ACol)]\n",
    "\n",
    "for i in range(Arow):\n",
    "    for j in range(ACol):\n",
    "      TempA[j][i] = A[i][j]\n",
    "        \n",
    "print(np.array(TempA)) # Using numpy to print matrix cleanly"
   ]
  },
  {
   "cell_type": "markdown",
   "id": "2e25f652",
   "metadata": {},
   "source": [
    "### 1.2.3 Calculate Determinant of A"
   ]
  },
  {
   "cell_type": "code",
   "execution_count": 12,
   "id": "d5276d45",
   "metadata": {},
   "outputs": [
    {
     "name": "stdout",
     "output_type": "stream",
     "text": [
      "-2\n"
     ]
    }
   ],
   "source": [
    "# I have no idea how to do this in pure python for all possible dimensions.\n",
    "\n",
    "print(round(linalg.det(A)))"
   ]
  },
  {
   "cell_type": "markdown",
   "id": "d82f51f0",
   "metadata": {},
   "source": [
    "### 1.2.4 Calculate A Inverse (If not possible code should give relevant reason)"
   ]
  },
  {
   "cell_type": "code",
   "execution_count": 13,
   "id": "9f592a31",
   "metadata": {},
   "outputs": [
    {
     "name": "stdout",
     "output_type": "stream",
     "text": [
      "[[-2.   1. ]\n",
      " [ 1.5 -0.5]]\n"
     ]
    }
   ],
   "source": [
    "# I have no idea how to do this in pure python for all possible dimensions.\n",
    "\n",
    "print(linalg.inv(A))"
   ]
  },
  {
   "cell_type": "markdown",
   "id": "308f8844",
   "metadata": {},
   "source": [
    "### 1.2.5 Calculate A*B (If not possible, code should give relevant reason)"
   ]
  },
  {
   "cell_type": "code",
   "execution_count": 14,
   "id": "7b159572",
   "metadata": {},
   "outputs": [
    {
     "name": "stdout",
     "output_type": "stream",
     "text": [
      "[[ 7 10]\n",
      " [15 22]]\n"
     ]
    }
   ],
   "source": [
    "if ACol != Brow:\n",
    "    raise ValueError(\"Not Compatible for multiplication.\")\n",
    "else:\n",
    "    multi = [[int(0) for x in range (Arow)] for y in range(BCol)]\n",
    "    for i in range(Arow):\n",
    "        for k in range(BCol):\n",
    "            for j in range(Brow):\n",
    "                multi[i][k] += A[i][j] * B[j][k]\n",
    "    print(np.array(multi)) # Using numpy to print matrix cleanly"
   ]
  },
  {
   "cell_type": "markdown",
   "id": "cfc40ab4",
   "metadata": {},
   "source": [
    "### 1.2.6 Calculate A+B (If not possible, code should give relevant reason)"
   ]
  },
  {
   "cell_type": "code",
   "execution_count": 15,
   "id": "c806d343",
   "metadata": {},
   "outputs": [
    {
     "name": "stdout",
     "output_type": "stream",
     "text": [
      "[[2 4]\n",
      " [6 8]]\n"
     ]
    }
   ],
   "source": [
    "if ACol == BCol and Arow == Brow:\n",
    "    multi = [[int(0) for x in range (Arow)] for y in range(BCol)]\n",
    "    for i in range(ACol):  \n",
    "        for k in range(Brow):\n",
    "            multi[i][k] = A[i][k] + B[i][k]\n",
    "    print(np.array(multi)) # Using numpy to print matrix cleanly\n",
    "else:\n",
    "        raise ValueError(\"Dimensions not Compatible for Addition.\")"
   ]
  },
  {
   "cell_type": "markdown",
   "id": "f61c91ab",
   "metadata": {},
   "source": [
    "## 1.3 Matrix manipulation using Numpy\n"
   ]
  },
  {
   "cell_type": "markdown",
   "id": "07374ed1",
   "metadata": {},
   "source": [
    "### 1.3.1 Perform all the operations in the previous question using Numpy"
   ]
  },
  {
   "cell_type": "code",
   "execution_count": 16,
   "id": "78bc79d3",
   "metadata": {},
   "outputs": [
    {
     "name": "stdout",
     "output_type": "stream",
     "text": [
      "Enter power of matrix: 2\n"
     ]
    },
    {
     "data": {
      "text/plain": [
       "matrix([[ 7, 10],\n",
       "        [15, 22]])"
      ]
     },
     "execution_count": 16,
     "metadata": {},
     "output_type": "execute_result"
    }
   ],
   "source": [
    "# A^n\n",
    "matrixPower = int(input(\"Enter power of matrix: \"))\n",
    "A = np.matrix(A)\n",
    "linalg.matrix_power(A, matrixPower)"
   ]
  },
  {
   "cell_type": "code",
   "execution_count": 17,
   "id": "ad309ef5",
   "metadata": {},
   "outputs": [
    {
     "name": "stdout",
     "output_type": "stream",
     "text": [
      "[[1 3]\n",
      " [2 4]]\n"
     ]
    }
   ],
   "source": [
    "# Transpose\n",
    "print(A.getT())"
   ]
  },
  {
   "cell_type": "code",
   "execution_count": 18,
   "id": "166ab32d",
   "metadata": {},
   "outputs": [
    {
     "name": "stdout",
     "output_type": "stream",
     "text": [
      "-2\n"
     ]
    }
   ],
   "source": [
    "# Determinant\n",
    "print(round(linalg.det(A)))"
   ]
  },
  {
   "cell_type": "code",
   "execution_count": 19,
   "id": "df592d8f",
   "metadata": {},
   "outputs": [
    {
     "name": "stdout",
     "output_type": "stream",
     "text": [
      "[[-2.   1. ]\n",
      " [ 1.5 -0.5]]\n"
     ]
    }
   ],
   "source": [
    "# Inverse\n",
    "print(linalg.inv(A))"
   ]
  },
  {
   "cell_type": "code",
   "execution_count": 20,
   "id": "9a6e006b",
   "metadata": {},
   "outputs": [
    {
     "name": "stdout",
     "output_type": "stream",
     "text": [
      "[[ 7 10]\n",
      " [15 22]]\n"
     ]
    }
   ],
   "source": [
    "# Multiplication\n",
    "dotMat = np.dot(A, B)\n",
    "print(dotMat)"
   ]
  },
  {
   "cell_type": "code",
   "execution_count": 21,
   "id": "8d5434ce",
   "metadata": {},
   "outputs": [
    {
     "name": "stdout",
     "output_type": "stream",
     "text": [
      "[[2 4]\n",
      " [6 8]]\n"
     ]
    }
   ],
   "source": [
    "# Addition\n",
    "sumMat = np.add(A, B)\n",
    "print(sumMat)"
   ]
  },
  {
   "cell_type": "markdown",
   "id": "68858b57",
   "metadata": {},
   "source": [
    "### 1.3.2 Perform following operations in Numpy: Reduced Mean, Reduced Sum, Argmax, Zip and One Hot Encoding"
   ]
  },
  {
   "cell_type": "code",
   "execution_count": 22,
   "id": "e5ce7ac1",
   "metadata": {},
   "outputs": [
    {
     "data": {
      "text/plain": [
       "matrix([[1, 2],\n",
       "        [3, 4]])"
      ]
     },
     "execution_count": 22,
     "metadata": {},
     "output_type": "execute_result"
    }
   ],
   "source": [
    "A # Current Matrix"
   ]
  },
  {
   "cell_type": "code",
   "execution_count": 23,
   "id": "54c849c5",
   "metadata": {},
   "outputs": [
    {
     "data": {
      "text/plain": [
       "2.5"
      ]
     },
     "execution_count": 23,
     "metadata": {},
     "output_type": "execute_result"
    }
   ],
   "source": [
    "# Reduced Mean\n",
    "np.mean(A)"
   ]
  },
  {
   "cell_type": "code",
   "execution_count": 24,
   "id": "0001258f",
   "metadata": {},
   "outputs": [
    {
     "data": {
      "text/plain": [
       "10"
      ]
     },
     "execution_count": 24,
     "metadata": {},
     "output_type": "execute_result"
    }
   ],
   "source": [
    "# Reduced Sum\n",
    "np.sum(A)"
   ]
  },
  {
   "cell_type": "code",
   "execution_count": 25,
   "id": "3ea7cbf3",
   "metadata": {},
   "outputs": [
    {
     "data": {
      "text/plain": [
       "3"
      ]
     },
     "execution_count": 25,
     "metadata": {},
     "output_type": "execute_result"
    }
   ],
   "source": [
    "# Argmax\n",
    "np.argmax(A)"
   ]
  },
  {
   "cell_type": "code",
   "execution_count": 26,
   "id": "98b426df",
   "metadata": {},
   "outputs": [
    {
     "data": {
      "text/plain": [
       "array([[[[1, 2]]],\n",
       "\n",
       "\n",
       "       [[[3, 4]]]])"
      ]
     },
     "execution_count": 26,
     "metadata": {},
     "output_type": "execute_result"
    }
   ],
   "source": [
    "# Zip\n",
    "np.array(list(zip(A)))"
   ]
  },
  {
   "cell_type": "code",
   "execution_count": 27,
   "id": "46dbc689",
   "metadata": {},
   "outputs": [
    {
     "data": {
      "text/plain": [
       "array([[[0., 1., 0., 0., 0.],\n",
       "        [0., 0., 1., 0., 0.]],\n",
       "\n",
       "       [[0., 0., 0., 1., 0.],\n",
       "        [0., 0., 0., 0., 1.]]])"
      ]
     },
     "execution_count": 27,
     "metadata": {},
     "output_type": "execute_result"
    }
   ],
   "source": [
    "# One-Hot Encoding\n",
    "val = np.max(A) + 1\n",
    "np.eye(val)[A]"
   ]
  },
  {
   "cell_type": "markdown",
   "id": "625e59f7",
   "metadata": {},
   "source": [
    "# 2 Pandas"
   ]
  },
  {
   "cell_type": "markdown",
   "id": "6f63d216",
   "metadata": {},
   "source": [
    "## 2.1 read a csv data to pandas dataframe (data 1)"
   ]
  },
  {
   "cell_type": "code",
   "execution_count": 28,
   "id": "0d2303e0",
   "metadata": {},
   "outputs": [],
   "source": [
    "import pandas as pd"
   ]
  },
  {
   "cell_type": "code",
   "execution_count": 29,
   "id": "8146bf29",
   "metadata": {},
   "outputs": [
    {
     "data": {
      "text/html": [
       "<div>\n",
       "<style scoped>\n",
       "    .dataframe tbody tr th:only-of-type {\n",
       "        vertical-align: middle;\n",
       "    }\n",
       "\n",
       "    .dataframe tbody tr th {\n",
       "        vertical-align: top;\n",
       "    }\n",
       "\n",
       "    .dataframe thead th {\n",
       "        text-align: right;\n",
       "    }\n",
       "</style>\n",
       "<table border=\"1\" class=\"dataframe\">\n",
       "  <thead>\n",
       "    <tr style=\"text-align: right;\">\n",
       "      <th></th>\n",
       "      <th>First</th>\n",
       "      <th>Second</th>\n",
       "    </tr>\n",
       "  </thead>\n",
       "  <tbody>\n",
       "    <tr>\n",
       "      <th>0</th>\n",
       "      <td>-0.752400</td>\n",
       "      <td>-1.992827</td>\n",
       "    </tr>\n",
       "    <tr>\n",
       "      <th>1</th>\n",
       "      <td>-0.702025</td>\n",
       "      <td>-1.935445</td>\n",
       "    </tr>\n",
       "    <tr>\n",
       "      <th>2</th>\n",
       "      <td>0.058185</td>\n",
       "      <td>-1.020321</td>\n",
       "    </tr>\n",
       "    <tr>\n",
       "      <th>3</th>\n",
       "      <td>-0.097662</td>\n",
       "      <td>-1.857889</td>\n",
       "    </tr>\n",
       "    <tr>\n",
       "      <th>4</th>\n",
       "      <td>-0.369050</td>\n",
       "      <td>0.209050</td>\n",
       "    </tr>\n",
       "    <tr>\n",
       "      <th>...</th>\n",
       "      <td>...</td>\n",
       "      <td>...</td>\n",
       "    </tr>\n",
       "    <tr>\n",
       "      <th>9995</th>\n",
       "      <td>0.106437</td>\n",
       "      <td>-1.723467</td>\n",
       "    </tr>\n",
       "    <tr>\n",
       "      <th>9996</th>\n",
       "      <td>-0.535412</td>\n",
       "      <td>-2.009323</td>\n",
       "    </tr>\n",
       "    <tr>\n",
       "      <th>9997</th>\n",
       "      <td>1.358514</td>\n",
       "      <td>4.867444</td>\n",
       "    </tr>\n",
       "    <tr>\n",
       "      <th>9998</th>\n",
       "      <td>0.668055</td>\n",
       "      <td>2.753525</td>\n",
       "    </tr>\n",
       "    <tr>\n",
       "      <th>9999</th>\n",
       "      <td>0.190843</td>\n",
       "      <td>2.156421</td>\n",
       "    </tr>\n",
       "  </tbody>\n",
       "</table>\n",
       "<p>10000 rows × 2 columns</p>\n",
       "</div>"
      ],
      "text/plain": [
       "         First    Second\n",
       "0    -0.752400 -1.992827\n",
       "1    -0.702025 -1.935445\n",
       "2     0.058185 -1.020321\n",
       "3    -0.097662 -1.857889\n",
       "4    -0.369050  0.209050\n",
       "...        ...       ...\n",
       "9995  0.106437 -1.723467\n",
       "9996 -0.535412 -2.009323\n",
       "9997  1.358514  4.867444\n",
       "9998  0.668055  2.753525\n",
       "9999  0.190843  2.156421\n",
       "\n",
       "[10000 rows x 2 columns]"
      ]
     },
     "execution_count": 29,
     "metadata": {},
     "output_type": "execute_result"
    }
   ],
   "source": [
    "data1 = pd.read_csv('data_1.csv', header=None)\n",
    "data1.columns = ['First', 'Second']\n",
    "data1"
   ]
  },
  {
   "cell_type": "markdown",
   "id": "ed00daa4",
   "metadata": {},
   "source": [
    "## 2.2 Demonstrate any 5 functions from the following link on the loaded dataset\n",
    "\n",
    "https://pandas.pydata.org/docs/reference/general_functions.html"
   ]
  },
  {
   "cell_type": "code",
   "execution_count": 30,
   "id": "3889069a",
   "metadata": {},
   "outputs": [
    {
     "data": {
      "text/html": [
       "<div>\n",
       "<style scoped>\n",
       "    .dataframe tbody tr th:only-of-type {\n",
       "        vertical-align: middle;\n",
       "    }\n",
       "\n",
       "    .dataframe tbody tr th {\n",
       "        vertical-align: top;\n",
       "    }\n",
       "\n",
       "    .dataframe thead th {\n",
       "        text-align: right;\n",
       "    }\n",
       "</style>\n",
       "<table border=\"1\" class=\"dataframe\">\n",
       "  <thead>\n",
       "    <tr style=\"text-align: right;\">\n",
       "      <th></th>\n",
       "      <th>First</th>\n",
       "      <th>Second</th>\n",
       "    </tr>\n",
       "  </thead>\n",
       "  <tbody>\n",
       "    <tr>\n",
       "      <th>0</th>\n",
       "      <td>False</td>\n",
       "      <td>False</td>\n",
       "    </tr>\n",
       "    <tr>\n",
       "      <th>1</th>\n",
       "      <td>False</td>\n",
       "      <td>False</td>\n",
       "    </tr>\n",
       "    <tr>\n",
       "      <th>2</th>\n",
       "      <td>False</td>\n",
       "      <td>False</td>\n",
       "    </tr>\n",
       "    <tr>\n",
       "      <th>3</th>\n",
       "      <td>False</td>\n",
       "      <td>False</td>\n",
       "    </tr>\n",
       "    <tr>\n",
       "      <th>4</th>\n",
       "      <td>False</td>\n",
       "      <td>False</td>\n",
       "    </tr>\n",
       "    <tr>\n",
       "      <th>...</th>\n",
       "      <td>...</td>\n",
       "      <td>...</td>\n",
       "    </tr>\n",
       "    <tr>\n",
       "      <th>9995</th>\n",
       "      <td>False</td>\n",
       "      <td>False</td>\n",
       "    </tr>\n",
       "    <tr>\n",
       "      <th>9996</th>\n",
       "      <td>False</td>\n",
       "      <td>False</td>\n",
       "    </tr>\n",
       "    <tr>\n",
       "      <th>9997</th>\n",
       "      <td>False</td>\n",
       "      <td>False</td>\n",
       "    </tr>\n",
       "    <tr>\n",
       "      <th>9998</th>\n",
       "      <td>False</td>\n",
       "      <td>False</td>\n",
       "    </tr>\n",
       "    <tr>\n",
       "      <th>9999</th>\n",
       "      <td>False</td>\n",
       "      <td>False</td>\n",
       "    </tr>\n",
       "  </tbody>\n",
       "</table>\n",
       "<p>10000 rows × 2 columns</p>\n",
       "</div>"
      ],
      "text/plain": [
       "      First  Second\n",
       "0     False   False\n",
       "1     False   False\n",
       "2     False   False\n",
       "3     False   False\n",
       "4     False   False\n",
       "...     ...     ...\n",
       "9995  False   False\n",
       "9996  False   False\n",
       "9997  False   False\n",
       "9998  False   False\n",
       "9999  False   False\n",
       "\n",
       "[10000 rows x 2 columns]"
      ]
     },
     "execution_count": 30,
     "metadata": {},
     "output_type": "execute_result"
    }
   ],
   "source": [
    "# Is NA\n",
    "pd.isna(data1)"
   ]
  },
  {
   "cell_type": "code",
   "execution_count": 31,
   "id": "2e143f22",
   "metadata": {},
   "outputs": [
    {
     "data": {
      "text/html": [
       "<div>\n",
       "<style scoped>\n",
       "    .dataframe tbody tr th:only-of-type {\n",
       "        vertical-align: middle;\n",
       "    }\n",
       "\n",
       "    .dataframe tbody tr th {\n",
       "        vertical-align: top;\n",
       "    }\n",
       "\n",
       "    .dataframe thead th {\n",
       "        text-align: right;\n",
       "    }\n",
       "</style>\n",
       "<table border=\"1\" class=\"dataframe\">\n",
       "  <thead>\n",
       "    <tr style=\"text-align: right;\">\n",
       "      <th>First</th>\n",
       "      <th>-3.949464</th>\n",
       "      <th>-3.641073</th>\n",
       "      <th>-3.266283</th>\n",
       "      <th>-3.162066</th>\n",
       "      <th>-3.155156</th>\n",
       "      <th>-3.123999</th>\n",
       "      <th>-3.109615</th>\n",
       "      <th>-3.107687</th>\n",
       "      <th>-3.105265</th>\n",
       "      <th>-3.084535</th>\n",
       "      <th>...</th>\n",
       "      <th>2.994660</th>\n",
       "      <th>2.995503</th>\n",
       "      <th>2.999779</th>\n",
       "      <th>3.049884</th>\n",
       "      <th>3.069449</th>\n",
       "      <th>3.181505</th>\n",
       "      <th>3.231842</th>\n",
       "      <th>3.265952</th>\n",
       "      <th>3.273152</th>\n",
       "      <th>3.583412</th>\n",
       "    </tr>\n",
       "  </thead>\n",
       "  <tbody>\n",
       "    <tr>\n",
       "      <th>Second</th>\n",
       "      <td>-13.892867</td>\n",
       "      <td>-8.57319</td>\n",
       "      <td>-8.398352</td>\n",
       "      <td>-9.999708</td>\n",
       "      <td>-10.164034</td>\n",
       "      <td>-9.798856</td>\n",
       "      <td>-9.222429</td>\n",
       "      <td>-10.180503</td>\n",
       "      <td>-8.254522</td>\n",
       "      <td>-11.327178</td>\n",
       "      <td>...</td>\n",
       "      <td>6.885693</td>\n",
       "      <td>9.572446</td>\n",
       "      <td>10.180504</td>\n",
       "      <td>9.081457</td>\n",
       "      <td>9.799602</td>\n",
       "      <td>9.726477</td>\n",
       "      <td>8.722053</td>\n",
       "      <td>12.15276</td>\n",
       "      <td>12.279487</td>\n",
       "      <td>10.973201</td>\n",
       "    </tr>\n",
       "  </tbody>\n",
       "</table>\n",
       "<p>1 rows × 10000 columns</p>\n",
       "</div>"
      ],
      "text/plain": [
       "First   -3.949464  -3.641073  -3.266283  -3.162066  -3.155156  -3.123999  \\\n",
       "Second -13.892867   -8.57319  -8.398352  -9.999708 -10.164034  -9.798856   \n",
       "\n",
       "First   -3.109615  -3.107687  -3.105265  -3.084535  ...   2.994660   2.995503  \\\n",
       "Second  -9.222429 -10.180503  -8.254522 -11.327178  ...   6.885693   9.572446   \n",
       "\n",
       "First    2.999779   3.049884   3.069449   3.181505   3.231842   3.265952  \\\n",
       "Second  10.180504   9.081457   9.799602   9.726477   8.722053   12.15276   \n",
       "\n",
       "First    3.273152   3.583412  \n",
       "Second  12.279487  10.973201  \n",
       "\n",
       "[1 rows x 10000 columns]"
      ]
     },
     "execution_count": 31,
     "metadata": {},
     "output_type": "execute_result"
    }
   ],
   "source": [
    "# Pivot Table\n",
    "pd.pivot_table(data1, values = 'Second', columns = 'First', aggfunc = np.sum)"
   ]
  },
  {
   "cell_type": "code",
   "execution_count": 32,
   "id": "c88454b0",
   "metadata": {},
   "outputs": [
    {
     "data": {
      "text/html": [
       "<div>\n",
       "<style scoped>\n",
       "    .dataframe tbody tr th:only-of-type {\n",
       "        vertical-align: middle;\n",
       "    }\n",
       "\n",
       "    .dataframe tbody tr th {\n",
       "        vertical-align: top;\n",
       "    }\n",
       "\n",
       "    .dataframe thead th {\n",
       "        text-align: right;\n",
       "    }\n",
       "</style>\n",
       "<table border=\"1\" class=\"dataframe\">\n",
       "  <thead>\n",
       "    <tr style=\"text-align: right;\">\n",
       "      <th>First</th>\n",
       "      <th>-3.949464</th>\n",
       "      <th>-3.641073</th>\n",
       "      <th>-3.266283</th>\n",
       "      <th>-3.162066</th>\n",
       "      <th>-3.155156</th>\n",
       "      <th>-3.123999</th>\n",
       "      <th>-3.109615</th>\n",
       "      <th>-3.107687</th>\n",
       "      <th>-3.105265</th>\n",
       "      <th>-3.084535</th>\n",
       "      <th>...</th>\n",
       "      <th>2.994660</th>\n",
       "      <th>2.995503</th>\n",
       "      <th>2.999779</th>\n",
       "      <th>3.049884</th>\n",
       "      <th>3.069449</th>\n",
       "      <th>3.181505</th>\n",
       "      <th>3.231842</th>\n",
       "      <th>3.265952</th>\n",
       "      <th>3.273152</th>\n",
       "      <th>3.583412</th>\n",
       "    </tr>\n",
       "  </thead>\n",
       "  <tbody>\n",
       "    <tr>\n",
       "      <th>0</th>\n",
       "      <td>NaN</td>\n",
       "      <td>NaN</td>\n",
       "      <td>NaN</td>\n",
       "      <td>NaN</td>\n",
       "      <td>NaN</td>\n",
       "      <td>NaN</td>\n",
       "      <td>NaN</td>\n",
       "      <td>NaN</td>\n",
       "      <td>NaN</td>\n",
       "      <td>NaN</td>\n",
       "      <td>...</td>\n",
       "      <td>NaN</td>\n",
       "      <td>NaN</td>\n",
       "      <td>NaN</td>\n",
       "      <td>NaN</td>\n",
       "      <td>NaN</td>\n",
       "      <td>NaN</td>\n",
       "      <td>NaN</td>\n",
       "      <td>NaN</td>\n",
       "      <td>NaN</td>\n",
       "      <td>NaN</td>\n",
       "    </tr>\n",
       "    <tr>\n",
       "      <th>1</th>\n",
       "      <td>NaN</td>\n",
       "      <td>NaN</td>\n",
       "      <td>NaN</td>\n",
       "      <td>NaN</td>\n",
       "      <td>NaN</td>\n",
       "      <td>NaN</td>\n",
       "      <td>NaN</td>\n",
       "      <td>NaN</td>\n",
       "      <td>NaN</td>\n",
       "      <td>NaN</td>\n",
       "      <td>...</td>\n",
       "      <td>NaN</td>\n",
       "      <td>NaN</td>\n",
       "      <td>NaN</td>\n",
       "      <td>NaN</td>\n",
       "      <td>NaN</td>\n",
       "      <td>NaN</td>\n",
       "      <td>NaN</td>\n",
       "      <td>NaN</td>\n",
       "      <td>NaN</td>\n",
       "      <td>NaN</td>\n",
       "    </tr>\n",
       "    <tr>\n",
       "      <th>2</th>\n",
       "      <td>NaN</td>\n",
       "      <td>NaN</td>\n",
       "      <td>NaN</td>\n",
       "      <td>NaN</td>\n",
       "      <td>NaN</td>\n",
       "      <td>NaN</td>\n",
       "      <td>NaN</td>\n",
       "      <td>NaN</td>\n",
       "      <td>NaN</td>\n",
       "      <td>NaN</td>\n",
       "      <td>...</td>\n",
       "      <td>NaN</td>\n",
       "      <td>NaN</td>\n",
       "      <td>NaN</td>\n",
       "      <td>NaN</td>\n",
       "      <td>NaN</td>\n",
       "      <td>NaN</td>\n",
       "      <td>NaN</td>\n",
       "      <td>NaN</td>\n",
       "      <td>NaN</td>\n",
       "      <td>NaN</td>\n",
       "    </tr>\n",
       "    <tr>\n",
       "      <th>3</th>\n",
       "      <td>NaN</td>\n",
       "      <td>NaN</td>\n",
       "      <td>NaN</td>\n",
       "      <td>NaN</td>\n",
       "      <td>NaN</td>\n",
       "      <td>NaN</td>\n",
       "      <td>NaN</td>\n",
       "      <td>NaN</td>\n",
       "      <td>NaN</td>\n",
       "      <td>NaN</td>\n",
       "      <td>...</td>\n",
       "      <td>NaN</td>\n",
       "      <td>NaN</td>\n",
       "      <td>NaN</td>\n",
       "      <td>NaN</td>\n",
       "      <td>NaN</td>\n",
       "      <td>NaN</td>\n",
       "      <td>NaN</td>\n",
       "      <td>NaN</td>\n",
       "      <td>NaN</td>\n",
       "      <td>NaN</td>\n",
       "    </tr>\n",
       "    <tr>\n",
       "      <th>4</th>\n",
       "      <td>NaN</td>\n",
       "      <td>NaN</td>\n",
       "      <td>NaN</td>\n",
       "      <td>NaN</td>\n",
       "      <td>NaN</td>\n",
       "      <td>NaN</td>\n",
       "      <td>NaN</td>\n",
       "      <td>NaN</td>\n",
       "      <td>NaN</td>\n",
       "      <td>NaN</td>\n",
       "      <td>...</td>\n",
       "      <td>NaN</td>\n",
       "      <td>NaN</td>\n",
       "      <td>NaN</td>\n",
       "      <td>NaN</td>\n",
       "      <td>NaN</td>\n",
       "      <td>NaN</td>\n",
       "      <td>NaN</td>\n",
       "      <td>NaN</td>\n",
       "      <td>NaN</td>\n",
       "      <td>NaN</td>\n",
       "    </tr>\n",
       "    <tr>\n",
       "      <th>...</th>\n",
       "      <td>...</td>\n",
       "      <td>...</td>\n",
       "      <td>...</td>\n",
       "      <td>...</td>\n",
       "      <td>...</td>\n",
       "      <td>...</td>\n",
       "      <td>...</td>\n",
       "      <td>...</td>\n",
       "      <td>...</td>\n",
       "      <td>...</td>\n",
       "      <td>...</td>\n",
       "      <td>...</td>\n",
       "      <td>...</td>\n",
       "      <td>...</td>\n",
       "      <td>...</td>\n",
       "      <td>...</td>\n",
       "      <td>...</td>\n",
       "      <td>...</td>\n",
       "      <td>...</td>\n",
       "      <td>...</td>\n",
       "      <td>...</td>\n",
       "    </tr>\n",
       "    <tr>\n",
       "      <th>9995</th>\n",
       "      <td>NaN</td>\n",
       "      <td>NaN</td>\n",
       "      <td>NaN</td>\n",
       "      <td>NaN</td>\n",
       "      <td>NaN</td>\n",
       "      <td>NaN</td>\n",
       "      <td>NaN</td>\n",
       "      <td>NaN</td>\n",
       "      <td>NaN</td>\n",
       "      <td>NaN</td>\n",
       "      <td>...</td>\n",
       "      <td>NaN</td>\n",
       "      <td>NaN</td>\n",
       "      <td>NaN</td>\n",
       "      <td>NaN</td>\n",
       "      <td>NaN</td>\n",
       "      <td>NaN</td>\n",
       "      <td>NaN</td>\n",
       "      <td>NaN</td>\n",
       "      <td>NaN</td>\n",
       "      <td>NaN</td>\n",
       "    </tr>\n",
       "    <tr>\n",
       "      <th>9996</th>\n",
       "      <td>NaN</td>\n",
       "      <td>NaN</td>\n",
       "      <td>NaN</td>\n",
       "      <td>NaN</td>\n",
       "      <td>NaN</td>\n",
       "      <td>NaN</td>\n",
       "      <td>NaN</td>\n",
       "      <td>NaN</td>\n",
       "      <td>NaN</td>\n",
       "      <td>NaN</td>\n",
       "      <td>...</td>\n",
       "      <td>NaN</td>\n",
       "      <td>NaN</td>\n",
       "      <td>NaN</td>\n",
       "      <td>NaN</td>\n",
       "      <td>NaN</td>\n",
       "      <td>NaN</td>\n",
       "      <td>NaN</td>\n",
       "      <td>NaN</td>\n",
       "      <td>NaN</td>\n",
       "      <td>NaN</td>\n",
       "    </tr>\n",
       "    <tr>\n",
       "      <th>9997</th>\n",
       "      <td>NaN</td>\n",
       "      <td>NaN</td>\n",
       "      <td>NaN</td>\n",
       "      <td>NaN</td>\n",
       "      <td>NaN</td>\n",
       "      <td>NaN</td>\n",
       "      <td>NaN</td>\n",
       "      <td>NaN</td>\n",
       "      <td>NaN</td>\n",
       "      <td>NaN</td>\n",
       "      <td>...</td>\n",
       "      <td>NaN</td>\n",
       "      <td>NaN</td>\n",
       "      <td>NaN</td>\n",
       "      <td>NaN</td>\n",
       "      <td>NaN</td>\n",
       "      <td>NaN</td>\n",
       "      <td>NaN</td>\n",
       "      <td>NaN</td>\n",
       "      <td>NaN</td>\n",
       "      <td>NaN</td>\n",
       "    </tr>\n",
       "    <tr>\n",
       "      <th>9998</th>\n",
       "      <td>NaN</td>\n",
       "      <td>NaN</td>\n",
       "      <td>NaN</td>\n",
       "      <td>NaN</td>\n",
       "      <td>NaN</td>\n",
       "      <td>NaN</td>\n",
       "      <td>NaN</td>\n",
       "      <td>NaN</td>\n",
       "      <td>NaN</td>\n",
       "      <td>NaN</td>\n",
       "      <td>...</td>\n",
       "      <td>NaN</td>\n",
       "      <td>NaN</td>\n",
       "      <td>NaN</td>\n",
       "      <td>NaN</td>\n",
       "      <td>NaN</td>\n",
       "      <td>NaN</td>\n",
       "      <td>NaN</td>\n",
       "      <td>NaN</td>\n",
       "      <td>NaN</td>\n",
       "      <td>NaN</td>\n",
       "    </tr>\n",
       "    <tr>\n",
       "      <th>9999</th>\n",
       "      <td>NaN</td>\n",
       "      <td>NaN</td>\n",
       "      <td>NaN</td>\n",
       "      <td>NaN</td>\n",
       "      <td>NaN</td>\n",
       "      <td>NaN</td>\n",
       "      <td>NaN</td>\n",
       "      <td>NaN</td>\n",
       "      <td>NaN</td>\n",
       "      <td>NaN</td>\n",
       "      <td>...</td>\n",
       "      <td>NaN</td>\n",
       "      <td>NaN</td>\n",
       "      <td>NaN</td>\n",
       "      <td>NaN</td>\n",
       "      <td>NaN</td>\n",
       "      <td>NaN</td>\n",
       "      <td>NaN</td>\n",
       "      <td>NaN</td>\n",
       "      <td>NaN</td>\n",
       "      <td>NaN</td>\n",
       "    </tr>\n",
       "  </tbody>\n",
       "</table>\n",
       "<p>10000 rows × 10000 columns</p>\n",
       "</div>"
      ],
      "text/plain": [
       "First  -3.949464  -3.641073  -3.266283  -3.162066  -3.155156  -3.123999  \\\n",
       "0            NaN        NaN        NaN        NaN        NaN        NaN   \n",
       "1            NaN        NaN        NaN        NaN        NaN        NaN   \n",
       "2            NaN        NaN        NaN        NaN        NaN        NaN   \n",
       "3            NaN        NaN        NaN        NaN        NaN        NaN   \n",
       "4            NaN        NaN        NaN        NaN        NaN        NaN   \n",
       "...          ...        ...        ...        ...        ...        ...   \n",
       "9995         NaN        NaN        NaN        NaN        NaN        NaN   \n",
       "9996         NaN        NaN        NaN        NaN        NaN        NaN   \n",
       "9997         NaN        NaN        NaN        NaN        NaN        NaN   \n",
       "9998         NaN        NaN        NaN        NaN        NaN        NaN   \n",
       "9999         NaN        NaN        NaN        NaN        NaN        NaN   \n",
       "\n",
       "First  -3.109615  -3.107687  -3.105265  -3.084535  ...   2.994660   2.995503  \\\n",
       "0            NaN        NaN        NaN        NaN  ...        NaN        NaN   \n",
       "1            NaN        NaN        NaN        NaN  ...        NaN        NaN   \n",
       "2            NaN        NaN        NaN        NaN  ...        NaN        NaN   \n",
       "3            NaN        NaN        NaN        NaN  ...        NaN        NaN   \n",
       "4            NaN        NaN        NaN        NaN  ...        NaN        NaN   \n",
       "...          ...        ...        ...        ...  ...        ...        ...   \n",
       "9995         NaN        NaN        NaN        NaN  ...        NaN        NaN   \n",
       "9996         NaN        NaN        NaN        NaN  ...        NaN        NaN   \n",
       "9997         NaN        NaN        NaN        NaN  ...        NaN        NaN   \n",
       "9998         NaN        NaN        NaN        NaN  ...        NaN        NaN   \n",
       "9999         NaN        NaN        NaN        NaN  ...        NaN        NaN   \n",
       "\n",
       "First   2.999779   3.049884   3.069449   3.181505   3.231842   3.265952  \\\n",
       "0            NaN        NaN        NaN        NaN        NaN        NaN   \n",
       "1            NaN        NaN        NaN        NaN        NaN        NaN   \n",
       "2            NaN        NaN        NaN        NaN        NaN        NaN   \n",
       "3            NaN        NaN        NaN        NaN        NaN        NaN   \n",
       "4            NaN        NaN        NaN        NaN        NaN        NaN   \n",
       "...          ...        ...        ...        ...        ...        ...   \n",
       "9995         NaN        NaN        NaN        NaN        NaN        NaN   \n",
       "9996         NaN        NaN        NaN        NaN        NaN        NaN   \n",
       "9997         NaN        NaN        NaN        NaN        NaN        NaN   \n",
       "9998         NaN        NaN        NaN        NaN        NaN        NaN   \n",
       "9999         NaN        NaN        NaN        NaN        NaN        NaN   \n",
       "\n",
       "First   3.273152   3.583412  \n",
       "0            NaN        NaN  \n",
       "1            NaN        NaN  \n",
       "2            NaN        NaN  \n",
       "3            NaN        NaN  \n",
       "4            NaN        NaN  \n",
       "...          ...        ...  \n",
       "9995         NaN        NaN  \n",
       "9996         NaN        NaN  \n",
       "9997         NaN        NaN  \n",
       "9998         NaN        NaN  \n",
       "9999         NaN        NaN  \n",
       "\n",
       "[10000 rows x 10000 columns]"
      ]
     },
     "execution_count": 32,
     "metadata": {},
     "output_type": "execute_result"
    }
   ],
   "source": [
    "# Pivot\n",
    "data1.pivot(columns = 'First', values = 'Second')"
   ]
  },
  {
   "cell_type": "code",
   "execution_count": 33,
   "id": "b82288e8",
   "metadata": {},
   "outputs": [
    {
     "data": {
      "text/plain": [
       "(array([   0,    1,    2, ..., 9997, 9998, 9999], dtype=int64),\n",
       " Float64Index([-0.7524002899415843, -0.7020251929703375,   0.058184740184188,\n",
       "               -0.0976619343659567, -0.3690495237283241,  0.0285249083926269,\n",
       "                1.5604812759777338, -0.3459511472537815, -0.1046373120375248,\n",
       "               -0.4502711120236922,\n",
       "               ...\n",
       "                0.1671284785758702, -0.1683747668522964,  2.0262333738536773,\n",
       "               -1.0592402070019418,  0.3780671297135738,  0.1064369141745925,\n",
       "               -0.5354121596623248,  1.3585144734253831,   0.668055192069913,\n",
       "                0.1908428931647821],\n",
       "              dtype='float64', length=10000))"
      ]
     },
     "execution_count": 33,
     "metadata": {},
     "output_type": "execute_result"
    }
   ],
   "source": [
    "# Factorize\n",
    "factored = pd.factorize(data1.loc[:,'First'])\n",
    "factored"
   ]
  },
  {
   "cell_type": "code",
   "execution_count": 34,
   "id": "33f75157",
   "metadata": {},
   "outputs": [
    {
     "data": {
      "text/plain": [
       "array([-0.75240029, -0.70202519,  0.05818474, ...,  1.35851447,\n",
       "        0.66805519,  0.19084289])"
      ]
     },
     "execution_count": 34,
     "metadata": {},
     "output_type": "execute_result"
    }
   ],
   "source": [
    "# Unique\n",
    "pd.unique(data1.loc[:,'First'])"
   ]
  },
  {
   "cell_type": "markdown",
   "id": "887f85ee",
   "metadata": {},
   "source": [
    "# 3 Plotting"
   ]
  },
  {
   "cell_type": "markdown",
   "id": "b11fb4e0",
   "metadata": {},
   "source": [
    "## 3.1 read a csv data to pandas dataframe (data 2)"
   ]
  },
  {
   "cell_type": "code",
   "execution_count": 35,
   "id": "a7949fc7",
   "metadata": {},
   "outputs": [
    {
     "data": {
      "text/html": [
       "<div>\n",
       "<style scoped>\n",
       "    .dataframe tbody tr th:only-of-type {\n",
       "        vertical-align: middle;\n",
       "    }\n",
       "\n",
       "    .dataframe tbody tr th {\n",
       "        vertical-align: top;\n",
       "    }\n",
       "\n",
       "    .dataframe thead th {\n",
       "        text-align: right;\n",
       "    }\n",
       "</style>\n",
       "<table border=\"1\" class=\"dataframe\">\n",
       "  <thead>\n",
       "    <tr style=\"text-align: right;\">\n",
       "      <th></th>\n",
       "      <th>First</th>\n",
       "      <th>Second</th>\n",
       "    </tr>\n",
       "  </thead>\n",
       "  <tbody>\n",
       "    <tr>\n",
       "      <th>0</th>\n",
       "      <td>-6.283185</td>\n",
       "      <td>0.043487</td>\n",
       "    </tr>\n",
       "    <tr>\n",
       "      <th>1</th>\n",
       "      <td>-6.281929</td>\n",
       "      <td>0.084347</td>\n",
       "    </tr>\n",
       "    <tr>\n",
       "      <th>2</th>\n",
       "      <td>-6.280672</td>\n",
       "      <td>-0.028693</td>\n",
       "    </tr>\n",
       "    <tr>\n",
       "      <th>3</th>\n",
       "      <td>-6.279415</td>\n",
       "      <td>0.021445</td>\n",
       "    </tr>\n",
       "    <tr>\n",
       "      <th>4</th>\n",
       "      <td>-6.278158</td>\n",
       "      <td>0.020871</td>\n",
       "    </tr>\n",
       "    <tr>\n",
       "      <th>...</th>\n",
       "      <td>...</td>\n",
       "      <td>...</td>\n",
       "    </tr>\n",
       "    <tr>\n",
       "      <th>9995</th>\n",
       "      <td>6.278158</td>\n",
       "      <td>0.033936</td>\n",
       "    </tr>\n",
       "    <tr>\n",
       "      <th>9996</th>\n",
       "      <td>6.279415</td>\n",
       "      <td>0.035950</td>\n",
       "    </tr>\n",
       "    <tr>\n",
       "      <th>9997</th>\n",
       "      <td>6.280672</td>\n",
       "      <td>0.053126</td>\n",
       "    </tr>\n",
       "    <tr>\n",
       "      <th>9998</th>\n",
       "      <td>6.281929</td>\n",
       "      <td>0.009556</td>\n",
       "    </tr>\n",
       "    <tr>\n",
       "      <th>9999</th>\n",
       "      <td>6.283185</td>\n",
       "      <td>0.069099</td>\n",
       "    </tr>\n",
       "  </tbody>\n",
       "</table>\n",
       "<p>10000 rows × 2 columns</p>\n",
       "</div>"
      ],
      "text/plain": [
       "         First    Second\n",
       "0    -6.283185  0.043487\n",
       "1    -6.281929  0.084347\n",
       "2    -6.280672 -0.028693\n",
       "3    -6.279415  0.021445\n",
       "4    -6.278158  0.020871\n",
       "...        ...       ...\n",
       "9995  6.278158  0.033936\n",
       "9996  6.279415  0.035950\n",
       "9997  6.280672  0.053126\n",
       "9998  6.281929  0.009556\n",
       "9999  6.283185  0.069099\n",
       "\n",
       "[10000 rows x 2 columns]"
      ]
     },
     "execution_count": 35,
     "metadata": {},
     "output_type": "execute_result"
    }
   ],
   "source": [
    "data2 = pd.read_csv('data_2.csv', header=None)\n",
    "data2.columns = ['First', 'Second']\n",
    "data2"
   ]
  },
  {
   "cell_type": "markdown",
   "id": "f7e75b66",
   "metadata": {},
   "source": [
    "## 3.2 plot the above dataset using matplotlib"
   ]
  },
  {
   "cell_type": "code",
   "execution_count": 36,
   "id": "b3285cb2",
   "metadata": {},
   "outputs": [
    {
     "data": {
      "text/plain": [
       "<AxesSubplot:xlabel='First'>"
      ]
     },
     "execution_count": 36,
     "metadata": {},
     "output_type": "execute_result"
    },
    {
     "data": {
      "image/png": "[encoded data removed]",
      "text/plain": [
       "<Figure size 864x288 with 1 Axes>"
      ]
     },
     "metadata": {
      "needs_background": "light"
     },
     "output_type": "display_data"
    }
   ],
   "source": [
    "data2.plot(figsize = (12,4), x = 0, y = 1)"
   ]
  },
  {
   "cell_type": "markdown",
   "id": "4afadc8a",
   "metadata": {},
   "source": [
    "## 3.3 load the tips dataset from seaborn"
   ]
  },
  {
   "cell_type": "code",
   "execution_count": 37,
   "id": "8ddea696",
   "metadata": {},
   "outputs": [
    {
     "data": {
      "text/html": [
       "<div>\n",
       "<style scoped>\n",
       "    .dataframe tbody tr th:only-of-type {\n",
       "        vertical-align: middle;\n",
       "    }\n",
       "\n",
       "    .dataframe tbody tr th {\n",
       "        vertical-align: top;\n",
       "    }\n",
       "\n",
       "    .dataframe thead th {\n",
       "        text-align: right;\n",
       "    }\n",
       "</style>\n",
       "<table border=\"1\" class=\"dataframe\">\n",
       "  <thead>\n",
       "    <tr style=\"text-align: right;\">\n",
       "      <th></th>\n",
       "      <th>total_bill</th>\n",
       "      <th>tip</th>\n",
       "      <th>sex</th>\n",
       "      <th>smoker</th>\n",
       "      <th>day</th>\n",
       "      <th>time</th>\n",
       "      <th>size</th>\n",
       "    </tr>\n",
       "  </thead>\n",
       "  <tbody>\n",
       "    <tr>\n",
       "      <th>0</th>\n",
       "      <td>16.99</td>\n",
       "      <td>1.01</td>\n",
       "      <td>Female</td>\n",
       "      <td>No</td>\n",
       "      <td>Sun</td>\n",
       "      <td>Dinner</td>\n",
       "      <td>2</td>\n",
       "    </tr>\n",
       "    <tr>\n",
       "      <th>1</th>\n",
       "      <td>10.34</td>\n",
       "      <td>1.66</td>\n",
       "      <td>Male</td>\n",
       "      <td>No</td>\n",
       "      <td>Sun</td>\n",
       "      <td>Dinner</td>\n",
       "      <td>3</td>\n",
       "    </tr>\n",
       "    <tr>\n",
       "      <th>2</th>\n",
       "      <td>21.01</td>\n",
       "      <td>3.50</td>\n",
       "      <td>Male</td>\n",
       "      <td>No</td>\n",
       "      <td>Sun</td>\n",
       "      <td>Dinner</td>\n",
       "      <td>3</td>\n",
       "    </tr>\n",
       "    <tr>\n",
       "      <th>3</th>\n",
       "      <td>23.68</td>\n",
       "      <td>3.31</td>\n",
       "      <td>Male</td>\n",
       "      <td>No</td>\n",
       "      <td>Sun</td>\n",
       "      <td>Dinner</td>\n",
       "      <td>2</td>\n",
       "    </tr>\n",
       "    <tr>\n",
       "      <th>4</th>\n",
       "      <td>24.59</td>\n",
       "      <td>3.61</td>\n",
       "      <td>Female</td>\n",
       "      <td>No</td>\n",
       "      <td>Sun</td>\n",
       "      <td>Dinner</td>\n",
       "      <td>4</td>\n",
       "    </tr>\n",
       "    <tr>\n",
       "      <th>...</th>\n",
       "      <td>...</td>\n",
       "      <td>...</td>\n",
       "      <td>...</td>\n",
       "      <td>...</td>\n",
       "      <td>...</td>\n",
       "      <td>...</td>\n",
       "      <td>...</td>\n",
       "    </tr>\n",
       "    <tr>\n",
       "      <th>239</th>\n",
       "      <td>29.03</td>\n",
       "      <td>5.92</td>\n",
       "      <td>Male</td>\n",
       "      <td>No</td>\n",
       "      <td>Sat</td>\n",
       "      <td>Dinner</td>\n",
       "      <td>3</td>\n",
       "    </tr>\n",
       "    <tr>\n",
       "      <th>240</th>\n",
       "      <td>27.18</td>\n",
       "      <td>2.00</td>\n",
       "      <td>Female</td>\n",
       "      <td>Yes</td>\n",
       "      <td>Sat</td>\n",
       "      <td>Dinner</td>\n",
       "      <td>2</td>\n",
       "    </tr>\n",
       "    <tr>\n",
       "      <th>241</th>\n",
       "      <td>22.67</td>\n",
       "      <td>2.00</td>\n",
       "      <td>Male</td>\n",
       "      <td>Yes</td>\n",
       "      <td>Sat</td>\n",
       "      <td>Dinner</td>\n",
       "      <td>2</td>\n",
       "    </tr>\n",
       "    <tr>\n",
       "      <th>242</th>\n",
       "      <td>17.82</td>\n",
       "      <td>1.75</td>\n",
       "      <td>Male</td>\n",
       "      <td>No</td>\n",
       "      <td>Sat</td>\n",
       "      <td>Dinner</td>\n",
       "      <td>2</td>\n",
       "    </tr>\n",
       "    <tr>\n",
       "      <th>243</th>\n",
       "      <td>18.78</td>\n",
       "      <td>3.00</td>\n",
       "      <td>Female</td>\n",
       "      <td>No</td>\n",
       "      <td>Thur</td>\n",
       "      <td>Dinner</td>\n",
       "      <td>2</td>\n",
       "    </tr>\n",
       "  </tbody>\n",
       "</table>\n",
       "<p>244 rows × 7 columns</p>\n",
       "</div>"
      ],
      "text/plain": [
       "     total_bill   tip     sex smoker   day    time  size\n",
       "0         16.99  1.01  Female     No   Sun  Dinner     2\n",
       "1         10.34  1.66    Male     No   Sun  Dinner     3\n",
       "2         21.01  3.50    Male     No   Sun  Dinner     3\n",
       "3         23.68  3.31    Male     No   Sun  Dinner     2\n",
       "4         24.59  3.61  Female     No   Sun  Dinner     4\n",
       "..          ...   ...     ...    ...   ...     ...   ...\n",
       "239       29.03  5.92    Male     No   Sat  Dinner     3\n",
       "240       27.18  2.00  Female    Yes   Sat  Dinner     2\n",
       "241       22.67  2.00    Male    Yes   Sat  Dinner     2\n",
       "242       17.82  1.75    Male     No   Sat  Dinner     2\n",
       "243       18.78  3.00  Female     No  Thur  Dinner     2\n",
       "\n",
       "[244 rows x 7 columns]"
      ]
     },
     "execution_count": 37,
     "metadata": {},
     "output_type": "execute_result"
    }
   ],
   "source": [
    "seaData = sns.load_dataset('tips')\n",
    "seaData"
   ]
  },
  {
   "cell_type": "markdown",
   "id": "a897f23c",
   "metadata": {},
   "source": [
    "## 3.4 plot pairplot, jointplot, catplot, displot, and HeatMap for the above dataset and give your comments on each plot"
   ]
  },
  {
   "cell_type": "code",
   "execution_count": 38,
   "id": "1c119b2c",
   "metadata": {},
   "outputs": [
    {
     "data": {
      "text/plain": [
       "<seaborn.axisgrid.PairGrid at 0x2c000426940>"
      ]
     },
     "execution_count": 38,
     "metadata": {},
     "output_type": "execute_result"
    },
    {
     "data": {
      "image/png": "[encoded data removed]",
      "text/plain": [
       "<Figure size 540x540 with 12 Axes>"
      ]
     },
     "metadata": {
      "needs_background": "light"
     },
     "output_type": "display_data"
    }
   ],
   "source": [
    "# pairplot\n",
    "sns.pairplot(seaData)\n",
    "\n",
    "# In the following plot we can see a mixture of graphs. Pairplot will create an array of graphs to use that\n",
    "# is a combination of the different variables present in the data set used. It's interesting to see\n",
    "# the general shape and skew of the data set and their columns. \n",
    "\n",
    "# Regarding the graphs themselves, we can see a lot of obvious relationships regarding size of \n",
    "# party and total bill."
   ]
  },
  {
   "cell_type": "code",
   "execution_count": 39,
   "id": "174c004e",
   "metadata": {},
   "outputs": [
    {
     "data": {
      "text/plain": [
       "<seaborn.axisgrid.JointGrid at 0x2c000940ac0>"
      ]
     },
     "execution_count": 39,
     "metadata": {},
     "output_type": "execute_result"
    },
    {
     "data": {
      "image/png": "[encoded data removed]",
      "text/plain": [
       "<Figure size 432x432 with 3 Axes>"
      ]
     },
     "metadata": {
      "needs_background": "light"
     },
     "output_type": "display_data"
    }
   ],
   "source": [
    "# jointplot\n",
    "sns.jointplot(data = seaData, x = \"tip\", y = \"total_bill\", hue = \"size\")\n",
    "\n",
    "# This jointplot is interesting because it allows us to see the general distribution of the points \n",
    "# while also seeing information regarding the points themselves. We can see a wealth of information \n",
    "# regarding our data set without much work. \n",
    "\n",
    "# Regarding the graph itself, we have frequency distributions on the axis, while on the graph itself\n",
    "# we have a standard scatterplot based on size."
   ]
  },
  {
   "cell_type": "code",
   "execution_count": 40,
   "id": "97d29631",
   "metadata": {},
   "outputs": [
    {
     "data": {
      "text/plain": [
       "<seaborn.axisgrid.FacetGrid at 0x2c0003b50a0>"
      ]
     },
     "execution_count": 40,
     "metadata": {},
     "output_type": "execute_result"
    },
    {
     "data": {
      "image/png": "[encoded data removed]",
      "text/plain": [
       "<Figure size 432.125x360 with 1 Axes>"
      ]
     },
     "metadata": {
      "needs_background": "light"
     },
     "output_type": "display_data"
    }
   ],
   "source": [
    "# catplot\n",
    "sns.catplot(x = \"size\", y = \"total_bill\", hue = \"sex\", data = seaData)\n",
    "# The following plot demonstrates a catplot. It provides another way to see the jointplot from above. However,\n",
    "# this does not allow us to see as much information. This would be useful for distinguishing between data\n",
    "# points in a simple format.\n",
    "\n",
    "# Regarding the graph itself, it is a relatively simple graph which can show a concise depiction how sex\n",
    "# affects total bill and tipping. "
   ]
  },
  {
   "cell_type": "code",
   "execution_count": 41,
   "id": "7acac245",
   "metadata": {},
   "outputs": [
    {
     "data": {
      "text/plain": [
       "<seaborn.axisgrid.FacetGrid at 0x2c000907a60>"
      ]
     },
     "execution_count": 41,
     "metadata": {},
     "output_type": "execute_result"
    },
    {
     "data": {
      "image/png": "[encoded data removed]",
      "text/plain": [
       "<Figure size 438.625x360 with 1 Axes>"
      ]
     },
     "metadata": {
      "needs_background": "light"
     },
     "output_type": "display_data"
    }
   ],
   "source": [
    "# displot\n",
    "sns.displot(seaData)\n",
    "# This is a standard distribution chart with a stacked bar chart which is sectioned off by category.\n",
    "# This is a very useful plot to display information regarding distributions within a dataset. The colors\n",
    "# also help distinguish the different categories.\n",
    "\n",
    "# Regarding the graph itself, it demonstrates the average total bill and average tips paid. This can also show\n",
    "# how many tips are being left and how many bills are being paid."
   ]
  },
  {
   "cell_type": "code",
   "execution_count": 42,
   "id": "13ea2634",
   "metadata": {},
   "outputs": [
    {
     "data": {
      "image/png": "[encoded data removed]",
      "text/plain": [
       "<Figure size 432x288 with 2 Axes>"
      ]
     },
     "metadata": {
      "needs_background": "light"
     },
     "output_type": "display_data"
    }
   ],
   "source": [
    "# HeatMap\n",
    "sD = seaData\n",
    "sD.drop_duplicates()\n",
    "sD = sD.pivot_table(\"tip\", \"total_bill\", \"size\")\n",
    "ax = sns.heatmap(sD)\n",
    "# The heatmap is visually one of my personal favorite charts because of its unique ability to display an\n",
    "# array of data all at once. Visually it can look stunning and can also provide immense information. \n",
    "\n",
    "# Regarding the graph itself, we can see how most parties of people are 2 people parties. This also \n",
    "# demonstrates their total bill and total tip averages, given the parties size."
   ]
  },
  {
   "cell_type": "markdown",
   "id": "4b6708d2",
   "metadata": {},
   "source": []
  },
  {
   "cell_type": "markdown",
   "id": "7b698619",
   "metadata": {},
   "source": []
  }
 ],
 "metadata": {
  "kernelspec": {
   "display_name": "Python 3 (ipykernel)",
   "language": "python",
   "name": "python3"
  },
  "language_info": {
   "codemirror_mode": {
    "name": "ipython",
    "version": 3
   },
   "file_extension": ".py",
   "mimetype": "text/x-python",
   "name": "python",
   "nbconvert_exporter": "python",
   "pygments_lexer": "ipython3",
   "version": "3.9.12"
  }
 },
 "nbformat": 4,
 "nbformat_minor": 5
}
