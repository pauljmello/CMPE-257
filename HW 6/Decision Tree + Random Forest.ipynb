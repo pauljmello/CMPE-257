{
 "cells": [
  {
   "cell_type": "code",
   "execution_count": 1,
   "id": "791eb3cc",
   "metadata": {},
   "outputs": [],
   "source": [
    "# Paul-Jason Mello\n",
    "# Professor Shim\n",
    "# CMPE 257\n",
    "# March 19th, 2022"
   ]
  },
  {
   "cell_type": "markdown",
   "id": "984f967f",
   "metadata": {},
   "source": [
    "# Decision Trees and Random Forests"
   ]
  },
  {
   "cell_type": "markdown",
   "id": "b0397d56",
   "metadata": {},
   "source": [
    "## 1. What is a decision tree?"
   ]
  },
  {
   "cell_type": "code",
   "execution_count": 2,
   "id": "75316e1b",
   "metadata": {},
   "outputs": [],
   "source": [
    "# At its core a decision tree is a categorical machine learning model. It aims to find the best split, as\n",
    "# determined by purity, in order to find a model which can seperate the target variables the most effectively. \n",
    "# A decision tree splits each feature into its categorical variables at different depths. Meaning that each \n",
    "# layer down is another feature which has more categories to split. In the leaf nodes we find the purity and \n",
    "# split which gives us our accuracy. It is a conceptually simple model to understand."
   ]
  },
  {
   "cell_type": "markdown",
   "id": "205318ab",
   "metadata": {},
   "source": [
    "## 2. What are the advantages and disadvantages of a decision tree?"
   ]
  },
  {
   "cell_type": "code",
   "execution_count": 3,
   "id": "d1475d30",
   "metadata": {},
   "outputs": [],
   "source": [
    "# The advantages of a decision tree are that it can be used for regression and categorical problems. \n",
    "# It is also incredibly easy to understand with the added benefit that scaling does not need to be done.\n",
    "\n",
    "# The disadvantages of a decision tree consist of the necessity to determine the proper order in which \n",
    "# the feature layers are used. This order can greatly impact a models training time. It also fails to properly\n",
    "# predict continuous variables. Small changes in the data or structure of the tree can have adverse negative\n",
    "# consequences on the training and run time of the model."
   ]
  },
  {
   "cell_type": "markdown",
   "id": "ec27050f",
   "metadata": {},
   "source": [
    "## 3. Explain pruning"
   ]
  },
  {
   "cell_type": "code",
   "execution_count": 4,
   "id": "561be66b",
   "metadata": {},
   "outputs": [],
   "source": [
    "# Pruning, just like in gardening, is a way to \"clean up\" the tree. There are many ways to incorporate pruning\n",
    "# including the ability to cut specific branches of our tree. Pruning allows us to minimize the number of \n",
    "# branches such that our answers are, on average, quicker to obtain. However, pruning may also return more \n",
    "# accurate results as it can remove what we would consider to be a \"dead branch\", one with little to no value\n",
    "# to the tree. Overall, pruning is a very important tool of machine learning that can provide a breadth of \n",
    "# positive results. The only negative consequence of pruning is that it may fail when there is an excessive \n",
    "# amount of sparsity."
   ]
  },
  {
   "cell_type": "markdown",
   "id": "ee8c590c",
   "metadata": {},
   "source": [
    "## 4. What is ensembling?"
   ]
  },
  {
   "cell_type": "code",
   "execution_count": 5,
   "id": "29ac0671",
   "metadata": {},
   "outputs": [],
   "source": [
    "# In its simpilest form, an ensemble algorithm is a committee of algorithms which vote on an answer. Some\n",
    "# arbitrary number of algorithms present their predicted answers when given the same input. Through a \n",
    "# committee process the answer with the most votes is considered to be the unanimous answer of ensembling. \n",
    "# It is at its core, a democratic process. Ensemble algorithms can give better results at the cost of an \n",
    "# increase in needed computational power."
   ]
  },
  {
   "cell_type": "markdown",
   "id": "34518fd7",
   "metadata": {},
   "source": [
    "## 5. Explain bagging"
   ]
  },
  {
   "cell_type": "code",
   "execution_count": 6,
   "id": "cc4b56a9",
   "metadata": {},
   "outputs": [],
   "source": [
    "# Bagging, aka Bootstrap aggregating, is an ensemble technique which prevents the overfitting of data, and\n",
    "# improves overall accuracy. It does so through random sampling with replacement. In this regard we are \n",
    "# sampling from our data at random which gives us another layer of protection against overfitting our models."
   ]
  },
  {
   "cell_type": "markdown",
   "id": "0f68b2ac",
   "metadata": {},
   "source": [
    "## 6. What are random forests?"
   ]
  },
  {
   "cell_type": "code",
   "execution_count": 7,
   "id": "53b7d979",
   "metadata": {},
   "outputs": [],
   "source": [
    "# Random forests are a machine learning technique which follows similar principles of a decision tree, but\n",
    "# provides far better results. In its simpilest form we create N decision trees and through an ensemble\n",
    "# technique find the tree with the best accuracies. It is a merger of decision trees and an ensemble process."
   ]
  },
  {
   "cell_type": "markdown",
   "id": "524a55d8",
   "metadata": {},
   "source": [
    "## 7. Classify the iris dataset using decision trees"
   ]
  },
  {
   "cell_type": "code",
   "execution_count": 8,
   "id": "ba31c8ce",
   "metadata": {},
   "outputs": [],
   "source": [
    "import sklearn as sk\n",
    "import pandas as pd\n",
    "import matplotlib.pyplot as plt\n",
    "\n",
    "from sklearn import tree\n",
    "from sklearn.datasets import load_iris\n",
    "from sklearn.ensemble import RandomForestClassifier\n",
    "from sklearn.model_selection import train_test_split, GridSearchCV, RandomizedSearchCV\n",
    "from sklearn.metrics import accuracy_score, confusion_matrix"
   ]
  },
  {
   "cell_type": "code",
   "execution_count": 9,
   "id": "1fa7f230",
   "metadata": {},
   "outputs": [],
   "source": [
    "data = load_iris()"
   ]
  },
  {
   "cell_type": "code",
   "execution_count": 10,
   "id": "28135426",
   "metadata": {},
   "outputs": [
    {
     "data": {
      "text/plain": [
       "{'data': array([[5.1, 3.5, 1.4, 0.2],\n",
       "        [4.9, 3. , 1.4, 0.2],\n",
       "        [4.7, 3.2, 1.3, 0.2],\n",
       "        [4.6, 3.1, 1.5, 0.2],\n",
       "        [5. , 3.6, 1.4, 0.2],\n",
       "        [5.4, 3.9, 1.7, 0.4],\n",
       "        [4.6, 3.4, 1.4, 0.3],\n",
       "        [5. , 3.4, 1.5, 0.2],\n",
       "        [4.4, 2.9, 1.4, 0.2],\n",
       "        [4.9, 3.1, 1.5, 0.1],\n",
       "        [5.4, 3.7, 1.5, 0.2],\n",
       "        [4.8, 3.4, 1.6, 0.2],\n",
       "        [4.8, 3. , 1.4, 0.1],\n",
       "        [4.3, 3. , 1.1, 0.1],\n",
       "        [5.8, 4. , 1.2, 0.2],\n",
       "        [5.7, 4.4, 1.5, 0.4],\n",
       "        [5.4, 3.9, 1.3, 0.4],\n",
       "        [5.1, 3.5, 1.4, 0.3],\n",
       "        [5.7, 3.8, 1.7, 0.3],\n",
       "        [5.1, 3.8, 1.5, 0.3],\n",
       "        [5.4, 3.4, 1.7, 0.2],\n",
       "        [5.1, 3.7, 1.5, 0.4],\n",
       "        [4.6, 3.6, 1. , 0.2],\n",
       "        [5.1, 3.3, 1.7, 0.5],\n",
       "        [4.8, 3.4, 1.9, 0.2],\n",
       "        [5. , 3. , 1.6, 0.2],\n",
       "        [5. , 3.4, 1.6, 0.4],\n",
       "        [5.2, 3.5, 1.5, 0.2],\n",
       "        [5.2, 3.4, 1.4, 0.2],\n",
       "        [4.7, 3.2, 1.6, 0.2],\n",
       "        [4.8, 3.1, 1.6, 0.2],\n",
       "        [5.4, 3.4, 1.5, 0.4],\n",
       "        [5.2, 4.1, 1.5, 0.1],\n",
       "        [5.5, 4.2, 1.4, 0.2],\n",
       "        [4.9, 3.1, 1.5, 0.2],\n",
       "        [5. , 3.2, 1.2, 0.2],\n",
       "        [5.5, 3.5, 1.3, 0.2],\n",
       "        [4.9, 3.6, 1.4, 0.1],\n",
       "        [4.4, 3. , 1.3, 0.2],\n",
       "        [5.1, 3.4, 1.5, 0.2],\n",
       "        [5. , 3.5, 1.3, 0.3],\n",
       "        [4.5, 2.3, 1.3, 0.3],\n",
       "        [4.4, 3.2, 1.3, 0.2],\n",
       "        [5. , 3.5, 1.6, 0.6],\n",
       "        [5.1, 3.8, 1.9, 0.4],\n",
       "        [4.8, 3. , 1.4, 0.3],\n",
       "        [5.1, 3.8, 1.6, 0.2],\n",
       "        [4.6, 3.2, 1.4, 0.2],\n",
       "        [5.3, 3.7, 1.5, 0.2],\n",
       "        [5. , 3.3, 1.4, 0.2],\n",
       "        [7. , 3.2, 4.7, 1.4],\n",
       "        [6.4, 3.2, 4.5, 1.5],\n",
       "        [6.9, 3.1, 4.9, 1.5],\n",
       "        [5.5, 2.3, 4. , 1.3],\n",
       "        [6.5, 2.8, 4.6, 1.5],\n",
       "        [5.7, 2.8, 4.5, 1.3],\n",
       "        [6.3, 3.3, 4.7, 1.6],\n",
       "        [4.9, 2.4, 3.3, 1. ],\n",
       "        [6.6, 2.9, 4.6, 1.3],\n",
       "        [5.2, 2.7, 3.9, 1.4],\n",
       "        [5. , 2. , 3.5, 1. ],\n",
       "        [5.9, 3. , 4.2, 1.5],\n",
       "        [6. , 2.2, 4. , 1. ],\n",
       "        [6.1, 2.9, 4.7, 1.4],\n",
       "        [5.6, 2.9, 3.6, 1.3],\n",
       "        [6.7, 3.1, 4.4, 1.4],\n",
       "        [5.6, 3. , 4.5, 1.5],\n",
       "        [5.8, 2.7, 4.1, 1. ],\n",
       "        [6.2, 2.2, 4.5, 1.5],\n",
       "        [5.6, 2.5, 3.9, 1.1],\n",
       "        [5.9, 3.2, 4.8, 1.8],\n",
       "        [6.1, 2.8, 4. , 1.3],\n",
       "        [6.3, 2.5, 4.9, 1.5],\n",
       "        [6.1, 2.8, 4.7, 1.2],\n",
       "        [6.4, 2.9, 4.3, 1.3],\n",
       "        [6.6, 3. , 4.4, 1.4],\n",
       "        [6.8, 2.8, 4.8, 1.4],\n",
       "        [6.7, 3. , 5. , 1.7],\n",
       "        [6. , 2.9, 4.5, 1.5],\n",
       "        [5.7, 2.6, 3.5, 1. ],\n",
       "        [5.5, 2.4, 3.8, 1.1],\n",
       "        [5.5, 2.4, 3.7, 1. ],\n",
       "        [5.8, 2.7, 3.9, 1.2],\n",
       "        [6. , 2.7, 5.1, 1.6],\n",
       "        [5.4, 3. , 4.5, 1.5],\n",
       "        [6. , 3.4, 4.5, 1.6],\n",
       "        [6.7, 3.1, 4.7, 1.5],\n",
       "        [6.3, 2.3, 4.4, 1.3],\n",
       "        [5.6, 3. , 4.1, 1.3],\n",
       "        [5.5, 2.5, 4. , 1.3],\n",
       "        [5.5, 2.6, 4.4, 1.2],\n",
       "        [6.1, 3. , 4.6, 1.4],\n",
       "        [5.8, 2.6, 4. , 1.2],\n",
       "        [5. , 2.3, 3.3, 1. ],\n",
       "        [5.6, 2.7, 4.2, 1.3],\n",
       "        [5.7, 3. , 4.2, 1.2],\n",
       "        [5.7, 2.9, 4.2, 1.3],\n",
       "        [6.2, 2.9, 4.3, 1.3],\n",
       "        [5.1, 2.5, 3. , 1.1],\n",
       "        [5.7, 2.8, 4.1, 1.3],\n",
       "        [6.3, 3.3, 6. , 2.5],\n",
       "        [5.8, 2.7, 5.1, 1.9],\n",
       "        [7.1, 3. , 5.9, 2.1],\n",
       "        [6.3, 2.9, 5.6, 1.8],\n",
       "        [6.5, 3. , 5.8, 2.2],\n",
       "        [7.6, 3. , 6.6, 2.1],\n",
       "        [4.9, 2.5, 4.5, 1.7],\n",
       "        [7.3, 2.9, 6.3, 1.8],\n",
       "        [6.7, 2.5, 5.8, 1.8],\n",
       "        [7.2, 3.6, 6.1, 2.5],\n",
       "        [6.5, 3.2, 5.1, 2. ],\n",
       "        [6.4, 2.7, 5.3, 1.9],\n",
       "        [6.8, 3. , 5.5, 2.1],\n",
       "        [5.7, 2.5, 5. , 2. ],\n",
       "        [5.8, 2.8, 5.1, 2.4],\n",
       "        [6.4, 3.2, 5.3, 2.3],\n",
       "        [6.5, 3. , 5.5, 1.8],\n",
       "        [7.7, 3.8, 6.7, 2.2],\n",
       "        [7.7, 2.6, 6.9, 2.3],\n",
       "        [6. , 2.2, 5. , 1.5],\n",
       "        [6.9, 3.2, 5.7, 2.3],\n",
       "        [5.6, 2.8, 4.9, 2. ],\n",
       "        [7.7, 2.8, 6.7, 2. ],\n",
       "        [6.3, 2.7, 4.9, 1.8],\n",
       "        [6.7, 3.3, 5.7, 2.1],\n",
       "        [7.2, 3.2, 6. , 1.8],\n",
       "        [6.2, 2.8, 4.8, 1.8],\n",
       "        [6.1, 3. , 4.9, 1.8],\n",
       "        [6.4, 2.8, 5.6, 2.1],\n",
       "        [7.2, 3. , 5.8, 1.6],\n",
       "        [7.4, 2.8, 6.1, 1.9],\n",
       "        [7.9, 3.8, 6.4, 2. ],\n",
       "        [6.4, 2.8, 5.6, 2.2],\n",
       "        [6.3, 2.8, 5.1, 1.5],\n",
       "        [6.1, 2.6, 5.6, 1.4],\n",
       "        [7.7, 3. , 6.1, 2.3],\n",
       "        [6.3, 3.4, 5.6, 2.4],\n",
       "        [6.4, 3.1, 5.5, 1.8],\n",
       "        [6. , 3. , 4.8, 1.8],\n",
       "        [6.9, 3.1, 5.4, 2.1],\n",
       "        [6.7, 3.1, 5.6, 2.4],\n",
       "        [6.9, 3.1, 5.1, 2.3],\n",
       "        [5.8, 2.7, 5.1, 1.9],\n",
       "        [6.8, 3.2, 5.9, 2.3],\n",
       "        [6.7, 3.3, 5.7, 2.5],\n",
       "        [6.7, 3. , 5.2, 2.3],\n",
       "        [6.3, 2.5, 5. , 1.9],\n",
       "        [6.5, 3. , 5.2, 2. ],\n",
       "        [6.2, 3.4, 5.4, 2.3],\n",
       "        [5.9, 3. , 5.1, 1.8]]),\n",
       " 'target': array([0, 0, 0, 0, 0, 0, 0, 0, 0, 0, 0, 0, 0, 0, 0, 0, 0, 0, 0, 0, 0, 0,\n",
       "        0, 0, 0, 0, 0, 0, 0, 0, 0, 0, 0, 0, 0, 0, 0, 0, 0, 0, 0, 0, 0, 0,\n",
       "        0, 0, 0, 0, 0, 0, 1, 1, 1, 1, 1, 1, 1, 1, 1, 1, 1, 1, 1, 1, 1, 1,\n",
       "        1, 1, 1, 1, 1, 1, 1, 1, 1, 1, 1, 1, 1, 1, 1, 1, 1, 1, 1, 1, 1, 1,\n",
       "        1, 1, 1, 1, 1, 1, 1, 1, 1, 1, 1, 1, 2, 2, 2, 2, 2, 2, 2, 2, 2, 2,\n",
       "        2, 2, 2, 2, 2, 2, 2, 2, 2, 2, 2, 2, 2, 2, 2, 2, 2, 2, 2, 2, 2, 2,\n",
       "        2, 2, 2, 2, 2, 2, 2, 2, 2, 2, 2, 2, 2, 2, 2, 2, 2, 2]),\n",
       " 'frame': None,\n",
       " 'target_names': array(['setosa', 'versicolor', 'virginica'], dtype='<U10'),\n",
       " 'DESCR': '.. _iris_dataset:\\n\\nIris plants dataset\\n--------------------\\n\\n**Data Set Characteristics:**\\n\\n    :Number of Instances: 150 (50 in each of three classes)\\n    :Number of Attributes: 4 numeric, predictive attributes and the class\\n    :Attribute Information:\\n        - sepal length in cm\\n        - sepal width in cm\\n        - petal length in cm\\n        - petal width in cm\\n        - class:\\n                - Iris-Setosa\\n                - Iris-Versicolour\\n                - Iris-Virginica\\n                \\n    :Summary Statistics:\\n\\n    ============== ==== ==== ======= ===== ====================\\n                    Min  Max   Mean    SD   Class Correlation\\n    ============== ==== ==== ======= ===== ====================\\n    sepal length:   4.3  7.9   5.84   0.83    0.7826\\n    sepal width:    2.0  4.4   3.05   0.43   -0.4194\\n    petal length:   1.0  6.9   3.76   1.76    0.9490  (high!)\\n    petal width:    0.1  2.5   1.20   0.76    0.9565  (high!)\\n    ============== ==== ==== ======= ===== ====================\\n\\n    :Missing Attribute Values: None\\n    :Class Distribution: 33.3% for each of 3 classes.\\n    :Creator: R.A. Fisher\\n    :Donor: Michael Marshall (MARSHALL%PLU@io.arc.nasa.gov)\\n    :Date: July, 1988\\n\\nThe famous Iris database, first used by Sir R.A. Fisher. The dataset is taken\\nfrom Fisher\\'s paper. Note that it\\'s the same as in R, but not as in the UCI\\nMachine Learning Repository, which has two wrong data points.\\n\\nThis is perhaps the best known database to be found in the\\npattern recognition literature.  Fisher\\'s paper is a classic in the field and\\nis referenced frequently to this day.  (See Duda & Hart, for example.)  The\\ndata set contains 3 classes of 50 instances each, where each class refers to a\\ntype of iris plant.  One class is linearly separable from the other 2; the\\nlatter are NOT linearly separable from each other.\\n\\n.. topic:: References\\n\\n   - Fisher, R.A. \"The use of multiple measurements in taxonomic problems\"\\n     Annual Eugenics, 7, Part II, 179-188 (1936); also in \"Contributions to\\n     Mathematical Statistics\" (John Wiley, NY, 1950).\\n   - Duda, R.O., & Hart, P.E. (1973) Pattern Classification and Scene Analysis.\\n     (Q327.D83) John Wiley & Sons.  ISBN 0-471-22361-1.  See page 218.\\n   - Dasarathy, B.V. (1980) \"Nosing Around the Neighborhood: A New System\\n     Structure and Classification Rule for Recognition in Partially Exposed\\n     Environments\".  IEEE Transactions on Pattern Analysis and Machine\\n     Intelligence, Vol. PAMI-2, No. 1, 67-71.\\n   - Gates, G.W. (1972) \"The Reduced Nearest Neighbor Rule\".  IEEE Transactions\\n     on Information Theory, May 1972, 431-433.\\n   - See also: 1988 MLC Proceedings, 54-64.  Cheeseman et al\"s AUTOCLASS II\\n     conceptual clustering system finds 3 classes in the data.\\n   - Many, many more ...',\n",
       " 'feature_names': ['sepal length (cm)',\n",
       "  'sepal width (cm)',\n",
       "  'petal length (cm)',\n",
       "  'petal width (cm)'],\n",
       " 'filename': 'iris.csv',\n",
       " 'data_module': 'sklearn.datasets.data'}"
      ]
     },
     "execution_count": 10,
     "metadata": {},
     "output_type": "execute_result"
    }
   ],
   "source": [
    "data"
   ]
  },
  {
   "cell_type": "code",
   "execution_count": 11,
   "id": "8ea9d823",
   "metadata": {},
   "outputs": [],
   "source": [
    "temp = data.target"
   ]
  },
  {
   "cell_type": "code",
   "execution_count": 12,
   "id": "294b0b15",
   "metadata": {},
   "outputs": [],
   "source": [
    "data = pd.DataFrame(data = data.data, columns = data.feature_names)"
   ]
  },
  {
   "cell_type": "code",
   "execution_count": 13,
   "id": "96c8afc1",
   "metadata": {},
   "outputs": [
    {
     "name": "stdout",
     "output_type": "stream",
     "text": [
      "<class 'pandas.core.frame.DataFrame'>\n",
      "RangeIndex: 150 entries, 0 to 149\n",
      "Data columns (total 4 columns):\n",
      " #   Column             Non-Null Count  Dtype  \n",
      "---  ------             --------------  -----  \n",
      " 0   sepal length (cm)  150 non-null    float64\n",
      " 1   sepal width (cm)   150 non-null    float64\n",
      " 2   petal length (cm)  150 non-null    float64\n",
      " 3   petal width (cm)   150 non-null    float64\n",
      "dtypes: float64(4)\n",
      "memory usage: 4.8 KB\n"
     ]
    }
   ],
   "source": [
    "data.info()"
   ]
  },
  {
   "cell_type": "code",
   "execution_count": 14,
   "id": "75a661ac",
   "metadata": {},
   "outputs": [],
   "source": [
    "data['target'] = temp"
   ]
  },
  {
   "cell_type": "code",
   "execution_count": 15,
   "id": "db3aba30",
   "metadata": {},
   "outputs": [],
   "source": [
    "X_train, X_test, y_train, y_test = train_test_split(data, data.target, test_size = 0.25, random_state = 0)"
   ]
  },
  {
   "cell_type": "code",
   "execution_count": 16,
   "id": "206b7b2e",
   "metadata": {},
   "outputs": [],
   "source": [
    "model = tree.DecisionTreeClassifier()\n",
    "model = model.fit(X_train, y_train)"
   ]
  },
  {
   "cell_type": "code",
   "execution_count": 17,
   "id": "3206d8bf",
   "metadata": {},
   "outputs": [],
   "source": [
    "y_pred = model.predict(X_test)\n",
    "y_t_pred = model.predict(X_train)"
   ]
  },
  {
   "cell_type": "code",
   "execution_count": 18,
   "id": "480af9e9",
   "metadata": {},
   "outputs": [
    {
     "name": "stdout",
     "output_type": "stream",
     "text": [
      "DT Base Matrix: \n",
      "[[37  0  0]\n",
      " [ 0 34  0]\n",
      " [ 0  0 41]]\n",
      "\n",
      "\n",
      "DT Base Accuracy: 1.0\n"
     ]
    }
   ],
   "source": [
    "# I believe we get perfect accuracy as a result of the cleanliness of iris dataset.\n",
    "\n",
    "print(\"DT Base Matrix: \\n\" + str(confusion_matrix(y_train, y_t_pred)))\n",
    "print(\"\\n\")\n",
    "print(\"DT Base Accuracy: \" + str(accuracy_score(y_test, y_pred)))"
   ]
  },
  {
   "cell_type": "markdown",
   "id": "ab40580b",
   "metadata": {},
   "source": [
    "## 8. Tune the hyper parameters and comment the meaning of each hyper parameter you have tuned"
   ]
  },
  {
   "cell_type": "code",
   "execution_count": 19,
   "id": "aba455e7",
   "metadata": {},
   "outputs": [],
   "source": [
    "# The hyper parameters I have tested using grid search are the following:\n",
    "# \n",
    "# Criterion: We can choose between entropy and gini which are both different ways to calculate purity / \n",
    "#     information gain. Gini is easier to calculate and goes from 0 - .5, while entropy is more difficult to\n",
    "#     calculate and goes from 0 - 1. This can help determine which split provides the best accuracy coverage.\n",
    "# Max Depth: Max depth essentially finds the maximum depth the decision tree can go for its assessment.\n",
    "# Min Sample Split: The minimum number of samples needed in order to split the tree's branch.\n",
    "# Min Sample Leaf: The minimum number of samples needed for a leaf node.\n",
    "\n",
    "params = {\"criterion\": [\"entropy\", \"gini\"], \n",
    "          \"max_depth\": range(1, 10), \n",
    "          \"min_samples_split\": range(2, 10), \n",
    "          \"min_samples_leaf\": range(1, 5)}"
   ]
  },
  {
   "cell_type": "code",
   "execution_count": 20,
   "id": "0a0364bc",
   "metadata": {},
   "outputs": [
    {
     "name": "stdout",
     "output_type": "stream",
     "text": [
      "Fitting 10 folds for each of 576 candidates, totalling 5760 fits\n"
     ]
    },
    {
     "data": {
      "text/plain": [
       "GridSearchCV(cv=10, estimator=DecisionTreeClassifier(), n_jobs=-1,\n",
       "             param_grid={'criterion': ['entropy', 'gini'],\n",
       "                         'max_depth': range(1, 10),\n",
       "                         'min_samples_leaf': range(1, 5),\n",
       "                         'min_samples_split': range(2, 10)},\n",
       "             verbose=1)"
      ]
     },
     "execution_count": 20,
     "metadata": {},
     "output_type": "execute_result"
    }
   ],
   "source": [
    "search = GridSearchCV(model, param_grid = params, cv = 10, verbose = 1, n_jobs = -1)\n",
    "search.fit(X_train, y_train)"
   ]
  },
  {
   "cell_type": "code",
   "execution_count": 21,
   "id": "b6402f60",
   "metadata": {},
   "outputs": [
    {
     "data": {
      "text/plain": [
       "{'criterion': 'entropy',\n",
       " 'max_depth': 2,\n",
       " 'min_samples_leaf': 1,\n",
       " 'min_samples_split': 2}"
      ]
     },
     "execution_count": 21,
     "metadata": {},
     "output_type": "execute_result"
    }
   ],
   "source": [
    "# Here we get the best combination of parameters using gridsearch\n",
    "\n",
    "search.best_params_"
   ]
  },
  {
   "cell_type": "code",
   "execution_count": 22,
   "id": "faebd4d4",
   "metadata": {},
   "outputs": [],
   "source": [
    "bestDT = tree.DecisionTreeClassifier(criterion = 'entropy', max_depth = 2, \n",
    "                                     min_samples_leaf = 1, min_samples_split = 2)\n",
    "bestDT = bestDT.fit(X_train, y_train)"
   ]
  },
  {
   "cell_type": "code",
   "execution_count": 23,
   "id": "3c8bfd35",
   "metadata": {},
   "outputs": [],
   "source": [
    "y_pred = bestDT.predict(X_test)\n",
    "y_t_pred = bestDT.predict(X_train)"
   ]
  },
  {
   "cell_type": "code",
   "execution_count": 24,
   "id": "5eab3698",
   "metadata": {},
   "outputs": [
    {
     "name": "stdout",
     "output_type": "stream",
     "text": [
      "DT Tuned Matrix: \n",
      "[[37  0  0]\n",
      " [ 0 34  0]\n",
      " [ 0  0 41]]\n",
      "\n",
      "\n",
      "DT Tuned Accuracy: 1.0\n"
     ]
    }
   ],
   "source": [
    "print(\"DT Tuned Matrix: \\n\" + str(confusion_matrix(y_train, y_t_pred)))\n",
    "print(\"\\n\")\n",
    "print(\"DT Tuned Accuracy: \" + str(accuracy_score(y_test, y_pred)))"
   ]
  },
  {
   "cell_type": "markdown",
   "id": "f92c4981",
   "metadata": {},
   "source": [
    "## 9. Plot the tree and feature importances"
   ]
  },
  {
   "cell_type": "code",
   "execution_count": 25,
   "id": "1e7a8d1b",
   "metadata": {},
   "outputs": [
    {
     "data": {
      "text/plain": [
       "[Text(0.6, 0.8333333333333334, 'X[4] <= 1.5\\nentropy = 1.581\\nsamples = 112\\nvalue = [37, 34, 41]'),\n",
       " Text(0.4, 0.5, 'X[4] <= 0.5\\nentropy = 0.999\\nsamples = 71\\nvalue = [37, 34, 0]'),\n",
       " Text(0.2, 0.16666666666666666, 'entropy = 0.0\\nsamples = 37\\nvalue = [37, 0, 0]'),\n",
       " Text(0.6, 0.16666666666666666, 'entropy = 0.0\\nsamples = 34\\nvalue = [0, 34, 0]'),\n",
       " Text(0.8, 0.5, 'entropy = 0.0\\nsamples = 41\\nvalue = [0, 0, 41]')]"
      ]
     },
     "execution_count": 25,
     "metadata": {},
     "output_type": "execute_result"
    },
    {
     "data": {
      "image/png": "[encoded data removed]",
      "text/plain": [
       "<Figure size 432x288 with 1 Axes>"
      ]
     },
     "metadata": {
      "needs_background": "light"
     },
     "output_type": "display_data"
    }
   ],
   "source": [
    "tree.plot_tree(bestDT)"
   ]
  },
  {
   "cell_type": "code",
   "execution_count": 26,
   "id": "b50473e2",
   "metadata": {},
   "outputs": [
    {
     "data": {
      "text/plain": [
       "<AxesSubplot:>"
      ]
     },
     "execution_count": 26,
     "metadata": {},
     "output_type": "execute_result"
    },
    {
     "data": {
      "image/png": "[encoded data removed]",
      "text/plain": [
       "<Figure size 864x648 with 1 Axes>"
      ]
     },
     "metadata": {
      "needs_background": "light"
     },
     "output_type": "display_data"
    }
   ],
   "source": [
    "features = pd.DataFrame(bestDT.feature_importances_, index = X_train.columns, columns = [\"Importance\"])\n",
    "features.sort_values(by='Importance', ascending = False, inplace = True)\n",
    "features.plot(kind = 'bar', figsize = (12,9))"
   ]
  },
  {
   "cell_type": "markdown",
   "id": "db5b0581",
   "metadata": {},
   "source": [
    "## 10. Repeat questions 7 and 8 using random forests"
   ]
  },
  {
   "cell_type": "code",
   "execution_count": 27,
   "id": "a39e9288",
   "metadata": {},
   "outputs": [],
   "source": [
    "RFmodel = RandomForestClassifier()\n",
    "RFmodel = RFmodel.fit(X_train, y_train)\n",
    "\n",
    "y_pred = RFmodel.predict(X_test)\n",
    "y_t_pred = RFmodel.predict(X_train)"
   ]
  },
  {
   "cell_type": "code",
   "execution_count": 28,
   "id": "7db776d4",
   "metadata": {},
   "outputs": [
    {
     "name": "stdout",
     "output_type": "stream",
     "text": [
      "RF Base Matrix: \n",
      "[[37  0  0]\n",
      " [ 0 34  0]\n",
      " [ 0  0 41]]\n",
      "\n",
      "\n",
      "RF Base Accuracy: 1.0\n"
     ]
    }
   ],
   "source": [
    "print(\"RF Base Matrix: \\n\" + str(confusion_matrix(y_train, y_t_pred)))\n",
    "print(\"\\n\")\n",
    "print(\"RF Base Accuracy: \" + str(accuracy_score(y_test, y_pred)))"
   ]
  },
  {
   "cell_type": "code",
   "execution_count": 29,
   "id": "9a3b53da",
   "metadata": {},
   "outputs": [],
   "source": [
    "# The hyper parameters I have tested using random search are the following:\n",
    "# \n",
    "# n_estimators: The number of esimators to be tested and used for our models decision process/\n",
    "# max_features: Number of features selected at random by model.\n",
    "# max_depth: The maximum depth our tree should be campable of going before having to make a deicision.\n",
    "# min_samples_split: The minimum number of samples needed in order to split the tree's branch.\n",
    "# min_samples_leaf: The minimum number of samples needed for a leaf node.\n",
    "\n",
    "rGrid = {'n_estimators': range(1, 200),\n",
    "         'max_features': [\"auto\", \"sqrt\"],\n",
    "         \"max_depth\": range(1, 10), \n",
    "         \"min_samples_split\": range(2, 10), \n",
    "         \"min_samples_leaf\": range(1, 5)}"
   ]
  },
  {
   "cell_type": "code",
   "execution_count": 30,
   "id": "0e318c60",
   "metadata": {},
   "outputs": [],
   "source": [
    "newModel = RandomizedSearchCV(estimator = RFmodel, \n",
    "                               param_distributions = rGrid, \n",
    "                               n_iter = 100, \n",
    "                               cv = 5, \n",
    "                               verbose = 1, \n",
    "                               random_state = 0, \n",
    "                               n_jobs = -1)"
   ]
  },
  {
   "cell_type": "code",
   "execution_count": 31,
   "id": "794aa7c9",
   "metadata": {},
   "outputs": [
    {
     "name": "stdout",
     "output_type": "stream",
     "text": [
      "Fitting 5 folds for each of 100 candidates, totalling 500 fits\n"
     ]
    }
   ],
   "source": [
    "newModel = newModel.fit(X_train, y_train)"
   ]
  },
  {
   "cell_type": "code",
   "execution_count": 32,
   "id": "de2b6c7b",
   "metadata": {},
   "outputs": [
    {
     "data": {
      "text/plain": [
       "{'n_estimators': 12,\n",
       " 'min_samples_split': 9,\n",
       " 'min_samples_leaf': 3,\n",
       " 'max_features': 'auto',\n",
       " 'max_depth': 6}"
      ]
     },
     "execution_count": 32,
     "metadata": {},
     "output_type": "execute_result"
    }
   ],
   "source": [
    "# These parameters change every time it is run. As a result our model will only use on of these runs.\n",
    "\n",
    "newModel.best_params_"
   ]
  },
  {
   "cell_type": "code",
   "execution_count": 33,
   "id": "e404eb32",
   "metadata": {},
   "outputs": [],
   "source": [
    "bestRF = RandomForestClassifier(n_estimators = 147, \n",
    "                                min_samples_split = 4,\n",
    "                                min_samples_leaf = 2,\n",
    "                                max_features = \"auto\",\n",
    "                                max_depth = 7)\n",
    "bestRF = bestRF.fit(X_train, y_train)"
   ]
  },
  {
   "cell_type": "code",
   "execution_count": 34,
   "id": "3fa73900",
   "metadata": {},
   "outputs": [],
   "source": [
    "y_pred = bestRF.predict(X_test)\n",
    "y_t_pred = bestRF.predict(X_train)"
   ]
  },
  {
   "cell_type": "code",
   "execution_count": 35,
   "id": "0559e4b0",
   "metadata": {},
   "outputs": [
    {
     "name": "stdout",
     "output_type": "stream",
     "text": [
      "RF Tuned Matrix: \n",
      "[[37  0  0]\n",
      " [ 0 34  0]\n",
      " [ 0  0 41]]\n",
      "\n",
      "\n",
      "RF Tuned Accuracy: 1.0\n"
     ]
    }
   ],
   "source": [
    "print(\"RF Tuned Matrix: \\n\" + str(confusion_matrix(y_train, y_t_pred)))\n",
    "print(\"\\n\")\n",
    "print(\"RF Tuned Accuracy: \" + str(accuracy_score(y_test, y_pred)))"
   ]
  },
  {
   "cell_type": "markdown",
   "id": "0be19a72",
   "metadata": {},
   "source": [
    "## 11. pick top features from random forest again and try to create a model using only those."
   ]
  },
  {
   "cell_type": "code",
   "execution_count": 36,
   "id": "d1fe9564",
   "metadata": {},
   "outputs": [
    {
     "data": {
      "text/plain": [
       "<AxesSubplot:>"
      ]
     },
     "execution_count": 36,
     "metadata": {},
     "output_type": "execute_result"
    },
    {
     "data": {
      "image/png": "[encoded data removed]",
      "text/plain": [
       "<Figure size 864x648 with 1 Axes>"
      ]
     },
     "metadata": {
      "needs_background": "light"
     },
     "output_type": "display_data"
    }
   ],
   "source": [
    "features = pd.DataFrame(bestRF.feature_importances_, index = X_train.columns, columns = [\"Importance\"])\n",
    "features.sort_values(by = 'Importance', ascending = False, inplace = True)\n",
    "features.plot(kind = 'bar', figsize = (12,9))"
   ]
  },
  {
   "cell_type": "code",
   "execution_count": 37,
   "id": "fef83355",
   "metadata": {},
   "outputs": [],
   "source": [
    "newData = data.drop([\"sepal length (cm)\", \"sepal width (cm)\"], axis = 1, inplace = True)\n",
    "newData"
   ]
  },
  {
   "cell_type": "code",
   "execution_count": 38,
   "id": "f21ac88b",
   "metadata": {},
   "outputs": [],
   "source": [
    "# Reusing the best random classifier we found earlier\n",
    "\n",
    "RFTest = RandomForestClassifier(n_estimators = 147, \n",
    "                                min_samples_split = 4,\n",
    "                                min_samples_leaf = 2,\n",
    "                                max_features = \"auto\",\n",
    "                                max_depth = 7)\n",
    "\n",
    "RFTest = RFTest.fit(X_train, y_train)"
   ]
  },
  {
   "cell_type": "code",
   "execution_count": 39,
   "id": "5ff15611",
   "metadata": {},
   "outputs": [],
   "source": [
    "y_pred = RFTest.predict(X_test)\n",
    "y_t_pred = RFTest.predict(X_train)"
   ]
  },
  {
   "cell_type": "code",
   "execution_count": 40,
   "id": "fb49053a",
   "metadata": {},
   "outputs": [
    {
     "name": "stdout",
     "output_type": "stream",
     "text": [
      "RF Top Feature Matrix: \n",
      "[[37  0  0]\n",
      " [ 0 34  0]\n",
      " [ 0  0 41]]\n",
      "\n",
      "\n",
      "RF Top Feature Accuracy: 1.0\n"
     ]
    }
   ],
   "source": [
    "print(\"RF Top Feature Matrix: \\n\" + str(confusion_matrix(y_train, y_t_pred)))\n",
    "print(\"\\n\")\n",
    "print(\"RF Top Feature Accuracy: \" + str(accuracy_score(y_test, y_pred)))"
   ]
  }
 ],
 "metadata": {
  "kernelspec": {
   "display_name": "Python 3 (ipykernel)",
   "language": "python",
   "name": "python3"
  },
  "language_info": {
   "codemirror_mode": {
    "name": "ipython",
    "version": 3
   },
   "file_extension": ".py",
   "mimetype": "text/x-python",
   "name": "python",
   "nbconvert_exporter": "python",
   "pygments_lexer": "ipython3",
   "version": "3.9.12"
  }
 },
 "nbformat": 4,
 "nbformat_minor": 5
}
