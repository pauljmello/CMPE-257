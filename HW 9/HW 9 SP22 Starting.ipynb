{
 "cells": [
  {
   "cell_type": "markdown",
   "id": "cce081e3",
   "metadata": {},
   "source": [
    "# Natural Language Processing and Recommender systems"
   ]
  },
  {
   "cell_type": "markdown",
   "id": "0f6efc42",
   "metadata": {},
   "source": [
    "## 1. Explain natural language processing in your own words"
   ]
  },
  {
   "cell_type": "markdown",
   "id": "13250086",
   "metadata": {},
   "source": [
    "## 2. discuss what is word embedding, lemmatization, stemming"
   ]
  },
  {
   "cell_type": "markdown",
   "id": "ef39b79b",
   "metadata": {},
   "source": [
    "## 3. What is TF-IDF?"
   ]
  },
  {
   "cell_type": "markdown",
   "id": "321fd230",
   "metadata": {},
   "source": [
    "## 4. What do you mean by recommender systems?"
   ]
  },
  {
   "cell_type": "markdown",
   "id": "531cf981",
   "metadata": {},
   "source": [
    "## 5. Compare and Contrast content based vs collaborative recommender systems."
   ]
  },
  {
   "cell_type": "markdown",
   "id": "b80af9dc",
   "metadata": {},
   "source": [
    "## 6. Discuss any 3 similarity metrics."
   ]
  },
  {
   "cell_type": "markdown",
   "id": "99dd35f2",
   "metadata": {},
   "source": [
    "## 7. What are sparse matrices and how do you create them in python?"
   ]
  },
  {
   "cell_type": "markdown",
   "id": "a49a61cd",
   "metadata": {},
   "source": [
    "## 8. Perform negative and positive text classification on nltk movie recommendation dataset, explain each steps performed."
   ]
  },
  {
   "cell_type": "markdown",
   "id": "8e4dd2b4",
   "metadata": {},
   "source": [
    "## 9. Perform content based movie recommendation on the dataset given and explain each steps in detail."
   ]
  }
 ],
 "metadata": {
  "kernelspec": {
   "display_name": "Python 3",
   "language": "python",
   "name": "python3"
  },
  "language_info": {
   "codemirror_mode": {
    "name": "ipython",
    "version": 3
   },
   "file_extension": ".py",
   "mimetype": "text/x-python",
   "name": "python",
   "nbconvert_exporter": "python",
   "pygments_lexer": "ipython3",
   "version": "3.8.8"
  }
 },
 "nbformat": 4,
 "nbformat_minor": 5
}
