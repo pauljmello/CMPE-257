{
 "cells": [
  {
   "cell_type": "markdown",
   "metadata": {
    "id": "-sIf6Qw_UR6w"
   },
   "source": [
    "# Natural Language Processing"
   ]
  },
  {
   "cell_type": "code",
   "execution_count": 4,
   "metadata": {
    "colab": {
     "base_uri": "https://localhost:8080/"
    },
    "executionInfo": {
     "elapsed": 441,
     "status": "ok",
     "timestamp": 1643133523158,
     "user": {
      "displayName": "Ishan Hitesh Malkan",
      "photoUrl": "https://lh3.googleusercontent.com/a/default-user=s64",
      "userId": "17234277619718362545"
     },
     "user_tz": -330
    },
    "id": "kLZNcPilT278",
    "outputId": "116e8f04-028c-45ed-e853-c7256238e635"
   },
   "outputs": [
    {
     "name": "stderr",
     "output_type": "stream",
     "text": [
      "[nltk_data] Downloading package stopwords to\n",
      "[nltk_data]     C:\\Users\\GIGA\\AppData\\Roaming\\nltk_data...\n",
      "[nltk_data]   Package stopwords is already up-to-date!\n"
     ]
    }
   ],
   "source": [
    "# importing required libraries\n",
    "import pandas as pd\n",
    "import numpy as np\n",
    "import re\n",
    "import string\n",
    "import nltk\n",
    "from nltk.corpus import stopwords\n",
    "nltk.download('stopwords')\n",
    "from tqdm import tqdm\n",
    "from sklearn.model_selection import train_test_split\n",
    "from gensim.models.word2vec import Word2Vec\n",
    "from sklearn.metrics import confusion_matrix\n",
    "from sklearn.preprocessing import scale\n",
    "from sklearn.ensemble import GradientBoostingClassifier"
   ]
  },
  {
   "cell_type": "code",
   "execution_count": 5,
   "metadata": {
    "colab": {
     "base_uri": "https://localhost:8080/",
     "height": 424
    },
    "executionInfo": {
     "elapsed": 403,
     "status": "ok",
     "timestamp": 1643132966780,
     "user": {
      "displayName": "Ishan Hitesh Malkan",
      "photoUrl": "https://lh3.googleusercontent.com/a/default-user=s64",
      "userId": "17234277619718362545"
     },
     "user_tz": -330
    },
    "id": "3P-4Hb_gWZhD",
    "outputId": "1bdbc6b9-89ce-4f23-e4c4-b4c47a426255"
   },
   "outputs": [
    {
     "data": {
      "text/html": [
       "<div>\n",
       "<style scoped>\n",
       "    .dataframe tbody tr th:only-of-type {\n",
       "        vertical-align: middle;\n",
       "    }\n",
       "\n",
       "    .dataframe tbody tr th {\n",
       "        vertical-align: top;\n",
       "    }\n",
       "\n",
       "    .dataframe thead th {\n",
       "        text-align: right;\n",
       "    }\n",
       "</style>\n",
       "<table border=\"1\" class=\"dataframe\">\n",
       "  <thead>\n",
       "    <tr style=\"text-align: right;\">\n",
       "      <th></th>\n",
       "      <th>v1</th>\n",
       "      <th>v2</th>\n",
       "      <th>Unnamed: 2</th>\n",
       "      <th>Unnamed: 3</th>\n",
       "      <th>Unnamed: 4</th>\n",
       "    </tr>\n",
       "  </thead>\n",
       "  <tbody>\n",
       "    <tr>\n",
       "      <th>0</th>\n",
       "      <td>ham</td>\n",
       "      <td>Go until jurong point, crazy.. Available only ...</td>\n",
       "      <td>NaN</td>\n",
       "      <td>NaN</td>\n",
       "      <td>NaN</td>\n",
       "    </tr>\n",
       "    <tr>\n",
       "      <th>1</th>\n",
       "      <td>ham</td>\n",
       "      <td>Ok lar... Joking wif u oni...</td>\n",
       "      <td>NaN</td>\n",
       "      <td>NaN</td>\n",
       "      <td>NaN</td>\n",
       "    </tr>\n",
       "    <tr>\n",
       "      <th>2</th>\n",
       "      <td>spam</td>\n",
       "      <td>Free entry in 2 a wkly comp to win FA Cup fina...</td>\n",
       "      <td>NaN</td>\n",
       "      <td>NaN</td>\n",
       "      <td>NaN</td>\n",
       "    </tr>\n",
       "    <tr>\n",
       "      <th>3</th>\n",
       "      <td>ham</td>\n",
       "      <td>U dun say so early hor... U c already then say...</td>\n",
       "      <td>NaN</td>\n",
       "      <td>NaN</td>\n",
       "      <td>NaN</td>\n",
       "    </tr>\n",
       "    <tr>\n",
       "      <th>4</th>\n",
       "      <td>ham</td>\n",
       "      <td>Nah I don't think he goes to usf, he lives aro...</td>\n",
       "      <td>NaN</td>\n",
       "      <td>NaN</td>\n",
       "      <td>NaN</td>\n",
       "    </tr>\n",
       "    <tr>\n",
       "      <th>...</th>\n",
       "      <td>...</td>\n",
       "      <td>...</td>\n",
       "      <td>...</td>\n",
       "      <td>...</td>\n",
       "      <td>...</td>\n",
       "    </tr>\n",
       "    <tr>\n",
       "      <th>5567</th>\n",
       "      <td>spam</td>\n",
       "      <td>This is the 2nd time we have tried 2 contact u...</td>\n",
       "      <td>NaN</td>\n",
       "      <td>NaN</td>\n",
       "      <td>NaN</td>\n",
       "    </tr>\n",
       "    <tr>\n",
       "      <th>5568</th>\n",
       "      <td>ham</td>\n",
       "      <td>Will Ì_ b going to esplanade fr home?</td>\n",
       "      <td>NaN</td>\n",
       "      <td>NaN</td>\n",
       "      <td>NaN</td>\n",
       "    </tr>\n",
       "    <tr>\n",
       "      <th>5569</th>\n",
       "      <td>ham</td>\n",
       "      <td>Pity, * was in mood for that. So...any other s...</td>\n",
       "      <td>NaN</td>\n",
       "      <td>NaN</td>\n",
       "      <td>NaN</td>\n",
       "    </tr>\n",
       "    <tr>\n",
       "      <th>5570</th>\n",
       "      <td>ham</td>\n",
       "      <td>The guy did some bitching but I acted like i'd...</td>\n",
       "      <td>NaN</td>\n",
       "      <td>NaN</td>\n",
       "      <td>NaN</td>\n",
       "    </tr>\n",
       "    <tr>\n",
       "      <th>5571</th>\n",
       "      <td>ham</td>\n",
       "      <td>Rofl. Its true to its name</td>\n",
       "      <td>NaN</td>\n",
       "      <td>NaN</td>\n",
       "      <td>NaN</td>\n",
       "    </tr>\n",
       "  </tbody>\n",
       "</table>\n",
       "<p>5572 rows × 5 columns</p>\n",
       "</div>"
      ],
      "text/plain": [
       "        v1                                                 v2 Unnamed: 2  \\\n",
       "0      ham  Go until jurong point, crazy.. Available only ...        NaN   \n",
       "1      ham                      Ok lar... Joking wif u oni...        NaN   \n",
       "2     spam  Free entry in 2 a wkly comp to win FA Cup fina...        NaN   \n",
       "3      ham  U dun say so early hor... U c already then say...        NaN   \n",
       "4      ham  Nah I don't think he goes to usf, he lives aro...        NaN   \n",
       "...    ...                                                ...        ...   \n",
       "5567  spam  This is the 2nd time we have tried 2 contact u...        NaN   \n",
       "5568   ham              Will Ì_ b going to esplanade fr home?        NaN   \n",
       "5569   ham  Pity, * was in mood for that. So...any other s...        NaN   \n",
       "5570   ham  The guy did some bitching but I acted like i'd...        NaN   \n",
       "5571   ham                         Rofl. Its true to its name        NaN   \n",
       "\n",
       "     Unnamed: 3 Unnamed: 4  \n",
       "0           NaN        NaN  \n",
       "1           NaN        NaN  \n",
       "2           NaN        NaN  \n",
       "3           NaN        NaN  \n",
       "4           NaN        NaN  \n",
       "...         ...        ...  \n",
       "5567        NaN        NaN  \n",
       "5568        NaN        NaN  \n",
       "5569        NaN        NaN  \n",
       "5570        NaN        NaN  \n",
       "5571        NaN        NaN  \n",
       "\n",
       "[5572 rows x 5 columns]"
      ]
     },
     "execution_count": 5,
     "metadata": {},
     "output_type": "execute_result"
    }
   ],
   "source": [
    "# loading sms data\n",
    "data = pd.read_csv('spam.csv', encoding='latin-1')\n",
    "data"
   ]
  },
  {
   "cell_type": "code",
   "execution_count": 6,
   "metadata": {
    "colab": {
     "base_uri": "https://localhost:8080/"
    },
    "executionInfo": {
     "elapsed": 394,
     "status": "ok",
     "timestamp": 1643133727478,
     "user": {
      "displayName": "Ishan Hitesh Malkan",
      "photoUrl": "https://lh3.googleusercontent.com/a/default-user=s64",
      "userId": "17234277619718362545"
     },
     "user_tz": -330
    },
    "id": "xHcqeScSZnQ1",
    "outputId": "be58201d-a9da-446f-8206-00f3a78629b1"
   },
   "outputs": [
    {
     "data": {
      "text/plain": [
       "ham     4825\n",
       "spam     747\n",
       "Name: v1, dtype: int64"
      ]
     },
     "execution_count": 6,
     "metadata": {},
     "output_type": "execute_result"
    }
   ],
   "source": [
    "# checking the distribution of the target variable\n",
    "data[\"v1\"].value_counts()"
   ]
  },
  {
   "cell_type": "code",
   "execution_count": 7,
   "metadata": {
    "executionInfo": {
     "elapsed": 409,
     "status": "ok",
     "timestamp": 1643132986063,
     "user": {
      "displayName": "Ishan Hitesh Malkan",
      "photoUrl": "https://lh3.googleusercontent.com/a/default-user=s64",
      "userId": "17234277619718362545"
     },
     "user_tz": -330
    },
    "id": "w0bL7fsfUc94"
   },
   "outputs": [],
   "source": [
    "# pre processing text\n",
    "def text_pre_processing(sms):\n",
    "    \n",
    "    # removing punctuations\n",
    "    sms_wo_punct = [x for x in sms if x not in string.punctuation]\n",
    "    sms_wo_punct = ''.join(sms_wo_punct)\n",
    "    \n",
    "    # keeping only english letters\n",
    "    sms_wo_punct_only_words = [x for x in sms_wo_punct if x.isalpha() or x == \" \"]\n",
    "    sms_wo_punct_only_words = ''.join(sms_wo_punct_only_words)\n",
    "    \n",
    "    # converting the data to lower case\n",
    "    sms_wo_punct_only_words_lc = sms_wo_punct_only_words.lower()\n",
    "    \n",
    "    # removing stopwords\n",
    "    sms_wo_punct_only_words_lc = sms_wo_punct_only_words_lc.split(\" \")\n",
    "    sms_wo_punct_only_words_lc_wo_sw = [x for x in sms_wo_punct_only_words_lc if x not in stopwords.words('english')]\n",
    "    sms_wo_punct_only_words_lc_wo_sw = ' '.join(sms_wo_punct_only_words_lc_wo_sw)\n",
    "    \n",
    "    return sms_wo_punct_only_words_lc_wo_sw"
   ]
  },
  {
   "cell_type": "code",
   "execution_count": 8,
   "metadata": {
    "colab": {
     "base_uri": "https://localhost:8080/",
     "height": 441
    },
    "executionInfo": {
     "elapsed": 25787,
     "status": "ok",
     "timestamp": 1643133134292,
     "user": {
      "displayName": "Ishan Hitesh Malkan",
      "photoUrl": "https://lh3.googleusercontent.com/a/default-user=s64",
      "userId": "17234277619718362545"
     },
     "user_tz": -330
    },
    "id": "-4d7V050Vy2b",
    "outputId": "ced43e4a-01a6-4ec1-e5ab-a01bbd80405a"
   },
   "outputs": [
    {
     "name": "stderr",
     "output_type": "stream",
     "text": [
      "100%|█████████████████████████████████████████████████████████████████████████████| 5572/5572 [00:39<00:00, 141.78it/s]\n"
     ]
    },
    {
     "data": {
      "text/html": [
       "<div>\n",
       "<style scoped>\n",
       "    .dataframe tbody tr th:only-of-type {\n",
       "        vertical-align: middle;\n",
       "    }\n",
       "\n",
       "    .dataframe tbody tr th {\n",
       "        vertical-align: top;\n",
       "    }\n",
       "\n",
       "    .dataframe thead th {\n",
       "        text-align: right;\n",
       "    }\n",
       "</style>\n",
       "<table border=\"1\" class=\"dataframe\">\n",
       "  <thead>\n",
       "    <tr style=\"text-align: right;\">\n",
       "      <th></th>\n",
       "      <th>pre_processed_sms</th>\n",
       "    </tr>\n",
       "  </thead>\n",
       "  <tbody>\n",
       "    <tr>\n",
       "      <th>0</th>\n",
       "      <td>go jurong point crazy available bugis n great ...</td>\n",
       "    </tr>\n",
       "    <tr>\n",
       "      <th>1</th>\n",
       "      <td>ok lar joking wif u oni</td>\n",
       "    </tr>\n",
       "    <tr>\n",
       "      <th>2</th>\n",
       "      <td>free entry  wkly comp win fa cup final tkts st...</td>\n",
       "    </tr>\n",
       "    <tr>\n",
       "      <th>3</th>\n",
       "      <td>u dun say early hor u c already say</td>\n",
       "    </tr>\n",
       "    <tr>\n",
       "      <th>4</th>\n",
       "      <td>nah dont think goes usf lives around though</td>\n",
       "    </tr>\n",
       "    <tr>\n",
       "      <th>...</th>\n",
       "      <td>...</td>\n",
       "    </tr>\n",
       "    <tr>\n",
       "      <th>5567</th>\n",
       "      <td>nd time tried  contact u u å pound prize  clai...</td>\n",
       "    </tr>\n",
       "    <tr>\n",
       "      <th>5568</th>\n",
       "      <td>ì b going esplanade fr home</td>\n",
       "    </tr>\n",
       "    <tr>\n",
       "      <th>5569</th>\n",
       "      <td>pity  mood soany suggestions</td>\n",
       "    </tr>\n",
       "    <tr>\n",
       "      <th>5570</th>\n",
       "      <td>guy bitching acted like id interested buying s...</td>\n",
       "    </tr>\n",
       "    <tr>\n",
       "      <th>5571</th>\n",
       "      <td>rofl true name</td>\n",
       "    </tr>\n",
       "  </tbody>\n",
       "</table>\n",
       "<p>5572 rows × 1 columns</p>\n",
       "</div>"
      ],
      "text/plain": [
       "                                      pre_processed_sms\n",
       "0     go jurong point crazy available bugis n great ...\n",
       "1                               ok lar joking wif u oni\n",
       "2     free entry  wkly comp win fa cup final tkts st...\n",
       "3                   u dun say early hor u c already say\n",
       "4           nah dont think goes usf lives around though\n",
       "...                                                 ...\n",
       "5567  nd time tried  contact u u å pound prize  clai...\n",
       "5568                        ì b going esplanade fr home\n",
       "5569                       pity  mood soany suggestions\n",
       "5570  guy bitching acted like id interested buying s...\n",
       "5571                                     rofl true name\n",
       "\n",
       "[5572 rows x 1 columns]"
      ]
     },
     "execution_count": 8,
     "metadata": {},
     "output_type": "execute_result"
    }
   ],
   "source": [
    "# pre processed sms\n",
    "data_processed = pd.DataFrame(columns = [\"pre_processed_sms\"])\n",
    "for i in tqdm(data[\"v2\"]):\n",
    "    data_processed = data_processed.append({\"pre_processed_sms\": text_pre_processing(i)}, ignore_index = True)\n",
    "data_processed"
   ]
  },
  {
   "cell_type": "code",
   "execution_count": 9,
   "metadata": {
    "executionInfo": {
     "elapsed": 435,
     "status": "ok",
     "timestamp": 1643133216892,
     "user": {
      "displayName": "Ishan Hitesh Malkan",
      "photoUrl": "https://lh3.googleusercontent.com/a/default-user=s64",
      "userId": "17234277619718362545"
     },
     "user_tz": -330
    },
    "id": "eJsxAGU9XNNk"
   },
   "outputs": [],
   "source": [
    "# Splitting into train and test\n",
    "x_train, x_test, y_train, y_test = train_test_split(data_processed, data[\"v1\"], test_size = 0.20, random_state = 100)\n",
    "x_train = x_train.reset_index(drop = True)\n",
    "x_test = x_test.reset_index(drop = True)\n",
    "y_train = y_train.reset_index(drop = True)\n",
    "y_test = y_test.reset_index(drop = True)"
   ]
  },
  {
   "cell_type": "code",
   "execution_count": 10,
   "metadata": {
    "colab": {
     "base_uri": "https://localhost:8080/"
    },
    "executionInfo": {
     "elapsed": 532,
     "status": "ok",
     "timestamp": 1643133274963,
     "user": {
      "displayName": "Ishan Hitesh Malkan",
      "photoUrl": "https://lh3.googleusercontent.com/a/default-user=s64",
      "userId": "17234277619718362545"
     },
     "user_tz": -330
    },
    "id": "hmJ4sSz2XyJh",
    "outputId": "5461b54e-a06f-4897-8ce9-14a64c6b7f52"
   },
   "outputs": [
    {
     "ename": "TypeError",
     "evalue": "__init__() got an unexpected keyword argument 'size'",
     "output_type": "error",
     "traceback": [
      "\u001b[1;31m---------------------------------------------------------------------------\u001b[0m",
      "\u001b[1;31mTypeError\u001b[0m                                 Traceback (most recent call last)",
      "\u001b[1;32m~\\AppData\\Local\\Temp/ipykernel_11296/405260647.py\u001b[0m in \u001b[0;36m<module>\u001b[1;34m\u001b[0m\n\u001b[0;32m      1\u001b[0m \u001b[1;31m# Using word to vec\u001b[0m\u001b[1;33m\u001b[0m\u001b[1;33m\u001b[0m\u001b[1;33m\u001b[0m\u001b[0m\n\u001b[1;32m----> 2\u001b[1;33m \u001b[0malg\u001b[0m \u001b[1;33m=\u001b[0m \u001b[0mWord2Vec\u001b[0m\u001b[1;33m(\u001b[0m\u001b[0msize\u001b[0m \u001b[1;33m=\u001b[0m \u001b[1;36m500\u001b[0m\u001b[1;33m,\u001b[0m \u001b[0mmin_count\u001b[0m \u001b[1;33m=\u001b[0m \u001b[1;36m1\u001b[0m\u001b[1;33m)\u001b[0m\u001b[1;33m\u001b[0m\u001b[1;33m\u001b[0m\u001b[0m\n\u001b[0m\u001b[0;32m      3\u001b[0m \u001b[0malg\u001b[0m\u001b[1;33m.\u001b[0m\u001b[0mbuild_vocab\u001b[0m\u001b[1;33m(\u001b[0m\u001b[0mx_train\u001b[0m\u001b[1;33m)\u001b[0m\u001b[1;33m\u001b[0m\u001b[1;33m\u001b[0m\u001b[0m\n\u001b[0;32m      4\u001b[0m \u001b[0malg\u001b[0m\u001b[1;33m.\u001b[0m\u001b[0mtrain\u001b[0m\u001b[1;33m(\u001b[0m\u001b[0mx_train\u001b[0m\u001b[1;33m,\u001b[0m \u001b[0mtotal_examples\u001b[0m \u001b[1;33m=\u001b[0m \u001b[0mlen\u001b[0m\u001b[1;33m(\u001b[0m\u001b[0mx_train\u001b[0m\u001b[1;33m)\u001b[0m\u001b[1;33m,\u001b[0m \u001b[0mepochs\u001b[0m \u001b[1;33m=\u001b[0m \u001b[0malg\u001b[0m\u001b[1;33m.\u001b[0m\u001b[0mepochs\u001b[0m\u001b[1;33m)\u001b[0m\u001b[1;33m\u001b[0m\u001b[1;33m\u001b[0m\u001b[0m\n",
      "\u001b[1;31mTypeError\u001b[0m: __init__() got an unexpected keyword argument 'size'"
     ]
    }
   ],
   "source": [
    "# Using word to vec\n",
    "alg = Word2Vec(size = 500, min_count = 1)\n",
    "alg.build_vocab(x_train)\n",
    "alg.train(x_train, total_examples = len(x_train), epochs = alg.epochs)"
   ]
  },
  {
   "cell_type": "code",
   "execution_count": null,
   "metadata": {
    "executionInfo": {
     "elapsed": 392,
     "status": "ok",
     "timestamp": 1643133407954,
     "user": {
      "displayName": "Ishan Hitesh Malkan",
      "photoUrl": "https://lh3.googleusercontent.com/a/default-user=s64",
      "userId": "17234277619718362545"
     },
     "user_tz": -330
    },
    "id": "ye9KbmleYAVz"
   },
   "outputs": [],
   "source": [
    "# converting words to vector\n",
    "def convert_word_to_vector(sms, size):\n",
    "    vec = np.zeros(500).reshape((1, 500))\n",
    "    count = 0\n",
    "    for word in sms:\n",
    "        try:\n",
    "            vec += alg[word].reshape((1, size))\n",
    "            count += 1.\n",
    "        except KeyError:\n",
    "            continue\n",
    "    if count != 0:\n",
    "        vec /= count\n",
    "    return vec"
   ]
  },
  {
   "cell_type": "code",
   "execution_count": null,
   "metadata": {
    "colab": {
     "base_uri": "https://localhost:8080/"
    },
    "executionInfo": {
     "elapsed": 2831,
     "status": "ok",
     "timestamp": 1643133483702,
     "user": {
      "displayName": "Ishan Hitesh Malkan",
      "photoUrl": "https://lh3.googleusercontent.com/a/default-user=s64",
      "userId": "17234277619718362545"
     },
     "user_tz": -330
    },
    "id": "U-MBPHvIYg0p",
    "outputId": "a5f5dfb5-b74b-46fb-cfcd-91cc20616c71"
   },
   "outputs": [],
   "source": [
    "# converting training and testing to vectors\n",
    "x_train_vecs = scale(np.concatenate([convert_word_to_vector(z, 500) for z in x_train[\"pre_processed_sms\"]]))\n",
    "x_test_vecs = scale(np.concatenate([convert_word_to_vector(z, 500) for z in x_test[\"pre_processed_sms\"]]))"
   ]
  },
  {
   "cell_type": "code",
   "execution_count": null,
   "metadata": {
    "colab": {
     "base_uri": "https://localhost:8080/"
    },
    "executionInfo": {
     "elapsed": 88190,
     "status": "ok",
     "timestamp": 1643133617832,
     "user": {
      "displayName": "Ishan Hitesh Malkan",
      "photoUrl": "https://lh3.googleusercontent.com/a/default-user=s64",
      "userId": "17234277619718362545"
     },
     "user_tz": -330
    },
    "id": "U8HuX00IYysM",
    "outputId": "f9a2d616-d42b-4b6f-9be0-0ef83b1198e2"
   },
   "outputs": [],
   "source": [
    "# training a gradient boosting classifier\n",
    "clf = GradientBoostingClassifier(n_estimators = 100, max_depth = 3, random_state = 100)\n",
    "clf.fit(x_train_vecs, y_train)"
   ]
  },
  {
   "cell_type": "code",
   "execution_count": null,
   "metadata": {
    "colab": {
     "base_uri": "https://localhost:8080/"
    },
    "executionInfo": {
     "elapsed": 426,
     "status": "ok",
     "timestamp": 1643133674998,
     "user": {
      "displayName": "Ishan Hitesh Malkan",
      "photoUrl": "https://lh3.googleusercontent.com/a/default-user=s64",
      "userId": "17234277619718362545"
     },
     "user_tz": -330
    },
    "id": "hriCvOX2Y-mF",
    "outputId": "0b81aae5-cbcf-4f20-98ac-16f034c9b288"
   },
   "outputs": [],
   "source": [
    "# training confusion matrix\n",
    "y_train_pred = clf.predict(x_train_vecs)\n",
    "confusion_matrix(y_train,y_train_pred)"
   ]
  },
  {
   "cell_type": "code",
   "execution_count": null,
   "metadata": {
    "colab": {
     "base_uri": "https://localhost:8080/"
    },
    "executionInfo": {
     "elapsed": 5,
     "status": "ok",
     "timestamp": 1643133679445,
     "user": {
      "displayName": "Ishan Hitesh Malkan",
      "photoUrl": "https://lh3.googleusercontent.com/a/default-user=s64",
      "userId": "17234277619718362545"
     },
     "user_tz": -330
    },
    "id": "1nWvhm5vZCbi",
    "outputId": "47bb4460-67f7-4e9d-dbac-d4ae59fcf651"
   },
   "outputs": [],
   "source": [
    "# testing confusion matrix\n",
    "y_test_pred = clf.predict(x_test_vecs)\n",
    "confusion_matrix(y_test,y_test_pred)"
   ]
  },
  {
   "cell_type": "markdown",
   "metadata": {
    "id": "vLCE5mBAZKDC"
   },
   "source": [
    "# Recommender Systems"
   ]
  },
  {
   "cell_type": "code",
   "execution_count": null,
   "metadata": {
    "colab": {
     "base_uri": "https://localhost:8080/",
     "height": 1000
    },
    "executionInfo": {
     "elapsed": 3047,
     "status": "ok",
     "timestamp": 1643133770380,
     "user": {
      "displayName": "Ishan Hitesh Malkan",
      "photoUrl": "https://lh3.googleusercontent.com/a/default-user=s64",
      "userId": "17234277619718362545"
     },
     "user_tz": -330
    },
    "id": "uPe-nsC9ZNWs",
    "outputId": "20d43cca-b49e-4518-a9b3-1d82764f98b6"
   },
   "outputs": [],
   "source": [
    "# loading the dataset\n",
    "df = pd.read_csv('movies_metadata.csv')\n",
    "df"
   ]
  },
  {
   "cell_type": "code",
   "execution_count": null,
   "metadata": {
    "colab": {
     "base_uri": "https://localhost:8080/"
    },
    "executionInfo": {
     "elapsed": 380,
     "status": "ok",
     "timestamp": 1643134338159,
     "user": {
      "displayName": "Ishan Hitesh Malkan",
      "photoUrl": "https://lh3.googleusercontent.com/a/default-user=s64",
      "userId": "17234277619718362545"
     },
     "user_tz": -330
    },
    "id": "1zv2L8cCZ4l9",
    "outputId": "a599970b-e6f2-4d78-f77d-6f60d077880f"
   },
   "outputs": [],
   "source": [
    "# checking percentage null for each columns\n",
    "round(100*(df.isnull().sum()/len(df.index)), 2)"
   ]
  },
  {
   "cell_type": "code",
   "execution_count": null,
   "metadata": {
    "colab": {
     "base_uri": "https://localhost:8080/"
    },
    "executionInfo": {
     "elapsed": 375,
     "status": "ok",
     "timestamp": 1643134674594,
     "user": {
      "displayName": "Ishan Hitesh Malkan",
      "photoUrl": "https://lh3.googleusercontent.com/a/default-user=s64",
      "userId": "17234277619718362545"
     },
     "user_tz": -330
    },
    "id": "dEEa3F26dOao",
    "outputId": "79f26aa9-8e74-45e6-a51a-b259ebf3b8df"
   },
   "outputs": [],
   "source": [
    "# checking the information about each column\n",
    "df.info()"
   ]
  },
  {
   "cell_type": "code",
   "execution_count": null,
   "metadata": {
    "colab": {
     "base_uri": "https://localhost:8080/"
    },
    "executionInfo": {
     "elapsed": 648,
     "status": "ok",
     "timestamp": 1643134875457,
     "user": {
      "displayName": "Ishan Hitesh Malkan",
      "photoUrl": "https://lh3.googleusercontent.com/a/default-user=s64",
      "userId": "17234277619718362545"
     },
     "user_tz": -330
    },
    "id": "NTB-FM52aGLx",
    "outputId": "f626452f-8311-4257-eef2-e95b84903664"
   },
   "outputs": [],
   "source": [
    "# creating a budget - revenue column to calculate profit\n",
    "# but as visible above, the budget column is of object type which is needed to be converted to float first\n",
    "df['budget'] = pd.to_numeric(df['budget'], errors='coerce')\n",
    "df.info()"
   ]
  },
  {
   "cell_type": "code",
   "execution_count": null,
   "metadata": {
    "executionInfo": {
     "elapsed": 374,
     "status": "ok",
     "timestamp": 1643134882297,
     "user": {
      "displayName": "Ishan Hitesh Malkan",
      "photoUrl": "https://lh3.googleusercontent.com/a/default-user=s64",
      "userId": "17234277619718362545"
     },
     "user_tz": -330
    },
    "id": "tG41yMp-aJ5J"
   },
   "outputs": [],
   "source": [
    "df['profit'] = df['budget'] - df['revenue']"
   ]
  },
  {
   "cell_type": "code",
   "execution_count": null,
   "metadata": {
    "colab": {
     "base_uri": "https://localhost:8080/",
     "height": 1000
    },
    "executionInfo": {
     "elapsed": 401,
     "status": "ok",
     "timestamp": 1643134942451,
     "user": {
      "displayName": "Ishan Hitesh Malkan",
      "photoUrl": "https://lh3.googleusercontent.com/a/default-user=s64",
      "userId": "17234277619718362545"
     },
     "user_tz": -330
    },
    "id": "u-DWh6IDaSe3",
    "outputId": "72417ab9-1bf1-4886-d4e9-afdd8ff7e671"
   },
   "outputs": [],
   "source": [
    "# checking the top profit movies\n",
    "df = df.sort_values('profit', ascending = False)\n",
    "df"
   ]
  },
  {
   "cell_type": "code",
   "execution_count": null,
   "metadata": {
    "id": "gFA9Q3sYeXVF"
   },
   "outputs": [],
   "source": []
  }
 ],
 "metadata": {
  "colab": {
   "authorship_tag": "ABX9TyP83puIbR/ltdrwosAlywdC",
   "collapsed_sections": [],
   "name": "Demo 9 Ishan.ipynb",
   "provenance": []
  },
  "kernelspec": {
   "display_name": "Python 3 (ipykernel)",
   "language": "python",
   "name": "python3"
  },
  "language_info": {
   "codemirror_mode": {
    "name": "ipython",
    "version": 3
   },
   "file_extension": ".py",
   "mimetype": "text/x-python",
   "name": "python",
   "nbconvert_exporter": "python",
   "pygments_lexer": "ipython3",
   "version": "3.8.12"
  }
 },
 "nbformat": 4,
 "nbformat_minor": 1
}
