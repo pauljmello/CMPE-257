{
 "cells": [
  {
   "cell_type": "code",
   "execution_count": 1,
   "id": "8f545b69",
   "metadata": {},
   "outputs": [],
   "source": [
    "# Paul-Jason Mello\n",
    "# Professor Shim\n",
    "# CMPE 257\n",
    "# May 5th, 2022"
   ]
  },
  {
   "cell_type": "markdown",
   "id": "31708f12",
   "metadata": {
    "id": "31708f12"
   },
   "source": [
    "# Recurrent Neural Networks and Long Short Term Memory"
   ]
  },
  {
   "cell_type": "code",
   "execution_count": 2,
   "id": "c107e0d0",
   "metadata": {},
   "outputs": [],
   "source": [
    "import numpy as np\n",
    "import pandas as pd\n",
    "\n",
    "from tensorflow import keras\n",
    "from tensorflow.keras import layers"
   ]
  },
  {
   "cell_type": "markdown",
   "id": "adf12abc",
   "metadata": {
    "id": "adf12abc"
   },
   "source": [
    "## 1. What is meant by Recurrent Neural Networks?"
   ]
  },
  {
   "cell_type": "code",
   "execution_count": 3,
   "id": "6978b6aa",
   "metadata": {},
   "outputs": [],
   "source": [
    "# Recurrent Neural Networks (RNN)\n",
    "# \n",
    "# An RNN is essentially a recursive neural network which feeds the previous models output into a new model as input. This\n",
    "# creates an interesting dynamic where each network result is not independent of the last. Traditionally speaking, RNN's are\n",
    "# used to remember previous information from past states. In this regard they remind me of reinforcement learning models\n",
    "# for their \"state, action, reward\" concept of remembering the previous states. "
   ]
  },
  {
   "cell_type": "markdown",
   "id": "20c2ff04",
   "metadata": {
    "id": "20c2ff04"
   },
   "source": [
    "## 2. What is meant by vanishing and exploding gradient and why is that a problem in RNN?"
   ]
  },
  {
   "cell_type": "code",
   "execution_count": 4,
   "id": "a23d16b1",
   "metadata": {},
   "outputs": [],
   "source": [
    "# Exploding and Vanishing Gradient (EVGP)\n",
    "# \n",
    "# The vanishing gradient problem essentially states that using certain activation functions will result in a collapsing\n",
    "# or exploding gradient. What this means is that when we backpropogate through the network to update neuron weights the \n",
    "# gradient may collapse to zero or explode. In either case this ruins the models ability to properly generalize. RNN's\n",
    "# suffer from this by using sigmoid and tan functions in tandum leading to bad results over the span of the RNN."
   ]
  },
  {
   "cell_type": "markdown",
   "id": "3e819185",
   "metadata": {
    "id": "3e819185"
   },
   "source": [
    "## 3. What is meant by Long Short Term Memory?"
   ]
  },
  {
   "cell_type": "code",
   "execution_count": 5,
   "id": "d73a04fc",
   "metadata": {},
   "outputs": [],
   "source": [
    "# Long Short Term Memory (LSTM)\n",
    "# \n",
    "# Long Short Term Memory solves the vanishing gradient problem in RNN's. Essentially, there is a memory cell that does \n",
    "# not forget its state. Along with the incorporation of circuit principles LSTM's act as a means of regulating the flow\n",
    "# of information. This is an upgrade from RNN's as it uses nearly identical architecture. "
   ]
  },
  {
   "cell_type": "markdown",
   "id": "06c8e007",
   "metadata": {
    "id": "06c8e007"
   },
   "source": [
    "## 4. What is meant by Gated Recurrent Unit?"
   ]
  },
  {
   "cell_type": "code",
   "execution_count": 6,
   "id": "2815ee85",
   "metadata": {},
   "outputs": [],
   "source": [
    "# Gated Recurrent Unit (GRU)\n",
    "# \n",
    "# A Gated Recurrent Unit, like the LSTM, attempts to solve the vanishing gradient problem in RNN's. Essentially, 2 gates\n",
    "# controls what information should be passed and what information should be forgotton between each \"hidden layer\" in the\n",
    "# RNN architecture. This helps prevent the vanishing gradient problem as it acts like backpropogation in LSTM."
   ]
  },
  {
   "cell_type": "markdown",
   "id": "d99da681",
   "metadata": {
    "id": "d99da681"
   },
   "source": [
    "## 5. Train a bi-directional LSTM on imdb movies sentiment dataset from keras (tutorial available on its website, follow that tutorial) (https://keras.io/examples/nlp/bidirectional_lstm_imdb/)"
   ]
  },
  {
   "cell_type": "code",
   "execution_count": 7,
   "id": "d43fe7e1",
   "metadata": {},
   "outputs": [
    {
     "name": "stderr",
     "output_type": "stream",
     "text": [
      "<__array_function__ internals>:5: VisibleDeprecationWarning: Creating an ndarray from ragged nested sequences (which is a list-or-tuple of lists-or-tuples-or ndarrays with different lengths or shapes) is deprecated. If you meant to do this, you must specify 'dtype=object' when creating the ndarray\n",
      "C:\\Users\\GIGA\\anaconda3\\lib\\site-packages\\tensorflow\\python\\keras\\datasets\\imdb.py:159: VisibleDeprecationWarning: Creating an ndarray from ragged nested sequences (which is a list-or-tuple of lists-or-tuples-or ndarrays with different lengths or shapes) is deprecated. If you meant to do this, you must specify 'dtype=object' when creating the ndarray\n",
      "  x_train, y_train = np.array(xs[:idx]), np.array(labels[:idx])\n",
      "C:\\Users\\GIGA\\anaconda3\\lib\\site-packages\\tensorflow\\python\\keras\\datasets\\imdb.py:160: VisibleDeprecationWarning: Creating an ndarray from ragged nested sequences (which is a list-or-tuple of lists-or-tuples-or ndarrays with different lengths or shapes) is deprecated. If you meant to do this, you must specify 'dtype=object' when creating the ndarray\n",
      "  x_test, y_test = np.array(xs[idx:]), np.array(labels[idx:])\n"
     ]
    }
   ],
   "source": [
    "(X_train, Y_train), (X_valid, Y_valid) = keras.datasets.imdb.load_data(num_words = 15000)"
   ]
  },
  {
   "cell_type": "code",
   "execution_count": 8,
   "id": "RP7PAJYHNHu9",
   "metadata": {
    "id": "RP7PAJYHNHu9",
    "scrolled": false
   },
   "outputs": [],
   "source": [
    "dataInput = keras.Input(shape = (None,), dtype = \"int32\")\n",
    "\n",
    "val = layers.Embedding(15000, 128)(dataInput)\n",
    "val = layers.Bidirectional(layers.LSTM(64, return_sequences = True))(val)\n",
    "val = layers.Bidirectional(layers.LSTM(64))(val)\n",
    "\n",
    "dataOutput = layers.Dense(1, activation = \"sigmoid\")(val)"
   ]
  },
  {
   "cell_type": "code",
   "execution_count": 9,
   "id": "c67082f9",
   "metadata": {},
   "outputs": [
    {
     "name": "stdout",
     "output_type": "stream",
     "text": [
      "Model: \"functional_1\"\n",
      "_________________________________________________________________\n",
      "Layer (type)                 Output Shape              Param #   \n",
      "=================================================================\n",
      "input_1 (InputLayer)         [(None, None)]            0         \n",
      "_________________________________________________________________\n",
      "embedding (Embedding)        (None, None, 128)         1920000   \n",
      "_________________________________________________________________\n",
      "bidirectional (Bidirectional (None, None, 128)         98816     \n",
      "_________________________________________________________________\n",
      "bidirectional_1 (Bidirection (None, 128)               98816     \n",
      "_________________________________________________________________\n",
      "dense (Dense)                (None, 1)                 129       \n",
      "=================================================================\n",
      "Total params: 2,117,761\n",
      "Trainable params: 2,117,761\n",
      "Non-trainable params: 0\n",
      "_________________________________________________________________\n"
     ]
    }
   ],
   "source": [
    "model = keras.Model(dataInput, dataOutput)\n",
    "model.compile(\"Adamax\", \"binary_crossentropy\", metrics = [\"accuracy\"])\n",
    "model.summary()"
   ]
  },
  {
   "cell_type": "code",
   "execution_count": 10,
   "id": "d7090fb8",
   "metadata": {},
   "outputs": [
    {
     "name": "stdout",
     "output_type": "stream",
     "text": [
      "25000\n",
      "25000\n"
     ]
    }
   ],
   "source": [
    "print(len(X_train))\n",
    "print(len(X_valid))"
   ]
  },
  {
   "cell_type": "code",
   "execution_count": 11,
   "id": "976fc875",
   "metadata": {},
   "outputs": [],
   "source": [
    "X_train = keras.preprocessing.sequence.pad_sequences(X_train, maxlen = 150)\n",
    "X_valid = keras.preprocessing.sequence.pad_sequences(X_valid, maxlen = 150)"
   ]
  },
  {
   "cell_type": "code",
   "execution_count": 12,
   "id": "6b6422be",
   "metadata": {},
   "outputs": [
    {
     "name": "stdout",
     "output_type": "stream",
     "text": [
      "Epoch 1/5\n",
      "391/391 [==============================] - 107s 274ms/step - loss: 0.4289 - accuracy: 0.7897 - val_loss: 0.3129 - val_accuracy: 0.8662\n",
      "Epoch 2/5\n",
      "391/391 [==============================] - 109s 280ms/step - loss: 0.2669 - accuracy: 0.8914 - val_loss: 0.3025 - val_accuracy: 0.8706\n",
      "Epoch 3/5\n",
      "391/391 [==============================] - 109s 279ms/step - loss: 0.2126 - accuracy: 0.9171 - val_loss: 0.3093 - val_accuracy: 0.8668\n",
      "Epoch 4/5\n",
      "391/391 [==============================] - 110s 280ms/step - loss: 0.1733 - accuracy: 0.9364 - val_loss: 0.3372 - val_accuracy: 0.8641\n",
      "Epoch 5/5\n",
      "391/391 [==============================] - 111s 285ms/step - loss: 0.1391 - accuracy: 0.9520 - val_loss: 0.3541 - val_accuracy: 0.8612\n"
     ]
    },
    {
     "data": {
      "text/plain": [
       "<tensorflow.python.keras.callbacks.History at 0x1541cc160a0>"
      ]
     },
     "execution_count": 12,
     "metadata": {},
     "output_type": "execute_result"
    }
   ],
   "source": [
    "model.fit(X_train, Y_train, batch_size = 64, epochs = 5, validation_data = (X_valid, Y_valid))"
   ]
  },
  {
   "cell_type": "code",
   "execution_count": 13,
   "id": "281358f4",
   "metadata": {},
   "outputs": [],
   "source": [
    "# We can see that after the third epoch of training our model actually falls in terms of validation loss. As a result,\n",
    "# the best model, fit for generalization at least, would be the results of epoch 2. Any training past that results\n",
    "# in overfitting for the data set. Despite this will never achieved better than 90% accuracy which is likely the result\n",
    "# of me deciding to use a smaller number of inputs and layer counts."
   ]
  }
 ],
 "metadata": {
  "colab": {
   "collapsed_sections": [],
   "name": "HW 12 Ishan.ipynb",
   "provenance": []
  },
  "kernelspec": {
   "display_name": "Python 3 (ipykernel)",
   "language": "python",
   "name": "python3"
  },
  "language_info": {
   "codemirror_mode": {
    "name": "ipython",
    "version": 3
   },
   "file_extension": ".py",
   "mimetype": "text/x-python",
   "name": "python",
   "nbconvert_exporter": "python",
   "pygments_lexer": "ipython3",
   "version": "3.9.12"
  }
 },
 "nbformat": 4,
 "nbformat_minor": 5
}
